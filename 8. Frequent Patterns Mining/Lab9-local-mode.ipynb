{
 "cells": [
  {
   "cell_type": "markdown",
   "metadata": {},
   "source": [
    "## DS/CMPSC 410 MiniProject #1\n",
    "\n",
    "### Spring 2021\n",
    "### Instructor: John Yen\n",
    "### TA: Dongkuan Xu, Rupesh Prajapati\n",
    "### Learning Objectives\n",
    "- Be able to identify frequent 2 port sets and 3 port sets that are scanned by scanners in the Darknet dataset\n",
    "- Be able to improve the frequent port set mining algorithm by adding suitable filtering\n",
    "- Be able to improve the performance of frequent port set mining by suitable reuse of RDD, together with appropriate persist and unpersist on the reused RDD.\n",
    "\n",
    "### Total points: 100 \n",
    "- Exercise 1: 10 points\n",
    "- Exercise 2: 10 points\n",
    "- Exercise 3: 20 points\n",
    "- Exercise 4: 20 points\n",
    "- Exercise 5: 10 points\n",
    "- Exercise 6: 30 points (run spark-submit on a large Dataset)\n",
    "\n",
    "### Submit the following items for this mini project deliverable:\n",
    "- Completed Jupyter Notebook (including answers to Exercise 9.1 to 9.5; in HTML or PDF format)\n",
    "- The python file (.py) used for spark-submit\n",
    "- The output file that contains counts of 2-port sets and 3-port sets.\n",
    "- The log file of spark-submit that shows the CPU time for completing the spark-submit job.\n",
    "  \n",
    "### Due: midnight, April 2, 2021"
   ]
  },
  {
   "cell_type": "code",
   "execution_count": 1,
   "metadata": {},
   "outputs": [],
   "source": [
    "import pyspark\n",
    "import csv\n",
    "import pandas as pd"
   ]
  },
  {
   "cell_type": "code",
   "execution_count": 2,
   "metadata": {},
   "outputs": [],
   "source": [
    "from pyspark import SparkContext\n",
    "from pyspark.sql import SparkSession\n",
    "from pyspark.sql.types import StructField, StructType, StringType, LongType\n",
    "from pyspark.sql.functions import col, column\n",
    "from pyspark.sql.functions import expr\n",
    "from pyspark.sql.functions import split\n",
    "from pyspark.sql import Row\n",
    "from pyspark.ml import Pipeline\n",
    "from pyspark.ml.feature import OneHotEncoder, StringIndexer, VectorAssembler, IndexToString\n",
    "from pyspark.ml.clustering import KMeans"
   ]
  },
  {
   "cell_type": "code",
   "execution_count": 3,
   "metadata": {},
   "outputs": [],
   "source": [
    "ss = SparkSession.builder.master(\"local\").appName(\"Lab9 FrequentPortSets\").getOrCreate()"
   ]
  },
  {
   "cell_type": "markdown",
   "metadata": {},
   "source": [
    "# Exercise 9.1 (10 points)\n",
    "- Complete the path below for reading \"sampled_profile.csv\" you downloaded from Canvas, uploaded to Lab9 folder. (5 points)\n",
    "- Fill in your Name (5 points): "
   ]
  },
  {
   "cell_type": "code",
   "execution_count": 4,
   "metadata": {},
   "outputs": [],
   "source": [
    "Scanners_df = ss.read.csv(\"/storage/home/kky5082/ds410/Lab9/sampled_profile.csv\", header= True, inferSchema=True )"
   ]
  },
  {
   "cell_type": "markdown",
   "metadata": {},
   "source": [
    "## We can use printSchema() to display the schema of the DataFrame Scanners_df to see whether it was inferred correctly."
   ]
  },
  {
   "cell_type": "code",
   "execution_count": 5,
   "metadata": {},
   "outputs": [
    {
     "name": "stdout",
     "output_type": "stream",
     "text": [
      "root\n",
      " |-- _c0: integer (nullable = true)\n",
      " |-- id: integer (nullable = true)\n",
      " |-- numports: integer (nullable = true)\n",
      " |-- lifetime: double (nullable = true)\n",
      " |-- Bytes: integer (nullable = true)\n",
      " |-- Packets: integer (nullable = true)\n",
      " |-- average_packetsize: integer (nullable = true)\n",
      " |-- MinUniqueDests: integer (nullable = true)\n",
      " |-- MaxUniqueDests: integer (nullable = true)\n",
      " |-- MinUniqueDest24s: integer (nullable = true)\n",
      " |-- MaxUniqueDest24s: integer (nullable = true)\n",
      " |-- average_lifetime: double (nullable = true)\n",
      " |-- mirai: boolean (nullable = true)\n",
      " |-- zmap: boolean (nullable = true)\n",
      " |-- masscan: boolean (nullable = true)\n",
      " |-- country: string (nullable = true)\n",
      " |-- traffic_types_scanned_str: string (nullable = true)\n",
      " |-- ports_scanned_str: string (nullable = true)\n",
      " |-- host_tags_per_censys: string (nullable = true)\n",
      " |-- host_services_per_censys: string (nullable = true)\n",
      "\n"
     ]
    }
   ],
   "source": [
    "Scanners_df.printSchema()"
   ]
  },
  {
   "cell_type": "markdown",
   "metadata": {},
   "source": [
    "## Part A Transfosrm the feature \"ports_scanned_str\" into an array of ports.\n",
    "### The original value of the column is a string that connects all the ports scanned by a scanner. The different ports that are open by a scanner are connected by dash \"-\". For example, \"81-161-2000\" indicates the scanner has scanned three ports: port 81, port 161, and port 2000. Therefore, we want to use split to separate it into an array of ports by each scanner.  This transformation is important because it enables the identification of frequent ports scanned by scanners."
   ]
  },
  {
   "cell_type": "markdown",
   "metadata": {},
   "source": [
    "## The original value of the column \"ports_scanned_str\" "
   ]
  },
  {
   "cell_type": "code",
   "execution_count": 6,
   "metadata": {},
   "outputs": [
    {
     "name": "stdout",
     "output_type": "stream",
     "text": [
      "+--------------------+\n",
      "|   ports_scanned_str|\n",
      "+--------------------+\n",
      "|               13716|\n",
      "|         17128-17136|\n",
      "|               35134|\n",
      "|               17140|\n",
      "|               54594|\n",
      "|               17130|\n",
      "|               54594|\n",
      "|               37876|\n",
      "|               17142|\n",
      "|17128-17130-17132...|\n",
      "|               54594|\n",
      "|               12941|\n",
      "|               30188|\n",
      "|23-80-81-1023-232...|\n",
      "|               54594|\n",
      "|17128-17132-17136...|\n",
      "|               17136|\n",
      "|               54594|\n",
      "|               17134|\n",
      "|                 445|\n",
      "|               34226|\n",
      "|               17130|\n",
      "|               17134|\n",
      "|           137-17130|\n",
      "|               17142|\n",
      "|               17142|\n",
      "|17128-17130-17132...|\n",
      "|                  23|\n",
      "|               54594|\n",
      "|               54594|\n",
      "+--------------------+\n",
      "only showing top 30 rows\n",
      "\n"
     ]
    }
   ],
   "source": [
    "Scanners_df.select(\"ports_scanned_str\").show(30)"
   ]
  },
  {
   "cell_type": "markdown",
   "metadata": {},
   "source": [
    "## Convert the Column 'ports_scanned_str' into an Array of ports scanned by each scanner (row)"
   ]
  },
  {
   "cell_type": "code",
   "execution_count": 7,
   "metadata": {},
   "outputs": [
    {
     "name": "stdout",
     "output_type": "stream",
     "text": [
      "+-------+-------+--------+--------+-----+-------+------------------+--------------+--------------+----------------+----------------+----------------+-----+-----+-------+-------+-------------------------+--------------------+--------------------+------------------------+--------------------+\n",
      "|    _c0|     id|numports|lifetime|Bytes|Packets|average_packetsize|MinUniqueDests|MaxUniqueDests|MinUniqueDest24s|MaxUniqueDest24s|average_lifetime|mirai| zmap|masscan|country|traffic_types_scanned_str|   ports_scanned_str|host_tags_per_censys|host_services_per_censys|         Ports_Array|\n",
      "+-------+-------+--------+--------+-----+-------+------------------+--------------+--------------+----------------+----------------+----------------+-----+-----+-------+-------+-------------------------+--------------------+--------------------+------------------------+--------------------+\n",
      "|1645181|1645181|       1|     0.0|   60|      1|                60|             1|             1|               1|               1|             0.0|false|false|  false|     BR|                       15|               13716|                null|                    null|             [13716]|\n",
      "|2091467|2091467|       2|  199.84|  752|     12|                62|             1|             1|               1|               1|           66.61|false|false|  false|     CN|                    11-16|         17128-17136|                null|                    null|      [17128, 17136]|\n",
      "| 888618| 888618|       1|     0.0|   60|      1|                60|             1|             1|               1|               1|             0.0|false|false|  false|     US|                       15|               35134|                null|                    null|             [35134]|\n",
      "|1512937|1512937|       1|  793.37| 1561|     23|                67|             1|             1|               1|               1|          396.69|false|false|  false|     JP|                    11-16|               17140|                null|                    null|             [17140]|\n",
      "| 654939| 654939|       1|   48.69|  571|      3|               190|             1|             2|               1|               2|           24.34|false|false|  false|     TR|                       16|               54594|                null|                    8081|             [54594]|\n",
      "|  73109|  73109|       1| 1056.83| 1924|     26|                74|             1|             1|               1|               1|         1056.83|false|false|  false|     CN|                       11|               17130|                null|                    null|             [17130]|\n",
      "| 923577| 923577|       1|  348.42|  465|      3|               155|             1|             2|               1|               2|          174.21|false|false|  false|     JO|                       16|               54594|                null|                    null|             [54594]|\n",
      "|1349341|1349341|       1|     0.0|   60|      1|                60|             1|             1|               1|               1|             0.0|false|false|  false|     US|                       15|               37876|                null|                    null|             [37876]|\n",
      "|1959916|1959916|       1|  814.15| 1631|     24|                67|             1|             1|               1|               1|          407.07|false|false|  false|     TW|                    11-16|               17142|                null|                    null|             [17142]|\n",
      "| 565394| 565394|       7| 2505.48| 5422|     71|                76|             1|             3|               1|               3|          119.31|false|false|  false|     CN|                    11-16|17128-17130-17132...|                null|                    null|[17128, 17130, 17...|\n",
      "+-------+-------+--------+--------+-----+-------+------------------+--------------+--------------+----------------+----------------+----------------+-----+-----+-------+-------+-------------------------+--------------------+--------------------+------------------------+--------------------+\n",
      "only showing top 10 rows\n",
      "\n"
     ]
    }
   ],
   "source": [
    "Scanners_df2=Scanners_df.withColumn(\"Ports_Array\", split(col(\"ports_scanned_str\"), \"-\") )\n",
    "Scanners_df2.persist().show(10)"
   ]
  },
  {
   "cell_type": "markdown",
   "metadata": {},
   "source": [
    "## For Mining Frequent Port Sets being scanned, we only need the column ```Ports_Array```"
   ]
  },
  {
   "cell_type": "code",
   "execution_count": 8,
   "metadata": {},
   "outputs": [],
   "source": [
    "Ports_Scanned_RDD = Scanners_df2.select(\"Ports_Array\").rdd"
   ]
  },
  {
   "cell_type": "code",
   "execution_count": 9,
   "metadata": {},
   "outputs": [
    {
     "data": {
      "text/plain": [
       "[Row(Ports_Array=['13716']),\n",
       " Row(Ports_Array=['17128', '17136']),\n",
       " Row(Ports_Array=['35134']),\n",
       " Row(Ports_Array=['17140']),\n",
       " Row(Ports_Array=['54594'])]"
      ]
     },
     "execution_count": 9,
     "metadata": {},
     "output_type": "execute_result"
    }
   ],
   "source": [
    "Ports_Scanned_RDD.persist().take(5)"
   ]
  },
  {
   "cell_type": "markdown",
   "metadata": {},
   "source": [
    "## Because each port number in the Ports_Array column for each row occurs only once, we can count the total occurance of each port number through flatMap."
   ]
  },
  {
   "cell_type": "code",
   "execution_count": 10,
   "metadata": {},
   "outputs": [],
   "source": [
    "Ports_list_RDD = Ports_Scanned_RDD.map(lambda row: row[0] )"
   ]
  },
  {
   "cell_type": "code",
   "execution_count": 11,
   "metadata": {},
   "outputs": [
    {
     "data": {
      "text/plain": [
       "PythonRDD[27] at RDD at PythonRDD.scala:53"
      ]
     },
     "execution_count": 11,
     "metadata": {},
     "output_type": "execute_result"
    }
   ],
   "source": [
    "Ports_list_RDD.persist()"
   ]
  },
  {
   "cell_type": "code",
   "execution_count": 12,
   "metadata": {},
   "outputs": [],
   "source": [
    "Ports_list2_RDD = Ports_Scanned_RDD.flatMap(lambda row: row[0] )"
   ]
  },
  {
   "cell_type": "code",
   "execution_count": 13,
   "metadata": {},
   "outputs": [
    {
     "data": {
      "text/plain": [
       "[('13716', 1), ('17128', 1)]"
      ]
     },
     "execution_count": 13,
     "metadata": {},
     "output_type": "execute_result"
    }
   ],
   "source": [
    "Port_count_RDD = Ports_list2_RDD.map(lambda x: (x, 1))\n",
    "Port_count_RDD.take(2)"
   ]
  },
  {
   "cell_type": "code",
   "execution_count": 14,
   "metadata": {},
   "outputs": [
    {
     "data": {
      "text/plain": [
       "[('13716', 14),\n",
       " ('17128', 31850),\n",
       " ('17136', 31617),\n",
       " ('35134', 13),\n",
       " ('17140', 31865)]"
      ]
     },
     "execution_count": 14,
     "metadata": {},
     "output_type": "execute_result"
    }
   ],
   "source": [
    "Port_count_total_RDD = Port_count_RDD.reduceByKey(lambda x,y: x+y, 1)\n",
    "Port_count_total_RDD.persist().take(5)"
   ]
  },
  {
   "cell_type": "code",
   "execution_count": 15,
   "metadata": {},
   "outputs": [
    {
     "data": {
      "text/plain": [
       "65536"
      ]
     },
     "execution_count": 15,
     "metadata": {},
     "output_type": "execute_result"
    }
   ],
   "source": [
    "Port_count_total_RDD.count()"
   ]
  },
  {
   "cell_type": "code",
   "execution_count": 16,
   "metadata": {},
   "outputs": [],
   "source": [
    "Sorted_Count_Port_RDD = Port_count_total_RDD.map(lambda x: (x[1], x[0])).sortByKey( ascending = False)"
   ]
  },
  {
   "cell_type": "code",
   "execution_count": 17,
   "metadata": {},
   "outputs": [
    {
     "data": {
      "text/plain": [
       "[(32014, '17132'),\n",
       " (31865, '17140'),\n",
       " (31850, '17128'),\n",
       " (31805, '17138'),\n",
       " (31630, '17130'),\n",
       " (31617, '17136'),\n",
       " (29199, '23'),\n",
       " (25466, '445'),\n",
       " (25216, '54594'),\n",
       " (21700, '17142'),\n",
       " (21560, '17134'),\n",
       " (15010, '80'),\n",
       " (13698, '8080'),\n",
       " (8778, '0'),\n",
       " (6265, '2323'),\n",
       " (5552, '5555'),\n",
       " (4930, '81'),\n",
       " (4103, '1023'),\n",
       " (4058, '52869'),\n",
       " (4012, '8443'),\n",
       " (3954, '49152'),\n",
       " (3885, '7574'),\n",
       " (3874, '37215'),\n",
       " (3318, '34218'),\n",
       " (3279, '34220'),\n",
       " (3258, '33968'),\n",
       " (3257, '34224'),\n",
       " (3253, '34228'),\n",
       " (3252, '33962'),\n",
       " (3236, '33960'),\n",
       " (3209, '33964'),\n",
       " (3179, '34216'),\n",
       " (3167, '34226'),\n",
       " (3155, '33970'),\n",
       " (3130, '33972'),\n",
       " (2428, '50401'),\n",
       " (1954, '34222'),\n",
       " (1921, '34230'),\n",
       " (1919, '33966'),\n",
       " (1819, '33974'),\n",
       " (1225, '3389'),\n",
       " (1064, '1433'),\n",
       " (885, '22'),\n",
       " (878, '5353'),\n",
       " (604, '21'),\n",
       " (594, '8291'),\n",
       " (554, '8728'),\n",
       " (512, '443'),\n",
       " (382, '5900'),\n",
       " (330, '8000')]"
      ]
     },
     "execution_count": 17,
     "metadata": {},
     "output_type": "execute_result"
    }
   ],
   "source": [
    "Sorted_Count_Port_RDD.persist().take(50)"
   ]
  },
  {
   "cell_type": "markdown",
   "metadata": {},
   "source": [
    "# The value of the threshold below should be identical to your choice of threshold for Exercise 9.3"
   ]
  },
  {
   "cell_type": "code",
   "execution_count": 18,
   "metadata": {},
   "outputs": [
    {
     "data": {
      "text/plain": [
       "42"
      ]
     },
     "execution_count": 18,
     "metadata": {},
     "output_type": "execute_result"
    }
   ],
   "source": [
    "threshold = 1000\n",
    "Filtered_Sorted_Count_Port_RDD= Sorted_Count_Port_RDD.filter(lambda x: x[0] > threshold)\n",
    "Filtered_Sorted_Count_Port_RDD.persist().count()"
   ]
  },
  {
   "cell_type": "code",
   "execution_count": 19,
   "metadata": {},
   "outputs": [],
   "source": [
    "Top_Ports = Filtered_Sorted_Count_Port_RDD.map(lambda x: x[1]).collect()"
   ]
  },
  {
   "cell_type": "code",
   "execution_count": 20,
   "metadata": {},
   "outputs": [],
   "source": [
    "Top_1_Port_count = len(Top_Ports)"
   ]
  },
  {
   "cell_type": "code",
   "execution_count": 21,
   "metadata": {},
   "outputs": [
    {
     "name": "stdout",
     "output_type": "stream",
     "text": [
      "42\n"
     ]
    }
   ],
   "source": [
    "print(Top_1_Port_count)"
   ]
  },
  {
   "cell_type": "markdown",
   "metadata": {},
   "source": [
    "# Exercise 9.2 (10 points)\n",
    "Compute the total number of scanners in Ports_list_RDD with the total number of scanners that scan more than one port.  What is the impact of this filter on the size of the RDD? Complete the following code to find out the answers. Then, fill the answer in the cell marked as Answer to Exercise 9.2."
   ]
  },
  {
   "cell_type": "code",
   "execution_count": 22,
   "metadata": {},
   "outputs": [],
   "source": [
    "# Filter out those scanners that scan only 1 port\n",
    "multi_Ports_list_RDD = Ports_list_RDD.filter(lambda x: len(x)>1 )"
   ]
  },
  {
   "cell_type": "code",
   "execution_count": 23,
   "metadata": {},
   "outputs": [
    {
     "data": {
      "text/plain": [
       "227062"
      ]
     },
     "execution_count": 23,
     "metadata": {},
     "output_type": "execute_result"
    }
   ],
   "source": [
    "Ports_list_RDD.count()"
   ]
  },
  {
   "cell_type": "code",
   "execution_count": 24,
   "metadata": {},
   "outputs": [
    {
     "data": {
      "text/plain": [
       "[['13716'], ['17128', '17136'], ['35134'], ['17140'], ['54594']]"
      ]
     },
     "execution_count": 24,
     "metadata": {},
     "output_type": "execute_result"
    }
   ],
   "source": [
    "Ports_list_RDD.take(5)"
   ]
  },
  {
   "cell_type": "code",
   "execution_count": 25,
   "metadata": {},
   "outputs": [
    {
     "data": {
      "text/plain": [
       "73663"
      ]
     },
     "execution_count": 25,
     "metadata": {},
     "output_type": "execute_result"
    }
   ],
   "source": [
    "multi_Ports_list_RDD.count()"
   ]
  },
  {
   "cell_type": "markdown",
   "metadata": {},
   "source": [
    "# Answer to Exercise 9.2 \n",
    "- Original number of scanners:\n",
    "## 227062\n",
    "- Number of scanners that scan more than one port:\n",
    "## 73663\n",
    "- Impact of the filtering on the size of filtered scanners: \n",
    "## The size flitered scanners is 1/3 of the original scanners"
   ]
  },
  {
   "cell_type": "markdown",
   "metadata": {},
   "source": [
    "# Exercise 9.3 (20 points)\n",
    "- Choose a threshold (suggest a number between 500 and 1000) (5 points)\n",
    "- Complete the following code for finding 2 port sets (7 points)\n",
    "- Add suitable persist and unpersist to suitable RDD (8 points)"
   ]
  },
  {
   "cell_type": "code",
   "execution_count": 26,
   "metadata": {},
   "outputs": [
    {
     "data": {
      "text/plain": [
       "[['17128', '17136'],\n",
       " ['17128', '17130', '17132', '17134', '17136', '17138', '17140']]"
      ]
     },
     "execution_count": 26,
     "metadata": {},
     "output_type": "execute_result"
    }
   ],
   "source": [
    "multi_Ports_list_RDD.take(2)\n"
   ]
  },
  {
   "cell_type": "code",
   "execution_count": 29,
   "metadata": {},
   "outputs": [],
   "source": [
    "# Initialize a Pandas DataFrame to store frequent port sets and their counts \n",
    "Freq_Port_Sets_df = pd.DataFrame( columns= ['Port Sets', 'count'])\n",
    "# Initialize the index to the Freq_Port_Sets_df to 0\n",
    "index = 0\n",
    "# Set the threshold for Large Port Sets to be 100\n",
    "threshold = 1000\n",
    "multi_Ports_list_RDD.persist()\n",
    "for i in range(0, Top_1_Port_count-1):\n",
    "    Scanners_port_i_RDD = multi_Ports_list_RDD.filter(lambda x: Top_Ports[i] in x)\n",
    "    Scanners_port_i_RDD.persist()\n",
    "    for j in range(i+1, Top_1_Port_count-1):\n",
    "        Scanners_port_i_j_RDD = Scanners_port_i_RDD.filter(lambda x:  Top_Ports[j] in x)\n",
    "        two_ports_count = Scanners_port_i_j_RDD.count()\n",
    "        if two_ports_count > threshold:\n",
    "            Freq_Port_Sets_df.loc[index]=[ [Top_Ports[i], Top_Ports[j]], two_ports_count]\n",
    "            index = index +1\n",
    "    Scanners_port_i_RDD.unpersist()\n"
   ]
  },
  {
   "cell_type": "code",
   "execution_count": 30,
   "metadata": {},
   "outputs": [
    {
     "name": "stdout",
     "output_type": "stream",
     "text": [
      "          Port Sets  count\n",
      "0    [17132, 17140]  16317\n",
      "1    [17132, 17128]  16279\n",
      "2    [17132, 17138]  16299\n",
      "3    [17132, 17130]  16336\n",
      "4    [17132, 17136]  16148\n",
      "..              ...    ...\n",
      "259  [33960, 33964]   1005\n",
      "260  [33960, 34226]   1034\n",
      "261  [33964, 34226]   1004\n",
      "262  [34216, 34226]   1015\n",
      "263  [34226, 33972]   1023\n",
      "\n",
      "[264 rows x 2 columns]\n"
     ]
    }
   ],
   "source": [
    "print(Freq_Port_Sets_df)"
   ]
  },
  {
   "cell_type": "code",
   "execution_count": 31,
   "metadata": {},
   "outputs": [],
   "source": [
    "tri_Ports_list_RDD=multi_Ports_list_RDD.filter(lambda x: len(x)>2)"
   ]
  },
  {
   "cell_type": "code",
   "execution_count": 32,
   "metadata": {},
   "outputs": [
    {
     "data": {
      "text/plain": [
       "49549"
      ]
     },
     "execution_count": 32,
     "metadata": {},
     "output_type": "execute_result"
    }
   ],
   "source": [
    "tri_Ports_list_RDD.count()"
   ]
  },
  {
   "cell_type": "code",
   "execution_count": 33,
   "metadata": {},
   "outputs": [
    {
     "data": {
      "text/plain": [
       "264"
      ]
     },
     "execution_count": 33,
     "metadata": {},
     "output_type": "execute_result"
    }
   ],
   "source": [
    "index"
   ]
  },
  {
   "cell_type": "markdown",
   "metadata": {},
   "source": [
    "# Exercise 9.5 (20 points)\n",
    "- Use the same threshold as Exercise 9.4 (5 points)\n",
    "- Complete the following code to find frequent 3 port sets (7 points)\n",
    "- Add persist and unpersist to suitable RDD (8 points)"
   ]
  },
  {
   "cell_type": "code",
   "execution_count": 36,
   "metadata": {},
   "outputs": [],
   "source": [
    "# Set the threshold for Large Port Sets to be 100\n",
    "threshold = 1000\n",
    "tri_Ports_list_RDD.persist()\n",
    "for i in range(0, Top_1_Port_count-1):\n",
    "    Scanners_port_i_RDD = tri_Ports_list_RDD.filter(lambda x: Top_Ports[i] in x) \n",
    "    Scanners_port_i_RDD.persist()\n",
    "    for j in range(i+1, Top_1_Port_count-1):\n",
    "        Scanners_port_i_j_RDD = Scanners_port_i_RDD.filter(lambda x: Top_Ports[j] in x)\n",
    "        two_ports_count = Scanners_port_i_j_RDD.count()\n",
    "        Scanners_port_i_j_RDD.persist()\n",
    "        if two_ports_count > threshold:\n",
    "            Scanners_port_i_RDD.unpersist()\n",
    "            for k in range(j+1, Top_1_Port_count -1):\n",
    "                Scanners_port_i_j_k_RDD = Scanners_port_i_j_RDD.filter(lambda x: Top_Ports[k] in x)\n",
    "                Scanners_port_i_j_RDD.unpersist()\n",
    "                three_ports_count = Scanners_port_i_j_k_RDD.count()\n",
    "                if three_ports_count > threshold:\n",
    "                    Freq_Port_Sets_df.loc[index] = [ [Top_Ports[i], Top_Ports[j], Top_Ports[k]], three_ports_count]\n",
    "                    index = index + 1\n",
    "                    # print(\"Ports: \", Top_Ports[i], \", \", Top_Ports[j], \",  \", Top_Ports[k], \": Count \", three_ports_count)"
   ]
  },
  {
   "cell_type": "code",
   "execution_count": 41,
   "metadata": {},
   "outputs": [],
   "source": [
    "Freq_Port_Sets_DF = ss.createDataFrame(Freq_Port_Sets_df)"
   ]
  },
  {
   "cell_type": "markdown",
   "metadata": {},
   "source": [
    "# Exercise 9.5 (10 points)\n",
    "Complete the following code to save your frequent 2 port sets and 3 port sets in an output file."
   ]
  },
  {
   "cell_type": "code",
   "execution_count": 44,
   "metadata": {},
   "outputs": [],
   "source": [
    "output_path = \"/storage/home/kky5082/ds410/Lab9/output\"\n",
    "Freq_Port_Sets_DF.rdd.saveAsTextFile(output_path)"
   ]
  },
  {
   "cell_type": "markdown",
   "metadata": {},
   "source": [
    "# Exercise 9.6 (30 points)\n",
    "- Remove .master(\"local\") from SparkSession statement\n",
    "- Change the input file to \"/gpfs/scratch/juy1/Day_2020_profile.csv\"\n",
    "- Change the output file to a different directory from the one you used in Exercise 9.4\n",
    "- Export the notebook as a .py file\n",
    "- Run spark-submit on ICDS Roar (following instructions on Canvas)"
   ]
  }
 ],
 "metadata": {
  "kernelspec": {
   "display_name": "Python 3",
   "language": "python",
   "name": "python3"
  },
  "language_info": {
   "codemirror_mode": {
    "name": "ipython",
    "version": 3
   },
   "file_extension": ".py",
   "mimetype": "text/x-python",
   "name": "python",
   "nbconvert_exporter": "python",
   "pygments_lexer": "ipython3",
   "version": "3.8.3"
  }
 },
 "nbformat": 4,
 "nbformat_minor": 4
}
