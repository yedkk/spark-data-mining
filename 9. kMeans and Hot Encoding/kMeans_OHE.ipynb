{
 "cells": [
  {
   "cell_type": "markdown",
   "metadata": {},
   "source": [
    "## DS/CMPSC 410 MiniProject #2\n",
    "\n",
    "### Spring 2020\n",
    "### Instructor: John Yen\n",
    "### TA: Dongkuan Xu and Rupesh Prajapati\n",
    "### Learning Objectives\n",
    "- Be able to apply k-means clustering to the Darknet dataset\n",
    "- Be able to choose a set of top ports for one-hot encoding the set of ports scanned by a scanner.\n",
    "- Be able to intepret the features of the cluster centers generated\n",
    "- Be able to compare the result of k-means clustering with different value of k using Silhouette score.\n",
    "\n",
    "### Total points: 100 \n",
    "- Exercise 1: 5 points\n",
    "- Exercise 2: 5 points \n",
    "- Exercise 3: 10 points \n",
    "- Exercise 4: 10 points\n",
    "- Exercise 5: 20 points\n",
    "- Exercise 6: 10 points\n",
    "- Exercise 7: 15 points\n",
    "- Exercise 8: 25 points\n",
    "  \n",
    "### Due: 5 pm, April 14, 2021"
   ]
  },
  {
   "cell_type": "code",
   "execution_count": 1,
   "metadata": {},
   "outputs": [],
   "source": [
    "import pyspark\n",
    "import csv"
   ]
  },
  {
   "cell_type": "code",
   "execution_count": 2,
   "metadata": {},
   "outputs": [],
   "source": [
    "from pyspark import SparkContext\n",
    "from pyspark.sql import SparkSession\n",
    "from pyspark.sql.types import StructField, StructType, StringType, LongType\n",
    "from pyspark.sql.functions import col, column\n",
    "from pyspark.sql.functions import expr\n",
    "from pyspark.sql.functions import split\n",
    "from pyspark.sql.functions import array_contains\n",
    "from pyspark.sql import Row\n",
    "from pyspark.ml import Pipeline\n",
    "from pyspark.ml.feature import OneHotEncoder, StringIndexer, VectorAssembler, IndexToString\n",
    "from pyspark.ml.clustering import KMeans\n",
    "from pyspark.ml.evaluation import ClusteringEvaluator"
   ]
  },
  {
   "cell_type": "code",
   "execution_count": 3,
   "metadata": {},
   "outputs": [],
   "source": [
    "ss = SparkSession.builder.master(\"local\").appName(\"ClusteringOHE\").getOrCreate()"
   ]
  },
  {
   "cell_type": "markdown",
   "metadata": {},
   "source": [
    "## Exercise 1 (5 points)\n",
    "Complete the path for input file in the code below and enter your name in this Markdown cell:\n",
    "- Name: Kangdong Yuan"
   ]
  },
  {
   "cell_type": "code",
   "execution_count": 4,
   "metadata": {},
   "outputs": [],
   "source": [
    "Scanners_df = ss.read.csv(\"/storage/home/kky5082/ds410/Lab10/sampled_profile.csv\", header= True, inferSchema=True )"
   ]
  },
  {
   "cell_type": "markdown",
   "metadata": {},
   "source": [
    "## We can use printSchema() to display the schema of the DataFrame Scanners_df to see whether it was inferred correctly."
   ]
  },
  {
   "cell_type": "code",
   "execution_count": 5,
   "metadata": {},
   "outputs": [
    {
     "name": "stdout",
     "output_type": "stream",
     "text": [
      "root\n",
      " |-- _c0: integer (nullable = true)\n",
      " |-- id: integer (nullable = true)\n",
      " |-- numports: integer (nullable = true)\n",
      " |-- lifetime: double (nullable = true)\n",
      " |-- Bytes: integer (nullable = true)\n",
      " |-- Packets: integer (nullable = true)\n",
      " |-- average_packetsize: integer (nullable = true)\n",
      " |-- MinUniqueDests: integer (nullable = true)\n",
      " |-- MaxUniqueDests: integer (nullable = true)\n",
      " |-- MinUniqueDest24s: integer (nullable = true)\n",
      " |-- MaxUniqueDest24s: integer (nullable = true)\n",
      " |-- average_lifetime: double (nullable = true)\n",
      " |-- mirai: boolean (nullable = true)\n",
      " |-- zmap: boolean (nullable = true)\n",
      " |-- masscan: boolean (nullable = true)\n",
      " |-- country: string (nullable = true)\n",
      " |-- traffic_types_scanned_str: string (nullable = true)\n",
      " |-- ports_scanned_str: string (nullable = true)\n",
      " |-- host_tags_per_censys: string (nullable = true)\n",
      " |-- host_services_per_censys: string (nullable = true)\n",
      "\n"
     ]
    }
   ],
   "source": [
    "Scanners_df.printSchema()"
   ]
  },
  {
   "cell_type": "markdown",
   "metadata": {},
   "source": [
    "# Part A: One Hot Encoding\n",
    "We want to apply one hot encoding to the set of ports scanned by scanners.  \n",
    "- A.1 Like Mini Project deliverable 1, we first convert the feature \"ports_scanned_str\" to a feature that is an Array of ports\n",
    "- A.2 We then calculate the total number of scanners for each port\n",
    "- A.3 We identify the top n port to use for one-hot encoding (You choose the number n).\n",
    "- A.4 Generate one-hot encoded feature for these top n ports."
   ]
  },
  {
   "cell_type": "code",
   "execution_count": 6,
   "metadata": {},
   "outputs": [
    {
     "name": "stdout",
     "output_type": "stream",
     "text": [
      "+--------------------+\n",
      "|   ports_scanned_str|\n",
      "+--------------------+\n",
      "|               13716|\n",
      "|         17128-17136|\n",
      "|               35134|\n",
      "|               17140|\n",
      "|               54594|\n",
      "|               17130|\n",
      "|               54594|\n",
      "|               37876|\n",
      "|               17142|\n",
      "|17128-17130-17132...|\n",
      "|               54594|\n",
      "|               12941|\n",
      "|               30188|\n",
      "|23-80-81-1023-232...|\n",
      "|               54594|\n",
      "|17128-17132-17136...|\n",
      "|               17136|\n",
      "|               54594|\n",
      "|               17134|\n",
      "|                 445|\n",
      "|               34226|\n",
      "|               17130|\n",
      "|               17134|\n",
      "|           137-17130|\n",
      "|               17142|\n",
      "|               17142|\n",
      "|17128-17130-17132...|\n",
      "|                  23|\n",
      "|               54594|\n",
      "|               54594|\n",
      "+--------------------+\n",
      "only showing top 30 rows\n",
      "\n"
     ]
    }
   ],
   "source": [
    "Scanners_df.select(\"ports_scanned_str\").show(30)"
   ]
  },
  {
   "cell_type": "code",
   "execution_count": 7,
   "metadata": {},
   "outputs": [
    {
     "name": "stdout",
     "output_type": "stream",
     "text": [
      "+-------+-------+--------+--------+-----+-------+------------------+--------------+--------------+----------------+----------------+----------------+-----+-----+-------+-------+-------------------------+--------------------+--------------------+------------------------+--------------------+\n",
      "|    _c0|     id|numports|lifetime|Bytes|Packets|average_packetsize|MinUniqueDests|MaxUniqueDests|MinUniqueDest24s|MaxUniqueDest24s|average_lifetime|mirai| zmap|masscan|country|traffic_types_scanned_str|   ports_scanned_str|host_tags_per_censys|host_services_per_censys|         Ports_Array|\n",
      "+-------+-------+--------+--------+-----+-------+------------------+--------------+--------------+----------------+----------------+----------------+-----+-----+-------+-------+-------------------------+--------------------+--------------------+------------------------+--------------------+\n",
      "|1645181|1645181|       1|     0.0|   60|      1|                60|             1|             1|               1|               1|             0.0|false|false|  false|     BR|                       15|               13716|                null|                    null|             [13716]|\n",
      "|2091467|2091467|       2|  199.84|  752|     12|                62|             1|             1|               1|               1|           66.61|false|false|  false|     CN|                    11-16|         17128-17136|                null|                    null|      [17128, 17136]|\n",
      "| 888618| 888618|       1|     0.0|   60|      1|                60|             1|             1|               1|               1|             0.0|false|false|  false|     US|                       15|               35134|                null|                    null|             [35134]|\n",
      "|1512937|1512937|       1|  793.37| 1561|     23|                67|             1|             1|               1|               1|          396.69|false|false|  false|     JP|                    11-16|               17140|                null|                    null|             [17140]|\n",
      "| 654939| 654939|       1|   48.69|  571|      3|               190|             1|             2|               1|               2|           24.34|false|false|  false|     TR|                       16|               54594|                null|                    8081|             [54594]|\n",
      "|  73109|  73109|       1| 1056.83| 1924|     26|                74|             1|             1|               1|               1|         1056.83|false|false|  false|     CN|                       11|               17130|                null|                    null|             [17130]|\n",
      "| 923577| 923577|       1|  348.42|  465|      3|               155|             1|             2|               1|               2|          174.21|false|false|  false|     JO|                       16|               54594|                null|                    null|             [54594]|\n",
      "|1349341|1349341|       1|     0.0|   60|      1|                60|             1|             1|               1|               1|             0.0|false|false|  false|     US|                       15|               37876|                null|                    null|             [37876]|\n",
      "|1959916|1959916|       1|  814.15| 1631|     24|                67|             1|             1|               1|               1|          407.07|false|false|  false|     TW|                    11-16|               17142|                null|                    null|             [17142]|\n",
      "| 565394| 565394|       7| 2505.48| 5422|     71|                76|             1|             3|               1|               3|          119.31|false|false|  false|     CN|                    11-16|17128-17130-17132...|                null|                    null|[17128, 17130, 17...|\n",
      "+-------+-------+--------+--------+-----+-------+------------------+--------------+--------------+----------------+----------------+----------------+-----+-----+-------+-------+-------------------------+--------------------+--------------------+------------------------+--------------------+\n",
      "only showing top 10 rows\n",
      "\n"
     ]
    }
   ],
   "source": [
    "Scanners_df2=Scanners_df.withColumn(\"Ports_Array\", split(col(\"ports_scanned_str\"), \"-\") )\n",
    "Scanners_df2.persist().show(10)"
   ]
  },
  {
   "cell_type": "markdown",
   "metadata": {},
   "source": [
    "## A.1 We only need the column ```Ports_Array``` to calculate the top ports being scanned"
   ]
  },
  {
   "cell_type": "code",
   "execution_count": 8,
   "metadata": {},
   "outputs": [],
   "source": [
    "Ports_Scanned_RDD = Scanners_df2.select(\"Ports_Array\").rdd"
   ]
  },
  {
   "cell_type": "code",
   "execution_count": 9,
   "metadata": {},
   "outputs": [
    {
     "data": {
      "text/plain": [
       "[Row(Ports_Array=['13716']),\n",
       " Row(Ports_Array=['17128', '17136']),\n",
       " Row(Ports_Array=['35134']),\n",
       " Row(Ports_Array=['17140']),\n",
       " Row(Ports_Array=['54594'])]"
      ]
     },
     "execution_count": 9,
     "metadata": {},
     "output_type": "execute_result"
    }
   ],
   "source": [
    "Ports_Scanned_RDD.persist().take(5)"
   ]
  },
  {
   "cell_type": "markdown",
   "metadata": {},
   "source": [
    "## Because each port number in the Ports_Array column for each row occurs only once, we can count the total occurance of each port number through flatMap."
   ]
  },
  {
   "cell_type": "code",
   "execution_count": 10,
   "metadata": {},
   "outputs": [],
   "source": [
    "Ports_list_RDD = Ports_Scanned_RDD.map(lambda row: row[0] )"
   ]
  },
  {
   "cell_type": "code",
   "execution_count": 11,
   "metadata": {},
   "outputs": [
    {
     "data": {
      "text/plain": [
       "PythonRDD[27] at RDD at PythonRDD.scala:53"
      ]
     },
     "execution_count": 11,
     "metadata": {},
     "output_type": "execute_result"
    }
   ],
   "source": [
    "Ports_list_RDD.persist()"
   ]
  },
  {
   "cell_type": "code",
   "execution_count": 12,
   "metadata": {},
   "outputs": [],
   "source": [
    "Ports_list2_RDD = Ports_Scanned_RDD.flatMap(lambda row: row[0] )"
   ]
  },
  {
   "cell_type": "code",
   "execution_count": 13,
   "metadata": {},
   "outputs": [
    {
     "data": {
      "text/plain": [
       "[('13716', 1), ('17128', 1)]"
      ]
     },
     "execution_count": 13,
     "metadata": {},
     "output_type": "execute_result"
    }
   ],
   "source": [
    "Port_count_RDD = Ports_list2_RDD.map(lambda x: (x, 1))\n",
    "Port_count_RDD.take(2)"
   ]
  },
  {
   "cell_type": "code",
   "execution_count": 14,
   "metadata": {},
   "outputs": [
    {
     "data": {
      "text/plain": [
       "[('13716', 14),\n",
       " ('17128', 31850),\n",
       " ('17136', 31617),\n",
       " ('35134', 13),\n",
       " ('17140', 31865)]"
      ]
     },
     "execution_count": 14,
     "metadata": {},
     "output_type": "execute_result"
    }
   ],
   "source": [
    "Port_count_total_RDD = Port_count_RDD.reduceByKey(lambda x,y: x+y, 1)\n",
    "Port_count_total_RDD.persist().take(5)"
   ]
  },
  {
   "cell_type": "markdown",
   "metadata": {},
   "source": [
    "## Exercise 2 (5%)\n",
    "Find the total number of ports being scanned."
   ]
  },
  {
   "cell_type": "code",
   "execution_count": 15,
   "metadata": {},
   "outputs": [
    {
     "data": {
      "text/plain": [
       "65536"
      ]
     },
     "execution_count": 15,
     "metadata": {},
     "output_type": "execute_result"
    }
   ],
   "source": [
    "Port_count_total_RDD.count()"
   ]
  },
  {
   "cell_type": "markdown",
   "metadata": {},
   "source": [
    " ## Exercise 2 Answer: 65536\n",
    "Type your answer after you find out the answer from completing and executing the Pyspark code above."
   ]
  },
  {
   "cell_type": "code",
   "execution_count": 16,
   "metadata": {},
   "outputs": [],
   "source": [
    "Sorted_Count_Port_RDD = Port_count_total_RDD.map(lambda x: (x[1], x[0])).sortByKey( ascending = False)"
   ]
  },
  {
   "cell_type": "code",
   "execution_count": 17,
   "metadata": {},
   "outputs": [
    {
     "data": {
      "text/plain": [
       "[(32014, '17132'),\n",
       " (31865, '17140'),\n",
       " (31850, '17128'),\n",
       " (31805, '17138'),\n",
       " (31630, '17130'),\n",
       " (31617, '17136'),\n",
       " (29199, '23'),\n",
       " (25466, '445'),\n",
       " (25216, '54594'),\n",
       " (21700, '17142'),\n",
       " (21560, '17134'),\n",
       " (15010, '80'),\n",
       " (13698, '8080'),\n",
       " (8778, '0'),\n",
       " (6265, '2323'),\n",
       " (5552, '5555'),\n",
       " (4930, '81'),\n",
       " (4103, '1023'),\n",
       " (4058, '52869'),\n",
       " (4012, '8443'),\n",
       " (3954, '49152'),\n",
       " (3885, '7574'),\n",
       " (3874, '37215'),\n",
       " (3318, '34218'),\n",
       " (3279, '34220'),\n",
       " (3258, '33968'),\n",
       " (3257, '34224'),\n",
       " (3253, '34228'),\n",
       " (3252, '33962'),\n",
       " (3236, '33960'),\n",
       " (3209, '33964'),\n",
       " (3179, '34216'),\n",
       " (3167, '34226'),\n",
       " (3155, '33970'),\n",
       " (3130, '33972'),\n",
       " (2428, '50401'),\n",
       " (1954, '34222'),\n",
       " (1921, '34230'),\n",
       " (1919, '33966'),\n",
       " (1819, '33974'),\n",
       " (1225, '3389'),\n",
       " (1064, '1433'),\n",
       " (885, '22'),\n",
       " (878, '5353'),\n",
       " (604, '21'),\n",
       " (594, '8291'),\n",
       " (554, '8728'),\n",
       " (512, '443'),\n",
       " (382, '5900'),\n",
       " (330, '8000')]"
      ]
     },
     "execution_count": 17,
     "metadata": {},
     "output_type": "execute_result"
    }
   ],
   "source": [
    "Sorted_Count_Port_RDD.persist().take(50)"
   ]
  },
  {
   "cell_type": "markdown",
   "metadata": {},
   "source": [
    "## Exercise 3 (10%)\n",
    "Select top_ports to be the number of top ports you want to use for one-hot encoding.  I recommend a number between 20 and 40."
   ]
  },
  {
   "cell_type": "code",
   "execution_count": 18,
   "metadata": {},
   "outputs": [],
   "source": [
    "top_ports= 30\n",
    "Sorted_Ports_RDD= Sorted_Count_Port_RDD.map(lambda x: x[1])\n",
    "Top_Ports_list = Sorted_Ports_RDD.take(top_ports)"
   ]
  },
  {
   "cell_type": "code",
   "execution_count": 19,
   "metadata": {},
   "outputs": [
    {
     "data": {
      "text/plain": [
       "['17132',\n",
       " '17140',\n",
       " '17128',\n",
       " '17138',\n",
       " '17130',\n",
       " '17136',\n",
       " '23',\n",
       " '445',\n",
       " '54594',\n",
       " '17142',\n",
       " '17134',\n",
       " '80',\n",
       " '8080',\n",
       " '0',\n",
       " '2323',\n",
       " '5555',\n",
       " '81',\n",
       " '1023',\n",
       " '52869',\n",
       " '8443',\n",
       " '49152',\n",
       " '7574',\n",
       " '37215',\n",
       " '34218',\n",
       " '34220',\n",
       " '33968',\n",
       " '34224',\n",
       " '34228',\n",
       " '33962',\n",
       " '33960']"
      ]
     },
     "execution_count": 19,
     "metadata": {},
     "output_type": "execute_result"
    }
   ],
   "source": [
    "Top_Ports_list"
   ]
  },
  {
   "cell_type": "code",
   "execution_count": 20,
   "metadata": {},
   "outputs": [
    {
     "data": {
      "text/plain": [
       "'17132'"
      ]
     },
     "execution_count": 20,
     "metadata": {},
     "output_type": "execute_result"
    }
   ],
   "source": [
    "Top_Ports_list[0]"
   ]
  },
  {
   "cell_type": "code",
   "execution_count": 21,
   "metadata": {},
   "outputs": [],
   "source": [
    "FeatureName = \"Port\"+Top_Ports_list[0]"
   ]
  },
  {
   "cell_type": "code",
   "execution_count": 22,
   "metadata": {},
   "outputs": [
    {
     "data": {
      "text/plain": [
       "'Port17132'"
      ]
     },
     "execution_count": 22,
     "metadata": {},
     "output_type": "execute_result"
    }
   ],
   "source": [
    "FeatureName"
   ]
  },
  {
   "cell_type": "code",
   "execution_count": 23,
   "metadata": {},
   "outputs": [],
   "source": [
    "from pyspark.sql.functions import array_contains"
   ]
  },
  {
   "cell_type": "code",
   "execution_count": 24,
   "metadata": {},
   "outputs": [],
   "source": [
    "Scanners_df3=Scanners_df2.withColumn(FeatureName, array_contains(\"Ports_Array\", Top_Ports_list[0]))"
   ]
  },
  {
   "cell_type": "code",
   "execution_count": 25,
   "metadata": {},
   "outputs": [
    {
     "name": "stdout",
     "output_type": "stream",
     "text": [
      "root\n",
      " |-- _c0: integer (nullable = true)\n",
      " |-- id: integer (nullable = true)\n",
      " |-- numports: integer (nullable = true)\n",
      " |-- lifetime: double (nullable = true)\n",
      " |-- Bytes: integer (nullable = true)\n",
      " |-- Packets: integer (nullable = true)\n",
      " |-- average_packetsize: integer (nullable = true)\n",
      " |-- MinUniqueDests: integer (nullable = true)\n",
      " |-- MaxUniqueDests: integer (nullable = true)\n",
      " |-- MinUniqueDest24s: integer (nullable = true)\n",
      " |-- MaxUniqueDest24s: integer (nullable = true)\n",
      " |-- average_lifetime: double (nullable = true)\n",
      " |-- mirai: boolean (nullable = true)\n",
      " |-- zmap: boolean (nullable = true)\n",
      " |-- masscan: boolean (nullable = true)\n",
      " |-- country: string (nullable = true)\n",
      " |-- traffic_types_scanned_str: string (nullable = true)\n",
      " |-- ports_scanned_str: string (nullable = true)\n",
      " |-- host_tags_per_censys: string (nullable = true)\n",
      " |-- host_services_per_censys: string (nullable = true)\n",
      " |-- Ports_Array: array (nullable = true)\n",
      " |    |-- element: string (containsNull = true)\n",
      " |-- Port17132: boolean (nullable = true)\n",
      "\n"
     ]
    }
   ],
   "source": [
    "Scanners_df3.printSchema()"
   ]
  },
  {
   "cell_type": "code",
   "execution_count": 26,
   "metadata": {},
   "outputs": [
    {
     "name": "stdout",
     "output_type": "stream",
     "text": [
      "+-------+-------+--------+--------+-----+-------+------------------+--------------+--------------+----------------+----------------+----------------+-----+-----+-------+-------+-------------------------+--------------------+--------------------+------------------------+--------------------+---------+\n",
      "|    _c0|     id|numports|lifetime|Bytes|Packets|average_packetsize|MinUniqueDests|MaxUniqueDests|MinUniqueDest24s|MaxUniqueDest24s|average_lifetime|mirai| zmap|masscan|country|traffic_types_scanned_str|   ports_scanned_str|host_tags_per_censys|host_services_per_censys|         Ports_Array|Port17132|\n",
      "+-------+-------+--------+--------+-----+-------+------------------+--------------+--------------+----------------+----------------+----------------+-----+-----+-------+-------+-------------------------+--------------------+--------------------+------------------------+--------------------+---------+\n",
      "|1645181|1645181|       1|     0.0|   60|      1|                60|             1|             1|               1|               1|             0.0|false|false|  false|     BR|                       15|               13716|                null|                    null|             [13716]|    false|\n",
      "|2091467|2091467|       2|  199.84|  752|     12|                62|             1|             1|               1|               1|           66.61|false|false|  false|     CN|                    11-16|         17128-17136|                null|                    null|      [17128, 17136]|    false|\n",
      "| 888618| 888618|       1|     0.0|   60|      1|                60|             1|             1|               1|               1|             0.0|false|false|  false|     US|                       15|               35134|                null|                    null|             [35134]|    false|\n",
      "|1512937|1512937|       1|  793.37| 1561|     23|                67|             1|             1|               1|               1|          396.69|false|false|  false|     JP|                    11-16|               17140|                null|                    null|             [17140]|    false|\n",
      "| 654939| 654939|       1|   48.69|  571|      3|               190|             1|             2|               1|               2|           24.34|false|false|  false|     TR|                       16|               54594|                null|                    8081|             [54594]|    false|\n",
      "|  73109|  73109|       1| 1056.83| 1924|     26|                74|             1|             1|               1|               1|         1056.83|false|false|  false|     CN|                       11|               17130|                null|                    null|             [17130]|    false|\n",
      "| 923577| 923577|       1|  348.42|  465|      3|               155|             1|             2|               1|               2|          174.21|false|false|  false|     JO|                       16|               54594|                null|                    null|             [54594]|    false|\n",
      "|1349341|1349341|       1|     0.0|   60|      1|                60|             1|             1|               1|               1|             0.0|false|false|  false|     US|                       15|               37876|                null|                    null|             [37876]|    false|\n",
      "|1959916|1959916|       1|  814.15| 1631|     24|                67|             1|             1|               1|               1|          407.07|false|false|  false|     TW|                    11-16|               17142|                null|                    null|             [17142]|    false|\n",
      "| 565394| 565394|       7| 2505.48| 5422|     71|                76|             1|             3|               1|               3|          119.31|false|false|  false|     CN|                    11-16|17128-17130-17132...|                null|                    null|[17128, 17130, 17...|     true|\n",
      "+-------+-------+--------+--------+-----+-------+------------------+--------------+--------------+----------------+----------------+----------------+-----+-----+-------+-------+-------------------------+--------------------+--------------------+------------------------+--------------------+---------+\n",
      "only showing top 10 rows\n",
      "\n"
     ]
    }
   ],
   "source": [
    "Scanners_df3.show(10)"
   ]
  },
  {
   "cell_type": "markdown",
   "metadata": {},
   "source": [
    "## Exercise 4 (10%)\n",
    "Check whether one-hot encoding of the first top port is encoded correctly. Complete and execute the code below. Fill your answer in the Markdown cell for Solution for Exercise 4."
   ]
  },
  {
   "cell_type": "code",
   "execution_count": 27,
   "metadata": {},
   "outputs": [],
   "source": [
    "First_top_port_scanners_count = Scanners_df3.where(col(\"Port17132\") == True).rdd.count()"
   ]
  },
  {
   "cell_type": "code",
   "execution_count": 28,
   "metadata": {},
   "outputs": [
    {
     "name": "stdout",
     "output_type": "stream",
     "text": [
      "32014\n"
     ]
    }
   ],
   "source": [
    "print(First_top_port_scanners_count)"
   ]
  },
  {
   "cell_type": "markdown",
   "metadata": {},
   "source": [
    "## Answer for Exercise 4:\n",
    "- The total number of scanners that scan the first top port is:\n",
    "## 32014\n",
    "- Is this number the same as what you saw from Sorted_Count_Port_RDD?  \n",
    "## no"
   ]
  },
  {
   "cell_type": "markdown",
   "metadata": {},
   "source": [
    "## A.4 Generate Hot-One Encoded Feature for each of the top ports in the Top_Ports_list\n",
    "\n",
    "- Iterate through the Top_Ports_list so that each top port is one-hot encoded."
   ]
  },
  {
   "cell_type": "markdown",
   "metadata": {},
   "source": [
    "## Exercise 5 (20%)\n",
    "Complete the following PySpark code for encoding the n ports using One Hot Encoding, where n is specified by the variable ```top_ports```"
   ]
  },
  {
   "cell_type": "code",
   "execution_count": 29,
   "metadata": {},
   "outputs": [],
   "source": [
    "for i in range(0, top_ports-1):\n",
    "    # \"Port\" + Top_Ports_list[i]  is the name of each new feature created through One Hot Encoding\n",
    "    Scanners_df3 = Scanners_df2.withColumn(\"Port\" + Top_Ports_list[i], array_contains(\"Ports_Array\", Top_Ports_list[i]))\n",
    "    Scanners_df2 = Scanners_df3"
   ]
  },
  {
   "cell_type": "code",
   "execution_count": 30,
   "metadata": {},
   "outputs": [
    {
     "name": "stdout",
     "output_type": "stream",
     "text": [
      "root\n",
      " |-- _c0: integer (nullable = true)\n",
      " |-- id: integer (nullable = true)\n",
      " |-- numports: integer (nullable = true)\n",
      " |-- lifetime: double (nullable = true)\n",
      " |-- Bytes: integer (nullable = true)\n",
      " |-- Packets: integer (nullable = true)\n",
      " |-- average_packetsize: integer (nullable = true)\n",
      " |-- MinUniqueDests: integer (nullable = true)\n",
      " |-- MaxUniqueDests: integer (nullable = true)\n",
      " |-- MinUniqueDest24s: integer (nullable = true)\n",
      " |-- MaxUniqueDest24s: integer (nullable = true)\n",
      " |-- average_lifetime: double (nullable = true)\n",
      " |-- mirai: boolean (nullable = true)\n",
      " |-- zmap: boolean (nullable = true)\n",
      " |-- masscan: boolean (nullable = true)\n",
      " |-- country: string (nullable = true)\n",
      " |-- traffic_types_scanned_str: string (nullable = true)\n",
      " |-- ports_scanned_str: string (nullable = true)\n",
      " |-- host_tags_per_censys: string (nullable = true)\n",
      " |-- host_services_per_censys: string (nullable = true)\n",
      " |-- Ports_Array: array (nullable = true)\n",
      " |    |-- element: string (containsNull = true)\n",
      " |-- Port17132: boolean (nullable = true)\n",
      " |-- Port17140: boolean (nullable = true)\n",
      " |-- Port17128: boolean (nullable = true)\n",
      " |-- Port17138: boolean (nullable = true)\n",
      " |-- Port17130: boolean (nullable = true)\n",
      " |-- Port17136: boolean (nullable = true)\n",
      " |-- Port23: boolean (nullable = true)\n",
      " |-- Port445: boolean (nullable = true)\n",
      " |-- Port54594: boolean (nullable = true)\n",
      " |-- Port17142: boolean (nullable = true)\n",
      " |-- Port17134: boolean (nullable = true)\n",
      " |-- Port80: boolean (nullable = true)\n",
      " |-- Port8080: boolean (nullable = true)\n",
      " |-- Port0: boolean (nullable = true)\n",
      " |-- Port2323: boolean (nullable = true)\n",
      " |-- Port5555: boolean (nullable = true)\n",
      " |-- Port81: boolean (nullable = true)\n",
      " |-- Port1023: boolean (nullable = true)\n",
      " |-- Port52869: boolean (nullable = true)\n",
      " |-- Port8443: boolean (nullable = true)\n",
      " |-- Port49152: boolean (nullable = true)\n",
      " |-- Port7574: boolean (nullable = true)\n",
      " |-- Port37215: boolean (nullable = true)\n",
      " |-- Port34218: boolean (nullable = true)\n",
      " |-- Port34220: boolean (nullable = true)\n",
      " |-- Port33968: boolean (nullable = true)\n",
      " |-- Port34224: boolean (nullable = true)\n",
      " |-- Port34228: boolean (nullable = true)\n",
      " |-- Port33962: boolean (nullable = true)\n",
      "\n"
     ]
    }
   ],
   "source": [
    "Scanners_df2.printSchema()"
   ]
  },
  {
   "cell_type": "markdown",
   "metadata": {},
   "source": [
    "## Exercise 6 (10 points)\n",
    "Use k-means to cluster the scanners using the one-hot-encoded feature and the following input features:\n",
    "- numports  : The total number of ports scanned by each scanner.\n",
    "- lifetime  : The average lifetime of scanners.\n",
    "- Packets   : The average number of packets scanned by each scanner."
   ]
  },
  {
   "cell_type": "markdown",
   "metadata": {},
   "source": [
    "## Specify Parameters for k Means Clustering"
   ]
  },
  {
   "cell_type": "code",
   "execution_count": 31,
   "metadata": {},
   "outputs": [
    {
     "data": {
      "text/plain": [
       "'distanceMeasure: the distance measure. Supported options: \\'euclidean\\' and \\'cosine\\'. (default: euclidean)\\nfeaturesCol: features column name. (default: features, current: features)\\ninitMode: The initialization algorithm. This can be either \"random\" to choose random points as initial cluster centers, or \"k-means||\" to use a parallel variant of k-means++ (default: k-means||)\\ninitSteps: The number of steps for k-means|| initialization mode. Must be > 0. (default: 2)\\nk: The number of clusters to create. Must be > 1. (default: 2, current: 50)\\nmaxIter: max number of iterations (>= 0). (default: 20)\\npredictionCol: prediction column name. (default: prediction, current: prediction)\\nseed: random seed. (default: 2393636147997110994, current: 123)\\ntol: the convergence tolerance for iterative algorithms (>= 0). (default: 0.0001)\\nweightCol: weight column name. If this is not set or empty, we treat all instance weights as 1.0. (undefined)'"
      ]
     },
     "execution_count": 31,
     "metadata": {},
     "output_type": "execute_result"
    }
   ],
   "source": [
    "km = KMeans(featuresCol=\"features\", predictionCol=\"prediction\").setK(50).setSeed(123)\n",
    "km.explainParams()"
   ]
  },
  {
   "cell_type": "code",
   "execution_count": 32,
   "metadata": {},
   "outputs": [],
   "source": [
    "input_features = [\"numports\", \"lifetime\", \"Packets\"]\n",
    "for i in range(0, top_ports - 1):\n",
    "    input_features.append( \"Port\"+Top_Ports_list[i] )"
   ]
  },
  {
   "cell_type": "code",
   "execution_count": 33,
   "metadata": {},
   "outputs": [
    {
     "name": "stdout",
     "output_type": "stream",
     "text": [
      "['numports', 'lifetime', 'Packets', 'Port17132', 'Port17140', 'Port17128', 'Port17138', 'Port17130', 'Port17136', 'Port23', 'Port445', 'Port54594', 'Port17142', 'Port17134', 'Port80', 'Port8080', 'Port0', 'Port2323', 'Port5555', 'Port81', 'Port1023', 'Port52869', 'Port8443', 'Port49152', 'Port7574', 'Port37215', 'Port34218', 'Port34220', 'Port33968', 'Port34224', 'Port34228', 'Port33962']\n"
     ]
    }
   ],
   "source": [
    "print(input_features)"
   ]
  },
  {
   "cell_type": "code",
   "execution_count": 34,
   "metadata": {},
   "outputs": [],
   "source": [
    "va = VectorAssembler().setInputCols(input_features).setOutputCol(\"features\")"
   ]
  },
  {
   "cell_type": "code",
   "execution_count": 35,
   "metadata": {},
   "outputs": [],
   "source": [
    "data= va.transform(Scanners_df2)"
   ]
  },
  {
   "cell_type": "code",
   "execution_count": 36,
   "metadata": {},
   "outputs": [
    {
     "data": {
      "text/plain": [
       "DataFrame[_c0: int, id: int, numports: int, lifetime: double, Bytes: int, Packets: int, average_packetsize: int, MinUniqueDests: int, MaxUniqueDests: int, MinUniqueDest24s: int, MaxUniqueDest24s: int, average_lifetime: double, mirai: boolean, zmap: boolean, masscan: boolean, country: string, traffic_types_scanned_str: string, ports_scanned_str: string, host_tags_per_censys: string, host_services_per_censys: string, Ports_Array: array<string>, Port17132: boolean, Port17140: boolean, Port17128: boolean, Port17138: boolean, Port17130: boolean, Port17136: boolean, Port23: boolean, Port445: boolean, Port54594: boolean, Port17142: boolean, Port17134: boolean, Port80: boolean, Port8080: boolean, Port0: boolean, Port2323: boolean, Port5555: boolean, Port81: boolean, Port1023: boolean, Port52869: boolean, Port8443: boolean, Port49152: boolean, Port7574: boolean, Port37215: boolean, Port34218: boolean, Port34220: boolean, Port33968: boolean, Port34224: boolean, Port34228: boolean, Port33962: boolean, features: vector]"
      ]
     },
     "execution_count": 36,
     "metadata": {},
     "output_type": "execute_result"
    }
   ],
   "source": [
    "data.persist()"
   ]
  },
  {
   "cell_type": "code",
   "execution_count": 37,
   "metadata": {},
   "outputs": [],
   "source": [
    "kmModel=km.fit(data)"
   ]
  },
  {
   "cell_type": "code",
   "execution_count": 38,
   "metadata": {},
   "outputs": [
    {
     "data": {
      "text/plain": [
       "KMeansModel: uid=KMeans_8653e5d89c4f, k=30, distanceMeasure=euclidean, numFeatures=32"
      ]
     },
     "execution_count": 38,
     "metadata": {},
     "output_type": "execute_result"
    }
   ],
   "source": [
    "kmModel"
   ]
  },
  {
   "cell_type": "code",
   "execution_count": 39,
   "metadata": {},
   "outputs": [],
   "source": [
    "predictions = kmModel.transform(data)"
   ]
  },
  {
   "cell_type": "code",
   "execution_count": 40,
   "metadata": {},
   "outputs": [
    {
     "name": "stdout",
     "output_type": "stream",
     "text": [
      "+-------+-------+--------+--------+-----+-------+------------------+--------------+--------------+----------------+----------------+----------------+-----+-----+-------+-------+-------------------------+-----------------+--------------------+------------------------+--------------+---------+---------+---------+---------+---------+---------+------+-------+---------+---------+---------+------+--------+-----+--------+--------+------+--------+---------+--------+---------+--------+---------+---------+---------+---------+---------+---------+---------+--------------------+----------+\n",
      "|    _c0|     id|numports|lifetime|Bytes|Packets|average_packetsize|MinUniqueDests|MaxUniqueDests|MinUniqueDest24s|MaxUniqueDest24s|average_lifetime|mirai| zmap|masscan|country|traffic_types_scanned_str|ports_scanned_str|host_tags_per_censys|host_services_per_censys|   Ports_Array|Port17132|Port17140|Port17128|Port17138|Port17130|Port17136|Port23|Port445|Port54594|Port17142|Port17134|Port80|Port8080|Port0|Port2323|Port5555|Port81|Port1023|Port52869|Port8443|Port49152|Port7574|Port37215|Port34218|Port34220|Port33968|Port34224|Port34228|Port33962|            features|prediction|\n",
      "+-------+-------+--------+--------+-----+-------+------------------+--------------+--------------+----------------+----------------+----------------+-----+-----+-------+-------+-------------------------+-----------------+--------------------+------------------------+--------------+---------+---------+---------+---------+---------+---------+------+-------+---------+---------+---------+------+--------+-----+--------+--------+------+--------+---------+--------+---------+--------+---------+---------+---------+---------+---------+---------+---------+--------------------+----------+\n",
      "|1645181|1645181|       1|     0.0|   60|      1|                60|             1|             1|               1|               1|             0.0|false|false|  false|     BR|                       15|            13716|                null|                    null|       [13716]|    false|    false|    false|    false|    false|    false| false|  false|    false|    false|    false| false|   false|false|   false|   false| false|   false|    false|   false|    false|   false|    false|    false|    false|    false|    false|    false|    false|(32,[0,2],[1.0,1.0])|         0|\n",
      "|2091467|2091467|       2|  199.84|  752|     12|                62|             1|             1|               1|               1|           66.61|false|false|  false|     CN|                    11-16|      17128-17136|                null|                    null|[17128, 17136]|    false|    false|     true|    false|    false|     true| false|  false|    false|    false|    false| false|   false|false|   false|   false| false|   false|    false|   false|    false|   false|    false|    false|    false|    false|    false|    false|    false|(32,[0,1,2,5,8],[...|         0|\n",
      "| 888618| 888618|       1|     0.0|   60|      1|                60|             1|             1|               1|               1|             0.0|false|false|  false|     US|                       15|            35134|                null|                    null|       [35134]|    false|    false|    false|    false|    false|    false| false|  false|    false|    false|    false| false|   false|false|   false|   false| false|   false|    false|   false|    false|   false|    false|    false|    false|    false|    false|    false|    false|(32,[0,2],[1.0,1.0])|         0|\n",
      "+-------+-------+--------+--------+-----+-------+------------------+--------------+--------------+----------------+----------------+----------------+-----+-----+-------+-------+-------------------------+-----------------+--------------------+------------------------+--------------+---------+---------+---------+---------+---------+---------+------+-------+---------+---------+---------+------+--------+-----+--------+--------+------+--------+---------+--------+---------+--------+---------+---------+---------+---------+---------+---------+---------+--------------------+----------+\n",
      "only showing top 3 rows\n",
      "\n"
     ]
    }
   ],
   "source": [
    "predictions.persist().show(3)"
   ]
  },
  {
   "cell_type": "code",
   "execution_count": 41,
   "metadata": {},
   "outputs": [],
   "source": [
    "Cluster1_df=predictions.where(col(\"prediction\")==0)"
   ]
  },
  {
   "cell_type": "code",
   "execution_count": 42,
   "metadata": {},
   "outputs": [
    {
     "data": {
      "text/plain": [
       "217137"
      ]
     },
     "execution_count": 42,
     "metadata": {},
     "output_type": "execute_result"
    }
   ],
   "source": [
    "Cluster1_df.persist().count()"
   ]
  },
  {
   "cell_type": "code",
   "execution_count": 43,
   "metadata": {},
   "outputs": [],
   "source": [
    "summary = kmModel.summary"
   ]
  },
  {
   "cell_type": "code",
   "execution_count": 44,
   "metadata": {},
   "outputs": [
    {
     "data": {
      "text/plain": [
       "[217137,\n",
       " 1,\n",
       " 1,\n",
       " 1,\n",
       " 2,\n",
       " 1,\n",
       " 1,\n",
       " 1,\n",
       " 1,\n",
       " 9593,\n",
       " 1,\n",
       " 1,\n",
       " 235,\n",
       " 1,\n",
       " 1,\n",
       " 1,\n",
       " 1,\n",
       " 6,\n",
       " 1,\n",
       " 1,\n",
       " 62,\n",
       " 1,\n",
       " 1,\n",
       " 1,\n",
       " 1,\n",
       " 1,\n",
       " 1,\n",
       " 4,\n",
       " 1,\n",
       " 1,\n",
       " 0,\n",
       " 0,\n",
       " 0,\n",
       " 0,\n",
       " 0,\n",
       " 0,\n",
       " 0,\n",
       " 0,\n",
       " 0,\n",
       " 0,\n",
       " 0,\n",
       " 0,\n",
       " 0,\n",
       " 0,\n",
       " 0,\n",
       " 0,\n",
       " 0,\n",
       " 0,\n",
       " 0,\n",
       " 0]"
      ]
     },
     "execution_count": 44,
     "metadata": {},
     "output_type": "execute_result"
    }
   ],
   "source": [
    "summary.clusterSizes"
   ]
  },
  {
   "cell_type": "code",
   "execution_count": 45,
   "metadata": {},
   "outputs": [],
   "source": [
    "evaluator = ClusteringEvaluator()\n",
    "silhouette = evaluator.evaluate(predictions)"
   ]
  },
  {
   "cell_type": "code",
   "execution_count": 46,
   "metadata": {},
   "outputs": [
    {
     "name": "stdout",
     "output_type": "stream",
     "text": [
      "Silhouette Score of the Clustering Result is  0.9401983976474807\n"
     ]
    }
   ],
   "source": [
    "print('Silhouette Score of the Clustering Result is ', silhouette)"
   ]
  },
  {
   "cell_type": "code",
   "execution_count": 47,
   "metadata": {},
   "outputs": [],
   "source": [
    "centers = kmModel.clusterCenters()"
   ]
  },
  {
   "cell_type": "code",
   "execution_count": 48,
   "metadata": {},
   "outputs": [
    {
     "name": "stdout",
     "output_type": "stream",
     "text": [
      "Cluster Centers:\n",
      "Cluster  1 [2.95576986e+00 1.99681251e+03 9.40357608e+01 1.38355048e-01\n",
      " 1.37701083e-01 1.37673450e-01 1.37461603e-01 1.36623422e-01\n",
      " 1.36535920e-01 1.09999678e-01 1.14545195e-01 1.15816282e-01\n",
      " 9.11498271e-02 9.05557321e-02 4.90105325e-02 4.34241976e-02\n",
      " 3.84826170e-02 1.88176128e-02 1.79471946e-02 1.31299594e-02\n",
      " 1.24069136e-02 1.22595412e-02 1.21536173e-02 1.19233479e-02\n",
      " 1.19049264e-02 1.16378139e-02 1.14904415e-02 1.13200422e-02\n",
      " 1.12371452e-02 1.11496429e-02 1.11956967e-02 1.12509614e-02] 32\n",
      "Cluster  2 [3.82490000e+04 5.39254186e+08 2.29895860e+07 0.00000000e+00\n",
      " 0.00000000e+00 1.00000000e+00 1.00000000e+00 1.00000000e+00\n",
      " 1.00000000e+00 1.00000000e+00 0.00000000e+00 0.00000000e+00\n",
      " 1.00000000e+00 1.00000000e+00 1.00000000e+00 0.00000000e+00\n",
      " 0.00000000e+00 0.00000000e+00 1.00000000e+00 1.00000000e+00\n",
      " 1.00000000e+00 1.00000000e+00 1.00000000e+00 0.00000000e+00\n",
      " 0.00000000e+00 0.00000000e+00 1.00000000e+00 1.00000000e+00\n",
      " 1.00000000e+00 0.00000000e+00 1.00000000e+00 1.00000000e+00] 32\n",
      "Cluster  3 [3.58890000e+04 6.46934859e+07 6.78087000e+05 0.00000000e+00\n",
      " 1.00000000e+00 0.00000000e+00 1.00000000e+00 0.00000000e+00\n",
      " 1.00000000e+00 1.00000000e+00 0.00000000e+00 1.00000000e+00\n",
      " 1.00000000e+00 1.00000000e+00 1.00000000e+00 1.00000000e+00\n",
      " 0.00000000e+00 1.00000000e+00 0.00000000e+00 0.00000000e+00\n",
      " 0.00000000e+00 1.00000000e+00 0.00000000e+00 0.00000000e+00\n",
      " 0.00000000e+00 0.00000000e+00 1.00000000e+00 1.00000000e+00\n",
      " 1.00000000e+00 0.00000000e+00 1.00000000e+00 1.00000000e+00] 32\n",
      "Cluster  4 [8.11000000e+02 3.14141236e+07 5.50387300e+06 0.00000000e+00\n",
      " 0.00000000e+00 0.00000000e+00 0.00000000e+00 0.00000000e+00\n",
      " 0.00000000e+00 0.00000000e+00 0.00000000e+00 0.00000000e+00\n",
      " 0.00000000e+00 0.00000000e+00 0.00000000e+00 0.00000000e+00\n",
      " 0.00000000e+00 0.00000000e+00 0.00000000e+00 0.00000000e+00\n",
      " 0.00000000e+00 0.00000000e+00 0.00000000e+00 0.00000000e+00\n",
      " 0.00000000e+00 0.00000000e+00 0.00000000e+00 0.00000000e+00\n",
      " 0.00000000e+00 0.00000000e+00 0.00000000e+00 0.00000000e+00] 32\n",
      "Cluster  5 [3.60995000e+04 6.31976002e+07 6.76230000e+05 1.00000000e+00\n",
      " 5.00000000e-01 0.00000000e+00 5.00000000e-01 0.00000000e+00\n",
      " 5.00000000e-01 1.00000000e+00 0.00000000e+00 0.00000000e+00\n",
      " 0.00000000e+00 0.00000000e+00 1.00000000e+00 5.00000000e-01\n",
      " 0.00000000e+00 5.00000000e-01 1.00000000e+00 1.00000000e+00\n",
      " 0.00000000e+00 0.00000000e+00 1.00000000e+00 5.00000000e-01\n",
      " 5.00000000e-01 5.00000000e-01 1.00000000e+00 1.00000000e+00\n",
      " 1.00000000e+00 5.00000000e-01 0.00000000e+00 5.00000000e-01] 32\n",
      "Cluster  6 [3.96920000e+04 5.29455354e+08 2.37260330e+07 1.00000000e+00\n",
      " 1.00000000e+00 1.00000000e+00 1.00000000e+00 1.00000000e+00\n",
      " 1.00000000e+00 0.00000000e+00 0.00000000e+00 1.00000000e+00\n",
      " 1.00000000e+00 0.00000000e+00 1.00000000e+00 1.00000000e+00\n",
      " 0.00000000e+00 0.00000000e+00 1.00000000e+00 0.00000000e+00\n",
      " 0.00000000e+00 1.00000000e+00 1.00000000e+00 1.00000000e+00\n",
      " 0.00000000e+00 1.00000000e+00 0.00000000e+00 1.00000000e+00\n",
      " 1.00000000e+00 1.00000000e+00 1.00000000e+00 1.00000000e+00] 32\n",
      "Cluster  7 [3.67940000e+04 6.39840137e+07 6.79683000e+05 1.00000000e+00\n",
      " 0.00000000e+00 0.00000000e+00 1.00000000e+00 0.00000000e+00\n",
      " 1.00000000e+00 0.00000000e+00 0.00000000e+00 1.00000000e+00\n",
      " 1.00000000e+00 1.00000000e+00 1.00000000e+00 0.00000000e+00\n",
      " 0.00000000e+00 1.00000000e+00 0.00000000e+00 1.00000000e+00\n",
      " 0.00000000e+00 1.00000000e+00 0.00000000e+00 1.00000000e+00\n",
      " 0.00000000e+00 0.00000000e+00 1.00000000e+00 1.00000000e+00\n",
      " 0.00000000e+00 1.00000000e+00 0.00000000e+00 1.00000000e+00] 32\n",
      "Cluster  8 [3.5710000e+03 1.0039328e+08 7.0651340e+06 0.0000000e+00 0.0000000e+00\n",
      " 0.0000000e+00 0.0000000e+00 0.0000000e+00 0.0000000e+00 0.0000000e+00\n",
      " 0.0000000e+00 0.0000000e+00 0.0000000e+00 0.0000000e+00 0.0000000e+00\n",
      " 0.0000000e+00 0.0000000e+00 0.0000000e+00 0.0000000e+00 0.0000000e+00\n",
      " 0.0000000e+00 0.0000000e+00 0.0000000e+00 0.0000000e+00 0.0000000e+00\n",
      " 0.0000000e+00 0.0000000e+00 0.0000000e+00 0.0000000e+00 0.0000000e+00\n",
      " 0.0000000e+00 0.0000000e+00] 32\n",
      "Cluster  9 [1.2000000e+01 1.2168268e+05 5.1567880e+06 0.0000000e+00 0.0000000e+00\n",
      " 0.0000000e+00 0.0000000e+00 0.0000000e+00 0.0000000e+00 0.0000000e+00\n",
      " 0.0000000e+00 0.0000000e+00 0.0000000e+00 0.0000000e+00 0.0000000e+00\n",
      " 0.0000000e+00 0.0000000e+00 0.0000000e+00 0.0000000e+00 0.0000000e+00\n",
      " 0.0000000e+00 0.0000000e+00 0.0000000e+00 0.0000000e+00 0.0000000e+00\n",
      " 0.0000000e+00 0.0000000e+00 0.0000000e+00 0.0000000e+00 0.0000000e+00\n",
      " 0.0000000e+00 0.0000000e+00] 32\n",
      "Cluster  10 [2.53766288e+01 4.98893271e+04 3.89715449e+03 1.98582300e-01\n",
      " 1.97852601e-01 1.97539873e-01 1.97018659e-01 1.97956844e-01\n",
      " 1.98373814e-01 5.37579485e-01 5.60825602e-02 6.25456062e-03\n",
      " 1.92431982e-01 1.91493798e-01 4.32502867e-01 4.21974356e-01\n",
      " 3.53382675e-02 2.14114458e-01 1.64077974e-01 2.05045346e-01\n",
      " 1.38851246e-01 1.37808819e-01 1.35723965e-01 1.34785781e-01\n",
      " 1.34056083e-01 1.33430626e-01 8.02668613e-02 8.05795893e-02\n",
      " 8.02668613e-02 8.18305014e-02 8.04753466e-02 7.91201918e-02] 32\n",
      "Cluster  11 [5.73000000e+02 1.87215256e+07 2.13661000e+05 0.00000000e+00\n",
      " 0.00000000e+00 0.00000000e+00 0.00000000e+00 0.00000000e+00\n",
      " 0.00000000e+00 0.00000000e+00 0.00000000e+00 0.00000000e+00\n",
      " 0.00000000e+00 0.00000000e+00 0.00000000e+00 0.00000000e+00\n",
      " 0.00000000e+00 0.00000000e+00 0.00000000e+00 0.00000000e+00\n",
      " 0.00000000e+00 0.00000000e+00 0.00000000e+00 0.00000000e+00\n",
      " 0.00000000e+00 0.00000000e+00 0.00000000e+00 0.00000000e+00\n",
      " 0.00000000e+00 0.00000000e+00 0.00000000e+00 0.00000000e+00] 32\n",
      "Cluster  12 [5.61000000e+02 1.79576271e+07 2.04668000e+05 0.00000000e+00\n",
      " 0.00000000e+00 0.00000000e+00 0.00000000e+00 0.00000000e+00\n",
      " 0.00000000e+00 0.00000000e+00 0.00000000e+00 0.00000000e+00\n",
      " 0.00000000e+00 0.00000000e+00 0.00000000e+00 0.00000000e+00\n",
      " 0.00000000e+00 0.00000000e+00 0.00000000e+00 0.00000000e+00\n",
      " 0.00000000e+00 0.00000000e+00 0.00000000e+00 0.00000000e+00\n",
      " 0.00000000e+00 0.00000000e+00 0.00000000e+00 0.00000000e+00\n",
      " 0.00000000e+00 0.00000000e+00 0.00000000e+00 0.00000000e+00] 32\n",
      "Cluster  13 [3.48055319e+02 2.58609175e+05 6.85637021e+03 2.51063830e-01\n",
      " 2.51063830e-01 2.38297872e-01 2.46808511e-01 2.51063830e-01\n",
      " 2.42553191e-01 4.12765957e-01 4.25531915e-03 4.25531915e-03\n",
      " 2.29787234e-01 2.29787234e-01 6.04255319e-01 6.34042553e-01\n",
      " 1.40425532e-01 2.80851064e-01 8.93617021e-02 2.29787234e-01\n",
      " 8.51063830e-02 7.23404255e-02 4.68085106e-02 5.10638298e-02\n",
      " 4.68085106e-02 5.53191489e-02 1.87234043e-01 1.61702128e-01\n",
      " 1.65957447e-01 1.87234043e-01 1.82978723e-01 1.74468085e-01] 32\n",
      "Cluster  14 [5.60000000e+02 1.77400939e+07 2.02786000e+05 0.00000000e+00\n",
      " 0.00000000e+00 0.00000000e+00 0.00000000e+00 0.00000000e+00\n",
      " 0.00000000e+00 0.00000000e+00 0.00000000e+00 0.00000000e+00\n",
      " 0.00000000e+00 0.00000000e+00 0.00000000e+00 0.00000000e+00\n",
      " 0.00000000e+00 0.00000000e+00 0.00000000e+00 0.00000000e+00\n",
      " 0.00000000e+00 0.00000000e+00 0.00000000e+00 0.00000000e+00\n",
      " 0.00000000e+00 0.00000000e+00 0.00000000e+00 0.00000000e+00\n",
      " 0.00000000e+00 0.00000000e+00 0.00000000e+00 0.00000000e+00] 32\n",
      "Cluster  15 [3.51000000e+02 9.06220841e+06 1.93573800e+06 0.00000000e+00\n",
      " 0.00000000e+00 0.00000000e+00 0.00000000e+00 0.00000000e+00\n",
      " 0.00000000e+00 0.00000000e+00 0.00000000e+00 0.00000000e+00\n",
      " 0.00000000e+00 0.00000000e+00 1.00000000e+00 1.00000000e+00\n",
      " 1.00000000e+00 1.00000000e+00 1.00000000e+00 1.00000000e+00\n",
      " 1.00000000e+00 0.00000000e+00 1.00000000e+00 1.00000000e+00\n",
      " 0.00000000e+00 1.00000000e+00 0.00000000e+00 0.00000000e+00\n",
      " 0.00000000e+00 0.00000000e+00 0.00000000e+00 0.00000000e+00] 32\n",
      "Cluster  16 [5.86900000e+04 1.28118942e+07 1.48584000e+05 1.00000000e+00\n",
      " 1.00000000e+00 0.00000000e+00 1.00000000e+00 1.00000000e+00\n",
      " 1.00000000e+00 1.00000000e+00 1.00000000e+00 0.00000000e+00\n",
      " 1.00000000e+00 1.00000000e+00 1.00000000e+00 1.00000000e+00\n",
      " 0.00000000e+00 1.00000000e+00 0.00000000e+00 1.00000000e+00\n",
      " 1.00000000e+00 1.00000000e+00 0.00000000e+00 1.00000000e+00\n",
      " 1.00000000e+00 1.00000000e+00 1.00000000e+00 1.00000000e+00\n",
      " 1.00000000e+00 1.00000000e+00 0.00000000e+00 1.00000000e+00] 32\n",
      "Cluster  17 [6.31410000e+04 1.72708302e+07 2.42377000e+05 1.00000000e+00\n",
      " 1.00000000e+00 1.00000000e+00 1.00000000e+00 1.00000000e+00\n",
      " 1.00000000e+00 1.00000000e+00 1.00000000e+00 1.00000000e+00\n",
      " 1.00000000e+00 1.00000000e+00 1.00000000e+00 1.00000000e+00\n",
      " 1.00000000e+00 1.00000000e+00 1.00000000e+00 1.00000000e+00\n",
      " 1.00000000e+00 1.00000000e+00 1.00000000e+00 1.00000000e+00\n",
      " 1.00000000e+00 1.00000000e+00 1.00000000e+00 1.00000000e+00\n",
      " 1.00000000e+00 1.00000000e+00 1.00000000e+00 1.00000000e+00] 32\n",
      "Cluster  18 [3.24416667e+03 1.53608118e+06 2.32029667e+05 0.00000000e+00\n",
      " 1.66666667e-01 0.00000000e+00 0.00000000e+00 0.00000000e+00\n",
      " 0.00000000e+00 5.00000000e-01 5.00000000e-01 1.66666667e-01\n",
      " 0.00000000e+00 0.00000000e+00 5.00000000e-01 5.00000000e-01\n",
      " 0.00000000e+00 5.00000000e-01 5.00000000e-01 5.00000000e-01\n",
      " 5.00000000e-01 1.66666667e-01 5.00000000e-01 6.66666667e-01\n",
      " 0.00000000e+00 0.00000000e+00 0.00000000e+00 0.00000000e+00\n",
      " 0.00000000e+00 0.00000000e+00 0.00000000e+00 0.00000000e+00] 32\n",
      "Cluster  19 [2.8000000e+01 6.3622857e+05 3.1530410e+06 0.0000000e+00 0.0000000e+00\n",
      " 0.0000000e+00 0.0000000e+00 0.0000000e+00 0.0000000e+00 0.0000000e+00\n",
      " 0.0000000e+00 0.0000000e+00 0.0000000e+00 0.0000000e+00 0.0000000e+00\n",
      " 0.0000000e+00 0.0000000e+00 0.0000000e+00 0.0000000e+00 0.0000000e+00\n",
      " 0.0000000e+00 0.0000000e+00 0.0000000e+00 0.0000000e+00 0.0000000e+00\n",
      " 0.0000000e+00 0.0000000e+00 0.0000000e+00 0.0000000e+00 0.0000000e+00\n",
      " 0.0000000e+00 0.0000000e+00] 32\n",
      "Cluster  20 [7.90000000e+02 2.63627921e+07 5.05455900e+06 0.00000000e+00\n",
      " 0.00000000e+00 0.00000000e+00 0.00000000e+00 0.00000000e+00\n",
      " 0.00000000e+00 0.00000000e+00 0.00000000e+00 0.00000000e+00\n",
      " 0.00000000e+00 0.00000000e+00 0.00000000e+00 0.00000000e+00\n",
      " 0.00000000e+00 0.00000000e+00 0.00000000e+00 0.00000000e+00\n",
      " 0.00000000e+00 0.00000000e+00 0.00000000e+00 0.00000000e+00\n",
      " 0.00000000e+00 0.00000000e+00 0.00000000e+00 0.00000000e+00\n",
      " 0.00000000e+00 0.00000000e+00 0.00000000e+00 0.00000000e+00] 32\n",
      "Cluster  21 [7.36919355e+02 6.78507640e+05 2.28480484e+04 1.61290323e-02\n",
      " 3.22580645e-02 3.22580645e-02 1.61290323e-02 3.22580645e-02\n",
      " 3.22580645e-02 7.74193548e-01 7.41935484e-01 1.61290323e-02\n",
      " 1.61290323e-02 1.61290323e-02 9.67741935e-01 9.51612903e-01\n",
      " 7.41935484e-01 7.58064516e-01 7.58064516e-01 7.41935484e-01\n",
      " 7.41935484e-01 7.58064516e-01 7.58064516e-01 7.41935484e-01\n",
      " 0.00000000e+00 7.41935484e-01 1.61290323e-02 3.22580645e-02\n",
      " 1.61290323e-02 1.61290323e-02 3.22580645e-02 1.61290323e-02] 32\n",
      "Cluster  22 [1.01000000e+02 3.47346376e+06 1.40326420e+07 0.00000000e+00\n",
      " 0.00000000e+00 0.00000000e+00 0.00000000e+00 0.00000000e+00\n",
      " 0.00000000e+00 0.00000000e+00 0.00000000e+00 0.00000000e+00\n",
      " 0.00000000e+00 0.00000000e+00 0.00000000e+00 0.00000000e+00\n",
      " 0.00000000e+00 0.00000000e+00 0.00000000e+00 0.00000000e+00\n",
      " 0.00000000e+00 0.00000000e+00 0.00000000e+00 0.00000000e+00\n",
      " 0.00000000e+00 0.00000000e+00 0.00000000e+00 0.00000000e+00\n",
      " 0.00000000e+00 0.00000000e+00 0.00000000e+00 0.00000000e+00] 32\n",
      "Cluster  23 [3.1400000e+02 1.4987841e+07 1.8360700e+05 0.0000000e+00 0.0000000e+00\n",
      " 0.0000000e+00 0.0000000e+00 0.0000000e+00 0.0000000e+00 1.0000000e+00\n",
      " 1.0000000e+00 0.0000000e+00 0.0000000e+00 0.0000000e+00 1.0000000e+00\n",
      " 1.0000000e+00 0.0000000e+00 1.0000000e+00 1.0000000e+00 0.0000000e+00\n",
      " 1.0000000e+00 1.0000000e+00 1.0000000e+00 1.0000000e+00 0.0000000e+00\n",
      " 1.0000000e+00 0.0000000e+00 0.0000000e+00 0.0000000e+00 0.0000000e+00\n",
      " 0.0000000e+00 0.0000000e+00] 32\n",
      "Cluster  24 [1.00000000e+02 3.45426342e+06 1.39803970e+07 0.00000000e+00\n",
      " 0.00000000e+00 0.00000000e+00 0.00000000e+00 0.00000000e+00\n",
      " 0.00000000e+00 0.00000000e+00 0.00000000e+00 0.00000000e+00\n",
      " 0.00000000e+00 0.00000000e+00 0.00000000e+00 0.00000000e+00\n",
      " 0.00000000e+00 0.00000000e+00 0.00000000e+00 0.00000000e+00\n",
      " 0.00000000e+00 0.00000000e+00 0.00000000e+00 0.00000000e+00\n",
      " 0.00000000e+00 0.00000000e+00 0.00000000e+00 0.00000000e+00\n",
      " 0.00000000e+00 0.00000000e+00 0.00000000e+00 0.00000000e+00] 32\n",
      "Cluster  25 [7.01000000e+02 2.30171159e+07 3.82120600e+06 0.00000000e+00\n",
      " 0.00000000e+00 0.00000000e+00 0.00000000e+00 0.00000000e+00\n",
      " 0.00000000e+00 0.00000000e+00 0.00000000e+00 0.00000000e+00\n",
      " 0.00000000e+00 0.00000000e+00 1.00000000e+00 1.00000000e+00\n",
      " 0.00000000e+00 0.00000000e+00 1.00000000e+00 0.00000000e+00\n",
      " 0.00000000e+00 0.00000000e+00 1.00000000e+00 0.00000000e+00\n",
      " 0.00000000e+00 0.00000000e+00 0.00000000e+00 0.00000000e+00\n",
      " 0.00000000e+00 0.00000000e+00 0.00000000e+00 0.00000000e+00] 32\n",
      "Cluster  26 [3.41000000e+02 2.46436118e+07 3.24582000e+05 0.00000000e+00\n",
      " 0.00000000e+00 0.00000000e+00 0.00000000e+00 0.00000000e+00\n",
      " 0.00000000e+00 1.00000000e+00 1.00000000e+00 0.00000000e+00\n",
      " 0.00000000e+00 0.00000000e+00 1.00000000e+00 1.00000000e+00\n",
      " 1.00000000e+00 1.00000000e+00 1.00000000e+00 1.00000000e+00\n",
      " 1.00000000e+00 1.00000000e+00 1.00000000e+00 1.00000000e+00\n",
      " 0.00000000e+00 1.00000000e+00 0.00000000e+00 0.00000000e+00\n",
      " 0.00000000e+00 0.00000000e+00 0.00000000e+00 0.00000000e+00] 32\n",
      "Cluster  27 [5.49000000e+02 1.75965737e+07 2.00779000e+05 0.00000000e+00\n",
      " 0.00000000e+00 0.00000000e+00 0.00000000e+00 0.00000000e+00\n",
      " 0.00000000e+00 0.00000000e+00 0.00000000e+00 0.00000000e+00\n",
      " 0.00000000e+00 0.00000000e+00 0.00000000e+00 0.00000000e+00\n",
      " 0.00000000e+00 0.00000000e+00 0.00000000e+00 0.00000000e+00\n",
      " 0.00000000e+00 0.00000000e+00 0.00000000e+00 0.00000000e+00\n",
      " 0.00000000e+00 0.00000000e+00 0.00000000e+00 0.00000000e+00\n",
      " 0.00000000e+00 0.00000000e+00 0.00000000e+00 0.00000000e+00] 32\n",
      "Cluster  28 [9.79025000e+03 2.56083124e+06 2.74118750e+05 2.50000000e-01\n",
      " 0.00000000e+00 0.00000000e+00 2.50000000e-01 0.00000000e+00\n",
      " 2.50000000e-01 2.50000000e-01 5.00000000e-01 2.50000000e-01\n",
      " 2.50000000e-01 0.00000000e+00 5.00000000e-01 2.50000000e-01\n",
      " 2.50000000e-01 2.50000000e-01 2.50000000e-01 2.50000000e-01\n",
      " 5.00000000e-01 2.50000000e-01 2.50000000e-01 5.00000000e-01\n",
      " 0.00000000e+00 2.50000000e-01 2.50000000e-01 0.00000000e+00\n",
      " 2.50000000e-01 2.50000000e-01 2.50000000e-01 2.50000000e-01] 32\n",
      "Cluster  29 [5.54000000e+02 1.72419889e+07 1.96206000e+05 0.00000000e+00\n",
      " 0.00000000e+00 0.00000000e+00 0.00000000e+00 0.00000000e+00\n",
      " 0.00000000e+00 0.00000000e+00 0.00000000e+00 0.00000000e+00\n",
      " 0.00000000e+00 0.00000000e+00 0.00000000e+00 0.00000000e+00\n",
      " 0.00000000e+00 0.00000000e+00 0.00000000e+00 0.00000000e+00\n",
      " 0.00000000e+00 0.00000000e+00 0.00000000e+00 0.00000000e+00\n",
      " 0.00000000e+00 0.00000000e+00 0.00000000e+00 0.00000000e+00\n",
      " 0.00000000e+00 0.00000000e+00 0.00000000e+00 0.00000000e+00] 32\n",
      "Cluster  30 [1.72000000e+02 3.92310266e+06 1.06627500e+06 0.00000000e+00\n",
      " 0.00000000e+00 0.00000000e+00 0.00000000e+00 0.00000000e+00\n",
      " 0.00000000e+00 0.00000000e+00 0.00000000e+00 0.00000000e+00\n",
      " 0.00000000e+00 0.00000000e+00 0.00000000e+00 0.00000000e+00\n",
      " 0.00000000e+00 0.00000000e+00 0.00000000e+00 0.00000000e+00\n",
      " 0.00000000e+00 0.00000000e+00 0.00000000e+00 0.00000000e+00\n",
      " 0.00000000e+00 0.00000000e+00 0.00000000e+00 0.00000000e+00\n",
      " 0.00000000e+00 0.00000000e+00 0.00000000e+00 0.00000000e+00] 32\n"
     ]
    }
   ],
   "source": [
    "print(\"Cluster Centers:\")\n",
    "i=0\n",
    "for center in centers:\n",
    "    print(\"Cluster \", str(i+1), center, len(center))\n",
    "    i = i+1"
   ]
  },
  {
   "cell_type": "markdown",
   "metadata": {},
   "source": [
    "## Exercise 7 Analyze the result of k-means clustering (k = 50) (15 points)\n",
    "- (a) Compute the Silhouette Score of the clustering result. (5 points)\n",
    "- (b) Describe scanners characteristics of the largest two cluster in this clustering result. What characteristics distinguish them? (10 point)"
   ]
  },
  {
   "cell_type": "markdown",
   "metadata": {},
   "source": [
    "## Answer for Exercise 7\n",
    "- (a) 0.9401983976474807\n",
    "- (b) The two largest cluset are 1 and 10 clusers. The characteristics of two largest clusters is the location of two centers are not near the Origin center, so the data points of these two center are not near 0 or 1. "
   ]
  },
  {
   "cell_type": "markdown",
   "metadata": {},
   "source": [
    "## Exercise 8 Perform k-means clustering for a different choice of the value of k  (25  points)\n",
    "- a) INCREASE the value of k to a value of your choice. (10 points)\n",
    "- b) Compare the \"Silhouette Score\" of this clustering result with that with k=30. (5 ponts)\n",
    "- c) Compare the top two clusters generated with this k value with those generated with k=30. (10 points)"
   ]
  },
  {
   "cell_type": "markdown",
   "metadata": {},
   "source": [
    "## 8(a) set k = 120, the k in model is 42"
   ]
  },
  {
   "cell_type": "code",
   "execution_count": 58,
   "metadata": {},
   "outputs": [
    {
     "data": {
      "text/plain": [
       "KMeansModel: uid=KMeans_09a15781ed34, k=42, distanceMeasure=euclidean, numFeatures=32"
      ]
     },
     "execution_count": 58,
     "metadata": {},
     "output_type": "execute_result"
    }
   ],
   "source": [
    "km30 = KMeans(featuresCol=\"features\", predictionCol=\"prediction\").setK(120).setSeed(123)\n",
    "kmModel1=km30.fit(data)\n",
    "kmModel1\n",
    "predictions1 = kmModel1.transform(data)\n",
    "silhouette1 = evaluator.evaluate(predictions1)\n",
    "kmModel1"
   ]
  },
  {
   "cell_type": "code",
   "execution_count": 59,
   "metadata": {},
   "outputs": [
    {
     "data": {
      "text/plain": [
       "0.9100791604264801"
      ]
     },
     "execution_count": 59,
     "metadata": {},
     "output_type": "execute_result"
    }
   ],
   "source": [
    "silhouette1"
   ]
  },
  {
   "cell_type": "code",
   "execution_count": 61,
   "metadata": {},
   "outputs": [
    {
     "data": {
      "text/plain": [
       "[202683,\n",
       " 1,\n",
       " 1,\n",
       " 1,\n",
       " 1,\n",
       " 1,\n",
       " 1,\n",
       " 1,\n",
       " 1,\n",
       " 1,\n",
       " 15758,\n",
       " 1,\n",
       " 1,\n",
       " 1,\n",
       " 32,\n",
       " 6916,\n",
       " 1,\n",
       " 1,\n",
       " 1,\n",
       " 7,\n",
       " 37,\n",
       " 1,\n",
       " 2,\n",
       " 81,\n",
       " 168,\n",
       " 1,\n",
       " 1,\n",
       " 16,\n",
       " 1,\n",
       " 1,\n",
       " 7,\n",
       " 48,\n",
       " 1,\n",
       " 7,\n",
       " 1,\n",
       " 1,\n",
       " 1,\n",
       " 1206,\n",
       " 2,\n",
       " 66,\n",
       " 1,\n",
       " 1,\n",
       " 0,\n",
       " 0,\n",
       " 0,\n",
       " 0,\n",
       " 0,\n",
       " 0,\n",
       " 0,\n",
       " 0,\n",
       " 0,\n",
       " 0,\n",
       " 0,\n",
       " 0,\n",
       " 0,\n",
       " 0,\n",
       " 0,\n",
       " 0,\n",
       " 0,\n",
       " 0,\n",
       " 0,\n",
       " 0,\n",
       " 0,\n",
       " 0,\n",
       " 0,\n",
       " 0,\n",
       " 0,\n",
       " 0,\n",
       " 0,\n",
       " 0,\n",
       " 0,\n",
       " 0,\n",
       " 0,\n",
       " 0,\n",
       " 0,\n",
       " 0,\n",
       " 0,\n",
       " 0,\n",
       " 0,\n",
       " 0,\n",
       " 0,\n",
       " 0,\n",
       " 0,\n",
       " 0,\n",
       " 0,\n",
       " 0,\n",
       " 0,\n",
       " 0,\n",
       " 0,\n",
       " 0,\n",
       " 0,\n",
       " 0,\n",
       " 0,\n",
       " 0,\n",
       " 0,\n",
       " 0,\n",
       " 0,\n",
       " 0,\n",
       " 0,\n",
       " 0,\n",
       " 0,\n",
       " 0,\n",
       " 0,\n",
       " 0,\n",
       " 0,\n",
       " 0,\n",
       " 0,\n",
       " 0,\n",
       " 0,\n",
       " 0,\n",
       " 0,\n",
       " 0,\n",
       " 0,\n",
       " 0,\n",
       " 0,\n",
       " 0,\n",
       " 0,\n",
       " 0,\n",
       " 0,\n",
       " 0]"
      ]
     },
     "execution_count": 61,
     "metadata": {},
     "output_type": "execute_result"
    }
   ],
   "source": [
    "summary1 = kmModel1.summary\n",
    "summary1.clusterSizes"
   ]
  },
  {
   "cell_type": "code",
   "execution_count": 60,
   "metadata": {},
   "outputs": [
    {
     "name": "stdout",
     "output_type": "stream",
     "text": [
      "Cluster Centers:\n",
      "Cluster  1 [2.95576986e+00 1.99681251e+03 9.40357608e+01 1.38355048e-01\n",
      " 1.37701083e-01 1.37673450e-01 1.37461603e-01 1.36623422e-01\n",
      " 1.36535920e-01 1.09999678e-01 1.14545195e-01 1.15816282e-01\n",
      " 9.11498271e-02 9.05557321e-02 4.90105325e-02 4.34241976e-02\n",
      " 3.84826170e-02 1.88176128e-02 1.79471946e-02 1.31299594e-02\n",
      " 1.24069136e-02 1.22595412e-02 1.21536173e-02 1.19233479e-02\n",
      " 1.19049264e-02 1.16378139e-02 1.14904415e-02 1.13200422e-02\n",
      " 1.12371452e-02 1.11496429e-02 1.11956967e-02 1.12509614e-02] 32\n",
      "Cluster  2 [3.82490000e+04 5.39254186e+08 2.29895860e+07 0.00000000e+00\n",
      " 0.00000000e+00 1.00000000e+00 1.00000000e+00 1.00000000e+00\n",
      " 1.00000000e+00 1.00000000e+00 0.00000000e+00 0.00000000e+00\n",
      " 1.00000000e+00 1.00000000e+00 1.00000000e+00 0.00000000e+00\n",
      " 0.00000000e+00 0.00000000e+00 1.00000000e+00 1.00000000e+00\n",
      " 1.00000000e+00 1.00000000e+00 1.00000000e+00 0.00000000e+00\n",
      " 0.00000000e+00 0.00000000e+00 1.00000000e+00 1.00000000e+00\n",
      " 1.00000000e+00 0.00000000e+00 1.00000000e+00 1.00000000e+00] 32\n",
      "Cluster  3 [3.58890000e+04 6.46934859e+07 6.78087000e+05 0.00000000e+00\n",
      " 1.00000000e+00 0.00000000e+00 1.00000000e+00 0.00000000e+00\n",
      " 1.00000000e+00 1.00000000e+00 0.00000000e+00 1.00000000e+00\n",
      " 1.00000000e+00 1.00000000e+00 1.00000000e+00 1.00000000e+00\n",
      " 0.00000000e+00 1.00000000e+00 0.00000000e+00 0.00000000e+00\n",
      " 0.00000000e+00 1.00000000e+00 0.00000000e+00 0.00000000e+00\n",
      " 0.00000000e+00 0.00000000e+00 1.00000000e+00 1.00000000e+00\n",
      " 1.00000000e+00 0.00000000e+00 1.00000000e+00 1.00000000e+00] 32\n",
      "Cluster  4 [8.11000000e+02 3.14141236e+07 5.50387300e+06 0.00000000e+00\n",
      " 0.00000000e+00 0.00000000e+00 0.00000000e+00 0.00000000e+00\n",
      " 0.00000000e+00 0.00000000e+00 0.00000000e+00 0.00000000e+00\n",
      " 0.00000000e+00 0.00000000e+00 0.00000000e+00 0.00000000e+00\n",
      " 0.00000000e+00 0.00000000e+00 0.00000000e+00 0.00000000e+00\n",
      " 0.00000000e+00 0.00000000e+00 0.00000000e+00 0.00000000e+00\n",
      " 0.00000000e+00 0.00000000e+00 0.00000000e+00 0.00000000e+00\n",
      " 0.00000000e+00 0.00000000e+00 0.00000000e+00 0.00000000e+00] 32\n",
      "Cluster  5 [3.60995000e+04 6.31976002e+07 6.76230000e+05 1.00000000e+00\n",
      " 5.00000000e-01 0.00000000e+00 5.00000000e-01 0.00000000e+00\n",
      " 5.00000000e-01 1.00000000e+00 0.00000000e+00 0.00000000e+00\n",
      " 0.00000000e+00 0.00000000e+00 1.00000000e+00 5.00000000e-01\n",
      " 0.00000000e+00 5.00000000e-01 1.00000000e+00 1.00000000e+00\n",
      " 0.00000000e+00 0.00000000e+00 1.00000000e+00 5.00000000e-01\n",
      " 5.00000000e-01 5.00000000e-01 1.00000000e+00 1.00000000e+00\n",
      " 1.00000000e+00 5.00000000e-01 0.00000000e+00 5.00000000e-01] 32\n",
      "Cluster  6 [3.96920000e+04 5.29455354e+08 2.37260330e+07 1.00000000e+00\n",
      " 1.00000000e+00 1.00000000e+00 1.00000000e+00 1.00000000e+00\n",
      " 1.00000000e+00 0.00000000e+00 0.00000000e+00 1.00000000e+00\n",
      " 1.00000000e+00 0.00000000e+00 1.00000000e+00 1.00000000e+00\n",
      " 0.00000000e+00 0.00000000e+00 1.00000000e+00 0.00000000e+00\n",
      " 0.00000000e+00 1.00000000e+00 1.00000000e+00 1.00000000e+00\n",
      " 0.00000000e+00 1.00000000e+00 0.00000000e+00 1.00000000e+00\n",
      " 1.00000000e+00 1.00000000e+00 1.00000000e+00 1.00000000e+00] 32\n",
      "Cluster  7 [3.67940000e+04 6.39840137e+07 6.79683000e+05 1.00000000e+00\n",
      " 0.00000000e+00 0.00000000e+00 1.00000000e+00 0.00000000e+00\n",
      " 1.00000000e+00 0.00000000e+00 0.00000000e+00 1.00000000e+00\n",
      " 1.00000000e+00 1.00000000e+00 1.00000000e+00 0.00000000e+00\n",
      " 0.00000000e+00 1.00000000e+00 0.00000000e+00 1.00000000e+00\n",
      " 0.00000000e+00 1.00000000e+00 0.00000000e+00 1.00000000e+00\n",
      " 0.00000000e+00 0.00000000e+00 1.00000000e+00 1.00000000e+00\n",
      " 0.00000000e+00 1.00000000e+00 0.00000000e+00 1.00000000e+00] 32\n",
      "Cluster  8 [3.5710000e+03 1.0039328e+08 7.0651340e+06 0.0000000e+00 0.0000000e+00\n",
      " 0.0000000e+00 0.0000000e+00 0.0000000e+00 0.0000000e+00 0.0000000e+00\n",
      " 0.0000000e+00 0.0000000e+00 0.0000000e+00 0.0000000e+00 0.0000000e+00\n",
      " 0.0000000e+00 0.0000000e+00 0.0000000e+00 0.0000000e+00 0.0000000e+00\n",
      " 0.0000000e+00 0.0000000e+00 0.0000000e+00 0.0000000e+00 0.0000000e+00\n",
      " 0.0000000e+00 0.0000000e+00 0.0000000e+00 0.0000000e+00 0.0000000e+00\n",
      " 0.0000000e+00 0.0000000e+00] 32\n",
      "Cluster  9 [1.2000000e+01 1.2168268e+05 5.1567880e+06 0.0000000e+00 0.0000000e+00\n",
      " 0.0000000e+00 0.0000000e+00 0.0000000e+00 0.0000000e+00 0.0000000e+00\n",
      " 0.0000000e+00 0.0000000e+00 0.0000000e+00 0.0000000e+00 0.0000000e+00\n",
      " 0.0000000e+00 0.0000000e+00 0.0000000e+00 0.0000000e+00 0.0000000e+00\n",
      " 0.0000000e+00 0.0000000e+00 0.0000000e+00 0.0000000e+00 0.0000000e+00\n",
      " 0.0000000e+00 0.0000000e+00 0.0000000e+00 0.0000000e+00 0.0000000e+00\n",
      " 0.0000000e+00 0.0000000e+00] 32\n",
      "Cluster  10 [2.53766288e+01 4.98893271e+04 3.89715449e+03 1.98582300e-01\n",
      " 1.97852601e-01 1.97539873e-01 1.97018659e-01 1.97956844e-01\n",
      " 1.98373814e-01 5.37579485e-01 5.60825602e-02 6.25456062e-03\n",
      " 1.92431982e-01 1.91493798e-01 4.32502867e-01 4.21974356e-01\n",
      " 3.53382675e-02 2.14114458e-01 1.64077974e-01 2.05045346e-01\n",
      " 1.38851246e-01 1.37808819e-01 1.35723965e-01 1.34785781e-01\n",
      " 1.34056083e-01 1.33430626e-01 8.02668613e-02 8.05795893e-02\n",
      " 8.02668613e-02 8.18305014e-02 8.04753466e-02 7.91201918e-02] 32\n",
      "Cluster  11 [5.73000000e+02 1.87215256e+07 2.13661000e+05 0.00000000e+00\n",
      " 0.00000000e+00 0.00000000e+00 0.00000000e+00 0.00000000e+00\n",
      " 0.00000000e+00 0.00000000e+00 0.00000000e+00 0.00000000e+00\n",
      " 0.00000000e+00 0.00000000e+00 0.00000000e+00 0.00000000e+00\n",
      " 0.00000000e+00 0.00000000e+00 0.00000000e+00 0.00000000e+00\n",
      " 0.00000000e+00 0.00000000e+00 0.00000000e+00 0.00000000e+00\n",
      " 0.00000000e+00 0.00000000e+00 0.00000000e+00 0.00000000e+00\n",
      " 0.00000000e+00 0.00000000e+00 0.00000000e+00 0.00000000e+00] 32\n",
      "Cluster  12 [5.61000000e+02 1.79576271e+07 2.04668000e+05 0.00000000e+00\n",
      " 0.00000000e+00 0.00000000e+00 0.00000000e+00 0.00000000e+00\n",
      " 0.00000000e+00 0.00000000e+00 0.00000000e+00 0.00000000e+00\n",
      " 0.00000000e+00 0.00000000e+00 0.00000000e+00 0.00000000e+00\n",
      " 0.00000000e+00 0.00000000e+00 0.00000000e+00 0.00000000e+00\n",
      " 0.00000000e+00 0.00000000e+00 0.00000000e+00 0.00000000e+00\n",
      " 0.00000000e+00 0.00000000e+00 0.00000000e+00 0.00000000e+00\n",
      " 0.00000000e+00 0.00000000e+00 0.00000000e+00 0.00000000e+00] 32\n",
      "Cluster  13 [3.48055319e+02 2.58609175e+05 6.85637021e+03 2.51063830e-01\n",
      " 2.51063830e-01 2.38297872e-01 2.46808511e-01 2.51063830e-01\n",
      " 2.42553191e-01 4.12765957e-01 4.25531915e-03 4.25531915e-03\n",
      " 2.29787234e-01 2.29787234e-01 6.04255319e-01 6.34042553e-01\n",
      " 1.40425532e-01 2.80851064e-01 8.93617021e-02 2.29787234e-01\n",
      " 8.51063830e-02 7.23404255e-02 4.68085106e-02 5.10638298e-02\n",
      " 4.68085106e-02 5.53191489e-02 1.87234043e-01 1.61702128e-01\n",
      " 1.65957447e-01 1.87234043e-01 1.82978723e-01 1.74468085e-01] 32\n",
      "Cluster  14 [5.60000000e+02 1.77400939e+07 2.02786000e+05 0.00000000e+00\n",
      " 0.00000000e+00 0.00000000e+00 0.00000000e+00 0.00000000e+00\n",
      " 0.00000000e+00 0.00000000e+00 0.00000000e+00 0.00000000e+00\n",
      " 0.00000000e+00 0.00000000e+00 0.00000000e+00 0.00000000e+00\n",
      " 0.00000000e+00 0.00000000e+00 0.00000000e+00 0.00000000e+00\n",
      " 0.00000000e+00 0.00000000e+00 0.00000000e+00 0.00000000e+00\n",
      " 0.00000000e+00 0.00000000e+00 0.00000000e+00 0.00000000e+00\n",
      " 0.00000000e+00 0.00000000e+00 0.00000000e+00 0.00000000e+00] 32\n",
      "Cluster  15 [3.51000000e+02 9.06220841e+06 1.93573800e+06 0.00000000e+00\n",
      " 0.00000000e+00 0.00000000e+00 0.00000000e+00 0.00000000e+00\n",
      " 0.00000000e+00 0.00000000e+00 0.00000000e+00 0.00000000e+00\n",
      " 0.00000000e+00 0.00000000e+00 1.00000000e+00 1.00000000e+00\n",
      " 1.00000000e+00 1.00000000e+00 1.00000000e+00 1.00000000e+00\n",
      " 1.00000000e+00 0.00000000e+00 1.00000000e+00 1.00000000e+00\n",
      " 0.00000000e+00 1.00000000e+00 0.00000000e+00 0.00000000e+00\n",
      " 0.00000000e+00 0.00000000e+00 0.00000000e+00 0.00000000e+00] 32\n",
      "Cluster  16 [5.86900000e+04 1.28118942e+07 1.48584000e+05 1.00000000e+00\n",
      " 1.00000000e+00 0.00000000e+00 1.00000000e+00 1.00000000e+00\n",
      " 1.00000000e+00 1.00000000e+00 1.00000000e+00 0.00000000e+00\n",
      " 1.00000000e+00 1.00000000e+00 1.00000000e+00 1.00000000e+00\n",
      " 0.00000000e+00 1.00000000e+00 0.00000000e+00 1.00000000e+00\n",
      " 1.00000000e+00 1.00000000e+00 0.00000000e+00 1.00000000e+00\n",
      " 1.00000000e+00 1.00000000e+00 1.00000000e+00 1.00000000e+00\n",
      " 1.00000000e+00 1.00000000e+00 0.00000000e+00 1.00000000e+00] 32\n",
      "Cluster  17 [6.31410000e+04 1.72708302e+07 2.42377000e+05 1.00000000e+00\n",
      " 1.00000000e+00 1.00000000e+00 1.00000000e+00 1.00000000e+00\n",
      " 1.00000000e+00 1.00000000e+00 1.00000000e+00 1.00000000e+00\n",
      " 1.00000000e+00 1.00000000e+00 1.00000000e+00 1.00000000e+00\n",
      " 1.00000000e+00 1.00000000e+00 1.00000000e+00 1.00000000e+00\n",
      " 1.00000000e+00 1.00000000e+00 1.00000000e+00 1.00000000e+00\n",
      " 1.00000000e+00 1.00000000e+00 1.00000000e+00 1.00000000e+00\n",
      " 1.00000000e+00 1.00000000e+00 1.00000000e+00 1.00000000e+00] 32\n",
      "Cluster  18 [3.24416667e+03 1.53608118e+06 2.32029667e+05 0.00000000e+00\n",
      " 1.66666667e-01 0.00000000e+00 0.00000000e+00 0.00000000e+00\n",
      " 0.00000000e+00 5.00000000e-01 5.00000000e-01 1.66666667e-01\n",
      " 0.00000000e+00 0.00000000e+00 5.00000000e-01 5.00000000e-01\n",
      " 0.00000000e+00 5.00000000e-01 5.00000000e-01 5.00000000e-01\n",
      " 5.00000000e-01 1.66666667e-01 5.00000000e-01 6.66666667e-01\n",
      " 0.00000000e+00 0.00000000e+00 0.00000000e+00 0.00000000e+00\n",
      " 0.00000000e+00 0.00000000e+00 0.00000000e+00 0.00000000e+00] 32\n",
      "Cluster  19 [2.8000000e+01 6.3622857e+05 3.1530410e+06 0.0000000e+00 0.0000000e+00\n",
      " 0.0000000e+00 0.0000000e+00 0.0000000e+00 0.0000000e+00 0.0000000e+00\n",
      " 0.0000000e+00 0.0000000e+00 0.0000000e+00 0.0000000e+00 0.0000000e+00\n",
      " 0.0000000e+00 0.0000000e+00 0.0000000e+00 0.0000000e+00 0.0000000e+00\n",
      " 0.0000000e+00 0.0000000e+00 0.0000000e+00 0.0000000e+00 0.0000000e+00\n",
      " 0.0000000e+00 0.0000000e+00 0.0000000e+00 0.0000000e+00 0.0000000e+00\n",
      " 0.0000000e+00 0.0000000e+00] 32\n",
      "Cluster  20 [7.90000000e+02 2.63627921e+07 5.05455900e+06 0.00000000e+00\n",
      " 0.00000000e+00 0.00000000e+00 0.00000000e+00 0.00000000e+00\n",
      " 0.00000000e+00 0.00000000e+00 0.00000000e+00 0.00000000e+00\n",
      " 0.00000000e+00 0.00000000e+00 0.00000000e+00 0.00000000e+00\n",
      " 0.00000000e+00 0.00000000e+00 0.00000000e+00 0.00000000e+00\n",
      " 0.00000000e+00 0.00000000e+00 0.00000000e+00 0.00000000e+00\n",
      " 0.00000000e+00 0.00000000e+00 0.00000000e+00 0.00000000e+00\n",
      " 0.00000000e+00 0.00000000e+00 0.00000000e+00 0.00000000e+00] 32\n",
      "Cluster  21 [7.36919355e+02 6.78507640e+05 2.28480484e+04 1.61290323e-02\n",
      " 3.22580645e-02 3.22580645e-02 1.61290323e-02 3.22580645e-02\n",
      " 3.22580645e-02 7.74193548e-01 7.41935484e-01 1.61290323e-02\n",
      " 1.61290323e-02 1.61290323e-02 9.67741935e-01 9.51612903e-01\n",
      " 7.41935484e-01 7.58064516e-01 7.58064516e-01 7.41935484e-01\n",
      " 7.41935484e-01 7.58064516e-01 7.58064516e-01 7.41935484e-01\n",
      " 0.00000000e+00 7.41935484e-01 1.61290323e-02 3.22580645e-02\n",
      " 1.61290323e-02 1.61290323e-02 3.22580645e-02 1.61290323e-02] 32\n",
      "Cluster  22 [1.01000000e+02 3.47346376e+06 1.40326420e+07 0.00000000e+00\n",
      " 0.00000000e+00 0.00000000e+00 0.00000000e+00 0.00000000e+00\n",
      " 0.00000000e+00 0.00000000e+00 0.00000000e+00 0.00000000e+00\n",
      " 0.00000000e+00 0.00000000e+00 0.00000000e+00 0.00000000e+00\n",
      " 0.00000000e+00 0.00000000e+00 0.00000000e+00 0.00000000e+00\n",
      " 0.00000000e+00 0.00000000e+00 0.00000000e+00 0.00000000e+00\n",
      " 0.00000000e+00 0.00000000e+00 0.00000000e+00 0.00000000e+00\n",
      " 0.00000000e+00 0.00000000e+00 0.00000000e+00 0.00000000e+00] 32\n",
      "Cluster  23 [3.1400000e+02 1.4987841e+07 1.8360700e+05 0.0000000e+00 0.0000000e+00\n",
      " 0.0000000e+00 0.0000000e+00 0.0000000e+00 0.0000000e+00 1.0000000e+00\n",
      " 1.0000000e+00 0.0000000e+00 0.0000000e+00 0.0000000e+00 1.0000000e+00\n",
      " 1.0000000e+00 0.0000000e+00 1.0000000e+00 1.0000000e+00 0.0000000e+00\n",
      " 1.0000000e+00 1.0000000e+00 1.0000000e+00 1.0000000e+00 0.0000000e+00\n",
      " 1.0000000e+00 0.0000000e+00 0.0000000e+00 0.0000000e+00 0.0000000e+00\n",
      " 0.0000000e+00 0.0000000e+00] 32\n",
      "Cluster  24 [1.00000000e+02 3.45426342e+06 1.39803970e+07 0.00000000e+00\n",
      " 0.00000000e+00 0.00000000e+00 0.00000000e+00 0.00000000e+00\n",
      " 0.00000000e+00 0.00000000e+00 0.00000000e+00 0.00000000e+00\n",
      " 0.00000000e+00 0.00000000e+00 0.00000000e+00 0.00000000e+00\n",
      " 0.00000000e+00 0.00000000e+00 0.00000000e+00 0.00000000e+00\n",
      " 0.00000000e+00 0.00000000e+00 0.00000000e+00 0.00000000e+00\n",
      " 0.00000000e+00 0.00000000e+00 0.00000000e+00 0.00000000e+00\n",
      " 0.00000000e+00 0.00000000e+00 0.00000000e+00 0.00000000e+00] 32\n",
      "Cluster  25 [7.01000000e+02 2.30171159e+07 3.82120600e+06 0.00000000e+00\n",
      " 0.00000000e+00 0.00000000e+00 0.00000000e+00 0.00000000e+00\n",
      " 0.00000000e+00 0.00000000e+00 0.00000000e+00 0.00000000e+00\n",
      " 0.00000000e+00 0.00000000e+00 1.00000000e+00 1.00000000e+00\n",
      " 0.00000000e+00 0.00000000e+00 1.00000000e+00 0.00000000e+00\n",
      " 0.00000000e+00 0.00000000e+00 1.00000000e+00 0.00000000e+00\n",
      " 0.00000000e+00 0.00000000e+00 0.00000000e+00 0.00000000e+00\n",
      " 0.00000000e+00 0.00000000e+00 0.00000000e+00 0.00000000e+00] 32\n",
      "Cluster  26 [3.41000000e+02 2.46436118e+07 3.24582000e+05 0.00000000e+00\n",
      " 0.00000000e+00 0.00000000e+00 0.00000000e+00 0.00000000e+00\n",
      " 0.00000000e+00 1.00000000e+00 1.00000000e+00 0.00000000e+00\n",
      " 0.00000000e+00 0.00000000e+00 1.00000000e+00 1.00000000e+00\n",
      " 1.00000000e+00 1.00000000e+00 1.00000000e+00 1.00000000e+00\n",
      " 1.00000000e+00 1.00000000e+00 1.00000000e+00 1.00000000e+00\n",
      " 0.00000000e+00 1.00000000e+00 0.00000000e+00 0.00000000e+00\n",
      " 0.00000000e+00 0.00000000e+00 0.00000000e+00 0.00000000e+00] 32\n",
      "Cluster  27 [5.49000000e+02 1.75965737e+07 2.00779000e+05 0.00000000e+00\n",
      " 0.00000000e+00 0.00000000e+00 0.00000000e+00 0.00000000e+00\n",
      " 0.00000000e+00 0.00000000e+00 0.00000000e+00 0.00000000e+00\n",
      " 0.00000000e+00 0.00000000e+00 0.00000000e+00 0.00000000e+00\n",
      " 0.00000000e+00 0.00000000e+00 0.00000000e+00 0.00000000e+00\n",
      " 0.00000000e+00 0.00000000e+00 0.00000000e+00 0.00000000e+00\n",
      " 0.00000000e+00 0.00000000e+00 0.00000000e+00 0.00000000e+00\n",
      " 0.00000000e+00 0.00000000e+00 0.00000000e+00 0.00000000e+00] 32\n",
      "Cluster  28 [9.79025000e+03 2.56083124e+06 2.74118750e+05 2.50000000e-01\n",
      " 0.00000000e+00 0.00000000e+00 2.50000000e-01 0.00000000e+00\n",
      " 2.50000000e-01 2.50000000e-01 5.00000000e-01 2.50000000e-01\n",
      " 2.50000000e-01 0.00000000e+00 5.00000000e-01 2.50000000e-01\n",
      " 2.50000000e-01 2.50000000e-01 2.50000000e-01 2.50000000e-01\n",
      " 5.00000000e-01 2.50000000e-01 2.50000000e-01 5.00000000e-01\n",
      " 0.00000000e+00 2.50000000e-01 2.50000000e-01 0.00000000e+00\n",
      " 2.50000000e-01 2.50000000e-01 2.50000000e-01 2.50000000e-01] 32\n",
      "Cluster  29 [5.54000000e+02 1.72419889e+07 1.96206000e+05 0.00000000e+00\n",
      " 0.00000000e+00 0.00000000e+00 0.00000000e+00 0.00000000e+00\n",
      " 0.00000000e+00 0.00000000e+00 0.00000000e+00 0.00000000e+00\n",
      " 0.00000000e+00 0.00000000e+00 0.00000000e+00 0.00000000e+00\n",
      " 0.00000000e+00 0.00000000e+00 0.00000000e+00 0.00000000e+00\n",
      " 0.00000000e+00 0.00000000e+00 0.00000000e+00 0.00000000e+00\n",
      " 0.00000000e+00 0.00000000e+00 0.00000000e+00 0.00000000e+00\n",
      " 0.00000000e+00 0.00000000e+00 0.00000000e+00 0.00000000e+00] 32\n",
      "Cluster  30 [1.72000000e+02 3.92310266e+06 1.06627500e+06 0.00000000e+00\n",
      " 0.00000000e+00 0.00000000e+00 0.00000000e+00 0.00000000e+00\n",
      " 0.00000000e+00 0.00000000e+00 0.00000000e+00 0.00000000e+00\n",
      " 0.00000000e+00 0.00000000e+00 0.00000000e+00 0.00000000e+00\n",
      " 0.00000000e+00 0.00000000e+00 0.00000000e+00 0.00000000e+00\n",
      " 0.00000000e+00 0.00000000e+00 0.00000000e+00 0.00000000e+00\n",
      " 0.00000000e+00 0.00000000e+00 0.00000000e+00 0.00000000e+00\n",
      " 0.00000000e+00 0.00000000e+00 0.00000000e+00 0.00000000e+00] 32\n"
     ]
    }
   ],
   "source": [
    "centers1 = kmModel1.clusterCenters()\n",
    "print(\"Cluster Centers:\")\n",
    "i=0\n",
    "for center in centers:\n",
    "    print(\"Cluster \", str(i+1), center, len(center))\n",
    "    i = i+1"
   ]
  },
  {
   "cell_type": "markdown",
   "metadata": {},
   "source": [
    "## Answer for Exercise 8 \n",
    "- (b) silhouette for k = 30 is 0.9401, the silhouette for higher k=42 is 0.9100. So, the silhouette for high k decrease.\n",
    "- (c) The top two clusets for different key have the similar pattern, the all first cluster have the large cluster size, and all second cluster have the small cluster size. And, we conclude that for different k we choose, the first cluster has large size and don't near the original center, the second cluster has small size and near the original center. "
   ]
  }
 ],
 "metadata": {
  "kernelspec": {
   "display_name": "Python 3",
   "language": "python",
   "name": "python3"
  },
  "language_info": {
   "codemirror_mode": {
    "name": "ipython",
    "version": 3
   },
   "file_extension": ".py",
   "mimetype": "text/x-python",
   "name": "python",
   "nbconvert_exporter": "python",
   "pygments_lexer": "ipython3",
   "version": "3.8.3"
  }
 },
 "nbformat": 4,
 "nbformat_minor": 4
}
