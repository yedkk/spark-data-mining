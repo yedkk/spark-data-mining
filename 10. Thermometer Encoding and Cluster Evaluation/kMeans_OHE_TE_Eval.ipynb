{
 "cells": [
  {
   "cell_type": "markdown",
   "metadata": {},
   "source": [
    "## DS/CMPSC 410 MiniProject #3\n",
    "\n",
    "### Spring 2021\n",
    "### Instructor: John Yen\n",
    "### TA: Rupesh Prajapati and Dongkuan Xu\n",
    "### Learning Objectives\n",
    "- Be able to apply thermometer encoding to encode numerical variables into binary variable format.\n",
    "- Be able to apply k-means clustering to the Darknet dataset based on both thermometer encoding and one-hot encoding.\n",
    "- Be able to use external labels (e.g., mirai, zmap, and masscan) to evaluate the result of k-means clustering.\n",
    "- Be able to investigate characteristics of a cluster using one-hot encoded feature.\n",
    "\n",
    "### Total points: 100 \n",
    "- Exercise 1: 5 points\n",
    "- Exercise 2: 5 points \n",
    "- Exercise 3: 5 points \n",
    "- Exercise 4: 15 points\n",
    "- Exercise 5: 5 points\n",
    "- Exercise 6: 10 points\n",
    "- Exercise 7: 5 points\n",
    "- Exercise 8: 5 points\n",
    "- Exercise 9: 10 points\n",
    "- Exercise 10: 5 points\n",
    "- Exercise 11: 10 points\n",
    "- Exercise 12: 20 points\n",
    "  \n",
    "### Due: 5 pm, April 23, 2021"
   ]
  },
  {
   "cell_type": "code",
   "execution_count": 10,
   "metadata": {},
   "outputs": [],
   "source": [
    "import pyspark\n",
    "import csv"
   ]
  },
  {
   "cell_type": "code",
   "execution_count": 11,
   "metadata": {},
   "outputs": [],
   "source": [
    "from pyspark import SparkContext\n",
    "from pyspark.sql import SparkSession\n",
    "from pyspark.sql.types import StructField, StructType, StringType, LongType\n",
    "from pyspark.sql.functions import col, column\n",
    "from pyspark.sql.functions import expr\n",
    "from pyspark.sql.functions import split\n",
    "from pyspark.sql.functions import array_contains\n",
    "from pyspark.sql import Row\n",
    "from pyspark.ml import Pipeline\n",
    "from pyspark.ml.feature import OneHotEncoder, StringIndexer, VectorAssembler, IndexToString, PCA\n",
    "from pyspark.ml.clustering import KMeans\n",
    "from pyspark.ml.evaluation import ClusteringEvaluator"
   ]
  },
  {
   "cell_type": "code",
   "execution_count": 12,
   "metadata": {},
   "outputs": [],
   "source": [
    "import pandas as pd\n",
    "import numpy as np\n",
    "import math"
   ]
  },
  {
   "cell_type": "code",
   "execution_count": 13,
   "metadata": {},
   "outputs": [],
   "source": [
    "ss = SparkSession.builder.master(\"local\").appName(\"ClusteringTE\").getOrCreate()"
   ]
  },
  {
   "cell_type": "markdown",
   "metadata": {},
   "source": [
    "## Exercise 1 (5 points)\n",
    "Complete the path for input file in the code below and enter your name in this Markdown cell:\n",
    "- Name: Kangdong Yuan"
   ]
  },
  {
   "cell_type": "code",
   "execution_count": 14,
   "metadata": {},
   "outputs": [],
   "source": [
    "Scanners_df = ss.read.csv(\"/storage/home/kky5082/ds410/Lab10/sampled_profile.csv\", header= True, inferSchema=True )"
   ]
  },
  {
   "cell_type": "markdown",
   "metadata": {},
   "source": [
    "## We can use printSchema() to display the schema of the DataFrame Scanners_df to see whether it was inferred correctly."
   ]
  },
  {
   "cell_type": "code",
   "execution_count": 15,
   "metadata": {},
   "outputs": [
    {
     "name": "stdout",
     "output_type": "stream",
     "text": [
      "root\n",
      " |-- _c0: integer (nullable = true)\n",
      " |-- id: integer (nullable = true)\n",
      " |-- numports: integer (nullable = true)\n",
      " |-- lifetime: double (nullable = true)\n",
      " |-- Bytes: integer (nullable = true)\n",
      " |-- Packets: integer (nullable = true)\n",
      " |-- average_packetsize: integer (nullable = true)\n",
      " |-- MinUniqueDests: integer (nullable = true)\n",
      " |-- MaxUniqueDests: integer (nullable = true)\n",
      " |-- MinUniqueDest24s: integer (nullable = true)\n",
      " |-- MaxUniqueDest24s: integer (nullable = true)\n",
      " |-- average_lifetime: double (nullable = true)\n",
      " |-- mirai: boolean (nullable = true)\n",
      " |-- zmap: boolean (nullable = true)\n",
      " |-- masscan: boolean (nullable = true)\n",
      " |-- country: string (nullable = true)\n",
      " |-- traffic_types_scanned_str: string (nullable = true)\n",
      " |-- ports_scanned_str: string (nullable = true)\n",
      " |-- host_tags_per_censys: string (nullable = true)\n",
      " |-- host_services_per_censys: string (nullable = true)\n",
      "\n"
     ]
    }
   ],
   "source": [
    "Scanners_df.printSchema()"
   ]
  },
  {
   "cell_type": "code",
   "execution_count": 16,
   "metadata": {},
   "outputs": [
    {
     "data": {
      "text/plain": [
       "17132"
      ]
     },
     "execution_count": 16,
     "metadata": {},
     "output_type": "execute_result"
    }
   ],
   "source": [
    "Scanners_df.where(col('mirai')).count()"
   ]
  },
  {
   "cell_type": "markdown",
   "metadata": {},
   "source": [
    "# Part A: One Hot Encoding \n",
    "## This part is identical to that of Miniproject Deliverable #2\n",
    "We want to apply one hot encoding to the set of ports scanned by scanners.  \n",
    "- A.1 Like Mini Project deliverable 1 and 2, we first convert the feature \"ports_scanned_str\" to a feature that is an Array of ports\n",
    "- A.2 We then calculate the total number of scanners for each port\n",
    "- A.3 We identify the top n port to use for one-hot encoding (You choose the number n).\n",
    "- A.4 Generate one-hot encoded feature for these top n ports."
   ]
  },
  {
   "cell_type": "code",
   "execution_count": 17,
   "metadata": {},
   "outputs": [],
   "source": [
    "# Scanners_df.select(\"ports_scanned_str\").show(30)"
   ]
  },
  {
   "cell_type": "code",
   "execution_count": 18,
   "metadata": {},
   "outputs": [],
   "source": [
    "Scanners_df2=Scanners_df.withColumn(\"Ports_Array\", split(col(\"ports_scanned_str\"), \"-\") )\n",
    "# Scanners_df2.persist().show(10)"
   ]
  },
  {
   "cell_type": "markdown",
   "metadata": {},
   "source": [
    "## A.1 We only need the column ```Ports_Array``` to calculate the top ports being scanned"
   ]
  },
  {
   "cell_type": "code",
   "execution_count": 19,
   "metadata": {},
   "outputs": [],
   "source": [
    "Ports_Scanned_RDD = Scanners_df2.select(\"Ports_Array\").rdd"
   ]
  },
  {
   "cell_type": "code",
   "execution_count": 20,
   "metadata": {},
   "outputs": [],
   "source": [
    "# Ports_Scanned_RDD.persist().take(5)"
   ]
  },
  {
   "cell_type": "markdown",
   "metadata": {},
   "source": [
    "## Because each port number in the Ports_Array column for each row occurs only once, we can count the total occurance of each port number through flatMap."
   ]
  },
  {
   "cell_type": "code",
   "execution_count": 21,
   "metadata": {},
   "outputs": [],
   "source": [
    "Ports_list_RDD = Ports_Scanned_RDD.map(lambda row: row[0] )"
   ]
  },
  {
   "cell_type": "code",
   "execution_count": 22,
   "metadata": {},
   "outputs": [],
   "source": [
    "# Ports_list_RDD.persist()"
   ]
  },
  {
   "cell_type": "code",
   "execution_count": 23,
   "metadata": {},
   "outputs": [],
   "source": [
    "Ports_list2_RDD = Ports_Scanned_RDD.flatMap(lambda row: row[0] )"
   ]
  },
  {
   "cell_type": "code",
   "execution_count": 24,
   "metadata": {},
   "outputs": [],
   "source": [
    "Port_count_RDD = Ports_list2_RDD.map(lambda x: (x, 1))\n",
    "# Port_count_RDD.take(2)"
   ]
  },
  {
   "cell_type": "code",
   "execution_count": 25,
   "metadata": {},
   "outputs": [],
   "source": [
    "Port_count_total_RDD = Port_count_RDD.reduceByKey(lambda x,y: x+y, 1)\n",
    "# Port_count_total_RDD.persist().take(5)"
   ]
  },
  {
   "cell_type": "code",
   "execution_count": 26,
   "metadata": {},
   "outputs": [],
   "source": [
    "Sorted_Count_Port_RDD = Port_count_total_RDD.map(lambda x: (x[1], x[0])).sortByKey( ascending = False)"
   ]
  },
  {
   "cell_type": "code",
   "execution_count": 27,
   "metadata": {},
   "outputs": [],
   "source": [
    "# Sorted_Count_Port_RDD.persist().take(50)"
   ]
  },
  {
   "cell_type": "markdown",
   "metadata": {},
   "source": [
    "## Exercise 2 (5%)\n",
    "Select top_ports to be the number of top ports you want to use for one-hot encoding.  I recommend a number between 20 and 40."
   ]
  },
  {
   "cell_type": "code",
   "execution_count": 28,
   "metadata": {},
   "outputs": [],
   "source": [
    "top_ports=30\n",
    "Sorted_Ports_RDD= Sorted_Count_Port_RDD.map(lambda x: x[1])\n",
    "Top_Ports_list = Sorted_Ports_RDD.take(top_ports)"
   ]
  },
  {
   "cell_type": "code",
   "execution_count": 29,
   "metadata": {},
   "outputs": [],
   "source": [
    "# Top_Ports_list"
   ]
  },
  {
   "cell_type": "code",
   "execution_count": 30,
   "metadata": {},
   "outputs": [],
   "source": [
    "# Scanners_df3=Scanners_df2.withColumn(FeatureName, array_contains(\"Ports_Array\", Top_Ports_list[0]))"
   ]
  },
  {
   "cell_type": "code",
   "execution_count": 31,
   "metadata": {},
   "outputs": [],
   "source": [
    "# Scanners_df3.show(10)"
   ]
  },
  {
   "cell_type": "markdown",
   "metadata": {},
   "source": [
    "## A.4 Generate Hot-One Encoded Feature for each of the top ports in the Top_Ports_list\n",
    "\n",
    "- Iterate through the Top_Ports_list so that each top port is one-hot encoded."
   ]
  },
  {
   "cell_type": "markdown",
   "metadata": {},
   "source": [
    "## Exercise 3 (5 %)\n",
    "Complete the following PySpark code for encoding the n ports using One Hot Encoding, where n is specified by the variable ```top_ports```"
   ]
  },
  {
   "cell_type": "code",
   "execution_count": 32,
   "metadata": {},
   "outputs": [],
   "source": [
    "for i in range(0, top_ports - 1):\n",
    "    # \"Port\" + Top_Ports_list[i]  is the name of each new feature created through One Hot Encoding\n",
    "    Scanners_df3 = Scanners_df2.withColumn(\"Port\" + Top_Ports_list[i], array_contains(\"Ports_Array\", Top_Ports_list[i]))\n",
    "    Scanners_df2 = Scanners_df3"
   ]
  },
  {
   "cell_type": "code",
   "execution_count": 33,
   "metadata": {},
   "outputs": [
    {
     "name": "stdout",
     "output_type": "stream",
     "text": [
      "root\n",
      " |-- _c0: integer (nullable = true)\n",
      " |-- id: integer (nullable = true)\n",
      " |-- numports: integer (nullable = true)\n",
      " |-- lifetime: double (nullable = true)\n",
      " |-- Bytes: integer (nullable = true)\n",
      " |-- Packets: integer (nullable = true)\n",
      " |-- average_packetsize: integer (nullable = true)\n",
      " |-- MinUniqueDests: integer (nullable = true)\n",
      " |-- MaxUniqueDests: integer (nullable = true)\n",
      " |-- MinUniqueDest24s: integer (nullable = true)\n",
      " |-- MaxUniqueDest24s: integer (nullable = true)\n",
      " |-- average_lifetime: double (nullable = true)\n",
      " |-- mirai: boolean (nullable = true)\n",
      " |-- zmap: boolean (nullable = true)\n",
      " |-- masscan: boolean (nullable = true)\n",
      " |-- country: string (nullable = true)\n",
      " |-- traffic_types_scanned_str: string (nullable = true)\n",
      " |-- ports_scanned_str: string (nullable = true)\n",
      " |-- host_tags_per_censys: string (nullable = true)\n",
      " |-- host_services_per_censys: string (nullable = true)\n",
      " |-- Ports_Array: array (nullable = true)\n",
      " |    |-- element: string (containsNull = true)\n",
      " |-- Port17132: boolean (nullable = true)\n",
      " |-- Port17140: boolean (nullable = true)\n",
      " |-- Port17128: boolean (nullable = true)\n",
      " |-- Port17138: boolean (nullable = true)\n",
      " |-- Port17130: boolean (nullable = true)\n",
      " |-- Port17136: boolean (nullable = true)\n",
      " |-- Port23: boolean (nullable = true)\n",
      " |-- Port445: boolean (nullable = true)\n",
      " |-- Port54594: boolean (nullable = true)\n",
      " |-- Port17142: boolean (nullable = true)\n",
      " |-- Port17134: boolean (nullable = true)\n",
      " |-- Port80: boolean (nullable = true)\n",
      " |-- Port8080: boolean (nullable = true)\n",
      " |-- Port0: boolean (nullable = true)\n",
      " |-- Port2323: boolean (nullable = true)\n",
      " |-- Port5555: boolean (nullable = true)\n",
      " |-- Port81: boolean (nullable = true)\n",
      " |-- Port1023: boolean (nullable = true)\n",
      " |-- Port52869: boolean (nullable = true)\n",
      " |-- Port8443: boolean (nullable = true)\n",
      " |-- Port49152: boolean (nullable = true)\n",
      " |-- Port7574: boolean (nullable = true)\n",
      " |-- Port37215: boolean (nullable = true)\n",
      " |-- Port34218: boolean (nullable = true)\n",
      " |-- Port34220: boolean (nullable = true)\n",
      " |-- Port33968: boolean (nullable = true)\n",
      " |-- Port34224: boolean (nullable = true)\n",
      " |-- Port34228: boolean (nullable = true)\n",
      " |-- Port33962: boolean (nullable = true)\n",
      "\n"
     ]
    }
   ],
   "source": [
    "Scanners_df2.printSchema()"
   ]
  },
  {
   "cell_type": "markdown",
   "metadata": {},
   "source": [
    "# Part B Thermometer Encoding of Numerical Variables"
   ]
  },
  {
   "cell_type": "markdown",
   "metadata": {},
   "source": [
    "## We encode the numerical variable numports (number of ports being scanned) using thermometer encoding"
   ]
  },
  {
   "cell_type": "code",
   "execution_count": 34,
   "metadata": {},
   "outputs": [
    {
     "data": {
      "text/plain": [
       "32768"
      ]
     },
     "execution_count": 34,
     "metadata": {},
     "output_type": "execute_result"
    }
   ],
   "source": [
    "pow(2,15)"
   ]
  },
  {
   "cell_type": "code",
   "execution_count": 35,
   "metadata": {},
   "outputs": [],
   "source": [
    "Scanners_df3=Scanners_df2.withColumn(\"TE_numports_0\", col(\"numports\") > 0) \n",
    "Scanners_df2 = Scanners_df3"
   ]
  },
  {
   "cell_type": "code",
   "execution_count": 36,
   "metadata": {},
   "outputs": [
    {
     "data": {
      "text/plain": [
       "227062"
      ]
     },
     "execution_count": 36,
     "metadata": {},
     "output_type": "execute_result"
    }
   ],
   "source": [
    "Scanners_df3.count()"
   ]
  },
  {
   "cell_type": "code",
   "execution_count": 37,
   "metadata": {},
   "outputs": [
    {
     "data": {
      "text/plain": [
       "227062"
      ]
     },
     "execution_count": 37,
     "metadata": {},
     "output_type": "execute_result"
    }
   ],
   "source": [
    "Scanners_df3.where(col('TE_numports_0')).count()"
   ]
  },
  {
   "cell_type": "markdown",
   "metadata": {},
   "source": [
    "# Exercise 4 (15%)\n",
    "Complete the following pyspark code to use the column \"numports\" to create 16 additional columns as follows:\n",
    "- TE_numports_0 : True, if the scanner scans more than 0 ports, otherwise False.\n",
    "- TE_numports_1 : True, if the scanner scans more than 2**0 (1) port, otherwise False.\n",
    "- TE_numports_2 : True, if the scanner scans more than 2**1 (2) ports, otherwise False.\n",
    "- TE_numports_3 : True, if the scanner scans more than 2**2 (4) ports, otherwise False\n",
    "        ...\n",
    "- TE_numports_15 : True, if the scanner scans more than 2**14 ports, otherwise False\n",
    "- TE_numports_16 : True, if the scanner scans more than 2**15 (32768) ports, otherwise False"
   ]
  },
  {
   "cell_type": "code",
   "execution_count": 38,
   "metadata": {},
   "outputs": [],
   "source": [
    "for i in range(0, 16):\n",
    "    # \"TE_numports_\" + str(i+1)  is the name of each new feature created for each Bin in Thermometer Encoding\n",
    "    Scanners_df3 = Scanners_df2.withColumn(\"TE_numports_\" + str(i+1), col(\"numports\") > pow(2,i))\n",
    "    Scanners_df2 = Scanners_df3"
   ]
  },
  {
   "cell_type": "code",
   "execution_count": 39,
   "metadata": {},
   "outputs": [
    {
     "name": "stdout",
     "output_type": "stream",
     "text": [
      "root\n",
      " |-- _c0: integer (nullable = true)\n",
      " |-- id: integer (nullable = true)\n",
      " |-- numports: integer (nullable = true)\n",
      " |-- lifetime: double (nullable = true)\n",
      " |-- Bytes: integer (nullable = true)\n",
      " |-- Packets: integer (nullable = true)\n",
      " |-- average_packetsize: integer (nullable = true)\n",
      " |-- MinUniqueDests: integer (nullable = true)\n",
      " |-- MaxUniqueDests: integer (nullable = true)\n",
      " |-- MinUniqueDest24s: integer (nullable = true)\n",
      " |-- MaxUniqueDest24s: integer (nullable = true)\n",
      " |-- average_lifetime: double (nullable = true)\n",
      " |-- mirai: boolean (nullable = true)\n",
      " |-- zmap: boolean (nullable = true)\n",
      " |-- masscan: boolean (nullable = true)\n",
      " |-- country: string (nullable = true)\n",
      " |-- traffic_types_scanned_str: string (nullable = true)\n",
      " |-- ports_scanned_str: string (nullable = true)\n",
      " |-- host_tags_per_censys: string (nullable = true)\n",
      " |-- host_services_per_censys: string (nullable = true)\n",
      " |-- Ports_Array: array (nullable = true)\n",
      " |    |-- element: string (containsNull = true)\n",
      " |-- Port17132: boolean (nullable = true)\n",
      " |-- Port17140: boolean (nullable = true)\n",
      " |-- Port17128: boolean (nullable = true)\n",
      " |-- Port17138: boolean (nullable = true)\n",
      " |-- Port17130: boolean (nullable = true)\n",
      " |-- Port17136: boolean (nullable = true)\n",
      " |-- Port23: boolean (nullable = true)\n",
      " |-- Port445: boolean (nullable = true)\n",
      " |-- Port54594: boolean (nullable = true)\n",
      " |-- Port17142: boolean (nullable = true)\n",
      " |-- Port17134: boolean (nullable = true)\n",
      " |-- Port80: boolean (nullable = true)\n",
      " |-- Port8080: boolean (nullable = true)\n",
      " |-- Port0: boolean (nullable = true)\n",
      " |-- Port2323: boolean (nullable = true)\n",
      " |-- Port5555: boolean (nullable = true)\n",
      " |-- Port81: boolean (nullable = true)\n",
      " |-- Port1023: boolean (nullable = true)\n",
      " |-- Port52869: boolean (nullable = true)\n",
      " |-- Port8443: boolean (nullable = true)\n",
      " |-- Port49152: boolean (nullable = true)\n",
      " |-- Port7574: boolean (nullable = true)\n",
      " |-- Port37215: boolean (nullable = true)\n",
      " |-- Port34218: boolean (nullable = true)\n",
      " |-- Port34220: boolean (nullable = true)\n",
      " |-- Port33968: boolean (nullable = true)\n",
      " |-- Port34224: boolean (nullable = true)\n",
      " |-- Port34228: boolean (nullable = true)\n",
      " |-- Port33962: boolean (nullable = true)\n",
      " |-- TE_numports_0: boolean (nullable = true)\n",
      " |-- TE_numports_1: boolean (nullable = true)\n",
      " |-- TE_numports_2: boolean (nullable = true)\n",
      " |-- TE_numports_3: boolean (nullable = true)\n",
      " |-- TE_numports_4: boolean (nullable = true)\n",
      " |-- TE_numports_5: boolean (nullable = true)\n",
      " |-- TE_numports_6: boolean (nullable = true)\n",
      " |-- TE_numports_7: boolean (nullable = true)\n",
      " |-- TE_numports_8: boolean (nullable = true)\n",
      " |-- TE_numports_9: boolean (nullable = true)\n",
      " |-- TE_numports_10: boolean (nullable = true)\n",
      " |-- TE_numports_11: boolean (nullable = true)\n",
      " |-- TE_numports_12: boolean (nullable = true)\n",
      " |-- TE_numports_13: boolean (nullable = true)\n",
      " |-- TE_numports_14: boolean (nullable = true)\n",
      " |-- TE_numports_15: boolean (nullable = true)\n",
      " |-- TE_numports_16: boolean (nullable = true)\n",
      "\n"
     ]
    }
   ],
   "source": [
    "Scanners_df2.printSchema()"
   ]
  },
  {
   "cell_type": "markdown",
   "metadata": {},
   "source": [
    "# Exercise 5 (5 points)\n",
    "What is the total number of scanners that scan more than 2^15 (i.e., 32768) ports? Complete the code below using Scanners_df2 to find out the answer."
   ]
  },
  {
   "cell_type": "code",
   "execution_count": 40,
   "metadata": {},
   "outputs": [],
   "source": [
    "HFScanners_df2 = Scanners_df2.where(col('TE_numports_15'))"
   ]
  },
  {
   "cell_type": "code",
   "execution_count": 41,
   "metadata": {},
   "outputs": [
    {
     "data": {
      "text/plain": [
       "16"
      ]
     },
     "execution_count": 41,
     "metadata": {},
     "output_type": "execute_result"
    }
   ],
   "source": [
    "HFScanners_df2.count()"
   ]
  },
  {
   "cell_type": "markdown",
   "metadata": {},
   "source": [
    "# Exercise 6 (10 points)\n",
    "Complete the following code to use k-means to cluster the scanners using the following \n",
    "- thermometer encoding of 'numports' numerical feature\n",
    "- one-hot encoding of top k ports (k chosen by you in Exercise 2)."
   ]
  },
  {
   "cell_type": "markdown",
   "metadata": {},
   "source": [
    "## Specify Parameters for k Means Clustering"
   ]
  },
  {
   "cell_type": "code",
   "execution_count": 42,
   "metadata": {},
   "outputs": [
    {
     "data": {
      "text/plain": [
       "'distanceMeasure: the distance measure. Supported options: \\'euclidean\\' and \\'cosine\\'. (default: euclidean)\\nfeaturesCol: features column name. (default: features, current: features)\\ninitMode: The initialization algorithm. This can be either \"random\" to choose random points as initial cluster centers, or \"k-means||\" to use a parallel variant of k-means++ (default: k-means||)\\ninitSteps: The number of steps for k-means|| initialization mode. Must be > 0. (default: 2)\\nk: The number of clusters to create. Must be > 1. (default: 2, current: 50)\\nmaxIter: max number of iterations (>= 0). (default: 20)\\npredictionCol: prediction column name. (default: prediction, current: prediction)\\nseed: random seed. (default: -606032289246360211, current: 123)\\ntol: the convergence tolerance for iterative algorithms (>= 0). (default: 0.0001)\\nweightCol: weight column name. If this is not set or empty, we treat all instance weights as 1.0. (undefined)'"
      ]
     },
     "execution_count": 42,
     "metadata": {},
     "output_type": "execute_result"
    }
   ],
   "source": [
    "km = KMeans(featuresCol=\"features\", predictionCol=\"prediction\").setK(50).setSeed(123)\n",
    "km.explainParams()"
   ]
  },
  {
   "cell_type": "code",
   "execution_count": 43,
   "metadata": {},
   "outputs": [],
   "source": [
    "input_features = []\n",
    "for i in range(0, top_ports - 1):\n",
    "    input_features.append( \"Port\"+Top_Ports_list[i] )\n",
    "for i in range(0, 15):\n",
    "    input_features.append( \"TE_numports_\" + str(i))"
   ]
  },
  {
   "cell_type": "code",
   "execution_count": 44,
   "metadata": {},
   "outputs": [
    {
     "name": "stdout",
     "output_type": "stream",
     "text": [
      "['Port17132', 'Port17140', 'Port17128', 'Port17138', 'Port17130', 'Port17136', 'Port23', 'Port445', 'Port54594', 'Port17142', 'Port17134', 'Port80', 'Port8080', 'Port0', 'Port2323', 'Port5555', 'Port81', 'Port1023', 'Port52869', 'Port8443', 'Port49152', 'Port7574', 'Port37215', 'Port34218', 'Port34220', 'Port33968', 'Port34224', 'Port34228', 'Port33962', 'TE_numports_0', 'TE_numports_1', 'TE_numports_2', 'TE_numports_3', 'TE_numports_4', 'TE_numports_5', 'TE_numports_6', 'TE_numports_7', 'TE_numports_8', 'TE_numports_9', 'TE_numports_10', 'TE_numports_11', 'TE_numports_12', 'TE_numports_13', 'TE_numports_14']\n"
     ]
    }
   ],
   "source": [
    "print(input_features)"
   ]
  },
  {
   "cell_type": "code",
   "execution_count": 45,
   "metadata": {},
   "outputs": [],
   "source": [
    "va = VectorAssembler().setInputCols(input_features).setOutputCol(\"features\")"
   ]
  },
  {
   "cell_type": "code",
   "execution_count": 46,
   "metadata": {},
   "outputs": [],
   "source": [
    "data= va.transform(Scanners_df2)"
   ]
  },
  {
   "cell_type": "code",
   "execution_count": 47,
   "metadata": {},
   "outputs": [
    {
     "data": {
      "text/plain": [
       "DataFrame[_c0: int, id: int, numports: int, lifetime: double, Bytes: int, Packets: int, average_packetsize: int, MinUniqueDests: int, MaxUniqueDests: int, MinUniqueDest24s: int, MaxUniqueDest24s: int, average_lifetime: double, mirai: boolean, zmap: boolean, masscan: boolean, country: string, traffic_types_scanned_str: string, ports_scanned_str: string, host_tags_per_censys: string, host_services_per_censys: string, Ports_Array: array<string>, Port17132: boolean, Port17140: boolean, Port17128: boolean, Port17138: boolean, Port17130: boolean, Port17136: boolean, Port23: boolean, Port445: boolean, Port54594: boolean, Port17142: boolean, Port17134: boolean, Port80: boolean, Port8080: boolean, Port0: boolean, Port2323: boolean, Port5555: boolean, Port81: boolean, Port1023: boolean, Port52869: boolean, Port8443: boolean, Port49152: boolean, Port7574: boolean, Port37215: boolean, Port34218: boolean, Port34220: boolean, Port33968: boolean, Port34224: boolean, Port34228: boolean, Port33962: boolean, TE_numports_0: boolean, TE_numports_1: boolean, TE_numports_2: boolean, TE_numports_3: boolean, TE_numports_4: boolean, TE_numports_5: boolean, TE_numports_6: boolean, TE_numports_7: boolean, TE_numports_8: boolean, TE_numports_9: boolean, TE_numports_10: boolean, TE_numports_11: boolean, TE_numports_12: boolean, TE_numports_13: boolean, TE_numports_14: boolean, TE_numports_15: boolean, TE_numports_16: boolean, features: vector]"
      ]
     },
     "execution_count": 47,
     "metadata": {},
     "output_type": "execute_result"
    }
   ],
   "source": [
    "data.persist()"
   ]
  },
  {
   "cell_type": "code",
   "execution_count": 48,
   "metadata": {},
   "outputs": [],
   "source": [
    "kmModel=km.fit(data)"
   ]
  },
  {
   "cell_type": "code",
   "execution_count": 49,
   "metadata": {},
   "outputs": [
    {
     "data": {
      "text/plain": [
       "KMeansModel: uid=KMeans_264e207bbf3d, k=50, distanceMeasure=euclidean, numFeatures=44"
      ]
     },
     "execution_count": 49,
     "metadata": {},
     "output_type": "execute_result"
    }
   ],
   "source": [
    "kmModel"
   ]
  },
  {
   "cell_type": "code",
   "execution_count": 50,
   "metadata": {},
   "outputs": [],
   "source": [
    "predictions = kmModel.transform(data)"
   ]
  },
  {
   "cell_type": "code",
   "execution_count": 51,
   "metadata": {},
   "outputs": [
    {
     "data": {
      "text/plain": [
       "DataFrame[_c0: int, id: int, numports: int, lifetime: double, Bytes: int, Packets: int, average_packetsize: int, MinUniqueDests: int, MaxUniqueDests: int, MinUniqueDest24s: int, MaxUniqueDest24s: int, average_lifetime: double, mirai: boolean, zmap: boolean, masscan: boolean, country: string, traffic_types_scanned_str: string, ports_scanned_str: string, host_tags_per_censys: string, host_services_per_censys: string, Ports_Array: array<string>, Port17132: boolean, Port17140: boolean, Port17128: boolean, Port17138: boolean, Port17130: boolean, Port17136: boolean, Port23: boolean, Port445: boolean, Port54594: boolean, Port17142: boolean, Port17134: boolean, Port80: boolean, Port8080: boolean, Port0: boolean, Port2323: boolean, Port5555: boolean, Port81: boolean, Port1023: boolean, Port52869: boolean, Port8443: boolean, Port49152: boolean, Port7574: boolean, Port37215: boolean, Port34218: boolean, Port34220: boolean, Port33968: boolean, Port34224: boolean, Port34228: boolean, Port33962: boolean, TE_numports_0: boolean, TE_numports_1: boolean, TE_numports_2: boolean, TE_numports_3: boolean, TE_numports_4: boolean, TE_numports_5: boolean, TE_numports_6: boolean, TE_numports_7: boolean, TE_numports_8: boolean, TE_numports_9: boolean, TE_numports_10: boolean, TE_numports_11: boolean, TE_numports_12: boolean, TE_numports_13: boolean, TE_numports_14: boolean, TE_numports_15: boolean, TE_numports_16: boolean, features: vector, prediction: int]"
      ]
     },
     "execution_count": 51,
     "metadata": {},
     "output_type": "execute_result"
    }
   ],
   "source": [
    "predictions.persist()"
   ]
  },
  {
   "cell_type": "code",
   "execution_count": 52,
   "metadata": {},
   "outputs": [],
   "source": [
    "Cluster1_df=predictions.where(col(\"prediction\")==0)"
   ]
  },
  {
   "cell_type": "code",
   "execution_count": 53,
   "metadata": {},
   "outputs": [
    {
     "data": {
      "text/plain": [
       "5650"
      ]
     },
     "execution_count": 53,
     "metadata": {},
     "output_type": "execute_result"
    }
   ],
   "source": [
    "Cluster1_df.persist().count()"
   ]
  },
  {
   "cell_type": "markdown",
   "metadata": {},
   "source": [
    "## Exercise 7 (5 points)\n",
    "Complete the following code to find the size of all of the clusters generated."
   ]
  },
  {
   "cell_type": "code",
   "execution_count": 54,
   "metadata": {},
   "outputs": [],
   "source": [
    "summary = kmModel.summary"
   ]
  },
  {
   "cell_type": "code",
   "execution_count": 55,
   "metadata": {},
   "outputs": [
    {
     "data": {
      "text/plain": [
       "[5650,\n",
       " 24562,\n",
       " 3186,\n",
       " 7920,\n",
       " 8153,\n",
       " 16044,\n",
       " 6765,\n",
       " 1800,\n",
       " 1037,\n",
       " 3869,\n",
       " 3309,\n",
       " 21722,\n",
       " 8810,\n",
       " 6804,\n",
       " 2174,\n",
       " 1037,\n",
       " 1235,\n",
       " 7734,\n",
       " 36565,\n",
       " 7042,\n",
       " 916,\n",
       " 1299,\n",
       " 2548,\n",
       " 2070,\n",
       " 3520,\n",
       " 2909,\n",
       " 1561,\n",
       " 3606,\n",
       " 692,\n",
       " 327,\n",
       " 1084,\n",
       " 1304,\n",
       " 478,\n",
       " 7269,\n",
       " 1449,\n",
       " 940,\n",
       " 1262,\n",
       " 1204,\n",
       " 1440,\n",
       " 4776,\n",
       " 614,\n",
       " 1031,\n",
       " 738,\n",
       " 507,\n",
       " 1304,\n",
       " 1043,\n",
       " 582,\n",
       " 616,\n",
       " 3367,\n",
       " 1188]"
      ]
     },
     "execution_count": 55,
     "metadata": {},
     "output_type": "execute_result"
    }
   ],
   "source": [
    "summary.clusterSizes"
   ]
  },
  {
   "cell_type": "markdown",
   "metadata": {},
   "source": [
    "# Exercise 8 (5 points)\n",
    "Complete the following code to find the Silhouette Score of the clustering result."
   ]
  },
  {
   "cell_type": "code",
   "execution_count": 56,
   "metadata": {},
   "outputs": [],
   "source": [
    "evaluator = ClusteringEvaluator()\n",
    "silhouette = evaluator.evaluate(predictions)"
   ]
  },
  {
   "cell_type": "code",
   "execution_count": 57,
   "metadata": {},
   "outputs": [
    {
     "name": "stdout",
     "output_type": "stream",
     "text": [
      "Silhouette Score of the Clustering Result is  0.7291143984546943\n"
     ]
    }
   ],
   "source": [
    "print('Silhouette Score of the Clustering Result is ', silhouette)"
   ]
  },
  {
   "cell_type": "code",
   "execution_count": 58,
   "metadata": {},
   "outputs": [],
   "source": [
    "centers = kmModel.clusterCenters()"
   ]
  },
  {
   "cell_type": "code",
   "execution_count": 59,
   "metadata": {},
   "outputs": [
    {
     "data": {
      "text/plain": [
       "array([9.87079646e-01, 9.83893805e-01, 9.85663717e-01, 9.87256637e-01,\n",
       "       9.84424779e-01, 9.82477876e-01, 7.07964602e-04, 8.84955752e-04,\n",
       "       1.94690265e-03, 1.00000000e+00, 9.40707965e-01, 5.30973451e-04,\n",
       "       3.53982301e-04, 6.37168142e-03, 1.76991150e-04, 1.59292035e-03,\n",
       "       0.00000000e+00, 0.00000000e+00, 0.00000000e+00, 0.00000000e+00,\n",
       "       0.00000000e+00, 0.00000000e+00, 0.00000000e+00, 2.05486726e-01,\n",
       "       1.99115044e-01, 1.97345133e-01, 2.03362832e-01, 2.00000000e-01,\n",
       "       1.99469027e-01, 1.00000000e+00, 1.00000000e+00, 1.00000000e+00,\n",
       "       1.00000000e+00, 1.00000000e+00, 1.52212389e-02, 1.59292035e-03,\n",
       "       5.30973451e-04, 1.76991150e-04, 1.76991150e-04, 0.00000000e+00,\n",
       "       0.00000000e+00, 0.00000000e+00, 0.00000000e+00, 0.00000000e+00])"
      ]
     },
     "execution_count": 59,
     "metadata": {},
     "output_type": "execute_result"
    }
   ],
   "source": [
    "centers[0]"
   ]
  },
  {
   "cell_type": "code",
   "execution_count": 60,
   "metadata": {},
   "outputs": [
    {
     "name": "stdout",
     "output_type": "stream",
     "text": [
      "Cluster Centers:\n",
      "Cluster  1 [9.87079646e-01 9.83893805e-01 9.85663717e-01 9.87256637e-01\n",
      " 9.84424779e-01 9.82477876e-01 7.07964602e-04 8.84955752e-04\n",
      " 1.94690265e-03 1.00000000e+00 9.40707965e-01 5.30973451e-04\n",
      " 3.53982301e-04 6.37168142e-03 1.76991150e-04 1.59292035e-03\n",
      " 0.00000000e+00 0.00000000e+00 0.00000000e+00 0.00000000e+00\n",
      " 0.00000000e+00 0.00000000e+00 0.00000000e+00 2.05486726e-01\n",
      " 1.99115044e-01 1.97345133e-01 2.03362832e-01 2.00000000e-01\n",
      " 1.99469027e-01 1.00000000e+00 1.00000000e+00 1.00000000e+00\n",
      " 1.00000000e+00 1.00000000e+00 1.52212389e-02 1.59292035e-03\n",
      " 5.30973451e-04 1.76991150e-04 1.76991150e-04 0.00000000e+00\n",
      " 0.00000000e+00 0.00000000e+00 0.00000000e+00 0.00000000e+00]\n",
      "Cluster  2 [0.00000000e+00 0.00000000e+00 0.00000000e+00 0.00000000e+00\n",
      " 0.00000000e+00 0.00000000e+00 0.00000000e+00 1.00000000e+00\n",
      " 0.00000000e+00 0.00000000e+00 0.00000000e+00 0.00000000e+00\n",
      " 0.00000000e+00 0.00000000e+00 0.00000000e+00 1.22139891e-04\n",
      " 0.00000000e+00 0.00000000e+00 0.00000000e+00 0.00000000e+00\n",
      " 0.00000000e+00 0.00000000e+00 0.00000000e+00 8.14265939e-05\n",
      " 0.00000000e+00 4.07132970e-05 0.00000000e+00 0.00000000e+00\n",
      " 0.00000000e+00 1.00000000e+00 7.93909291e-03 0.00000000e+00\n",
      " 0.00000000e+00 0.00000000e+00 0.00000000e+00 0.00000000e+00\n",
      " 0.00000000e+00 0.00000000e+00 0.00000000e+00 0.00000000e+00\n",
      " 0.00000000e+00 0.00000000e+00 0.00000000e+00 0.00000000e+00]\n",
      "Cluster  3 [1.41242938e-02 1.66352793e-02 1.06716886e-02 9.41619586e-03\n",
      " 1.12994350e-02 1.16133082e-02 1.06716886e-02 1.13622097e-01\n",
      " 1.00000000e+00 5.96359071e-03 6.59133710e-03 6.27746390e-03\n",
      " 6.59133710e-03 7.21908349e-03 0.00000000e+00 3.76647834e-03\n",
      " 6.27746390e-04 0.00000000e+00 0.00000000e+00 0.00000000e+00\n",
      " 0.00000000e+00 3.13873195e-04 6.27746390e-04 3.13873195e-04\n",
      " 1.25549278e-03 3.13873195e-04 3.13873195e-04 9.41619586e-04\n",
      " 6.27746390e-04 1.00000000e+00 1.00000000e+00 4.33145009e-02\n",
      " 0.00000000e+00 0.00000000e+00 0.00000000e+00 0.00000000e+00\n",
      " 0.00000000e+00 0.00000000e+00 0.00000000e+00 0.00000000e+00\n",
      " 0.00000000e+00 0.00000000e+00 0.00000000e+00 0.00000000e+00]\n",
      "Cluster  4 [0.00000000e+00 0.00000000e+00 0.00000000e+00 0.00000000e+00\n",
      " 0.00000000e+00 0.00000000e+00 0.00000000e+00 4.04040404e-03\n",
      " 0.00000000e+00 0.00000000e+00 0.00000000e+00 0.00000000e+00\n",
      " 0.00000000e+00 1.00000000e+00 0.00000000e+00 6.31313131e-04\n",
      " 0.00000000e+00 0.00000000e+00 0.00000000e+00 0.00000000e+00\n",
      " 0.00000000e+00 0.00000000e+00 0.00000000e+00 0.00000000e+00\n",
      " 0.00000000e+00 1.26262626e-04 0.00000000e+00 0.00000000e+00\n",
      " 0.00000000e+00 1.00000000e+00 2.97979798e-02 0.00000000e+00\n",
      " 0.00000000e+00 0.00000000e+00 0.00000000e+00 0.00000000e+00\n",
      " 0.00000000e+00 0.00000000e+00 0.00000000e+00 0.00000000e+00\n",
      " 0.00000000e+00 0.00000000e+00 0.00000000e+00 0.00000000e+00]\n",
      "Cluster  5 [7.07714952e-02 0.00000000e+00 0.00000000e+00 0.00000000e+00\n",
      " 6.58653256e-02 1.00000000e+00 0.00000000e+00 2.08512204e-03\n",
      " 0.00000000e+00 0.00000000e+00 0.00000000e+00 2.45308475e-04\n",
      " 0.00000000e+00 8.58579664e-04 0.00000000e+00 2.45308475e-04\n",
      " 0.00000000e+00 0.00000000e+00 0.00000000e+00 0.00000000e+00\n",
      " 0.00000000e+00 0.00000000e+00 0.00000000e+00 2.45308475e-03\n",
      " 2.45308475e-03 2.69839323e-03 2.94370170e-03 2.69839323e-03\n",
      " 2.33043052e-03 1.00000000e+00 1.81896235e-01 0.00000000e+00\n",
      " 0.00000000e+00 0.00000000e+00 0.00000000e+00 0.00000000e+00\n",
      " 0.00000000e+00 0.00000000e+00 0.00000000e+00 0.00000000e+00\n",
      " 0.00000000e+00 0.00000000e+00 0.00000000e+00 0.00000000e+00]\n",
      "Cluster  6 [0. 0. 0. 0. 0. 0. 1. 0. 0. 0. 0. 0. 0. 0. 0. 0. 0. 0. 0. 0. 0. 0. 0. 0.\n",
      " 0. 0. 0. 0. 0. 1. 0. 0. 0. 0. 0. 0. 0. 0. 0. 0. 0. 0. 0. 0.]\n",
      "Cluster  7 [0. 0. 1. 0. 0. 0. 0. 0. 0. 0. 0. 0. 0. 0. 0. 0. 0. 0. 0. 0. 0. 0. 0. 0.\n",
      " 0. 0. 0. 0. 0. 1. 0. 0. 0. 0. 0. 0. 0. 0. 0. 0. 0. 0. 0. 0.]\n",
      "Cluster  8 [1.72777778e-01 1.72777778e-01 0.00000000e+00 1.48888889e-01\n",
      " 1.56111111e-01 1.75000000e-01 0.00000000e+00 2.77777778e-03\n",
      " 0.00000000e+00 1.00000000e+00 7.55555556e-02 0.00000000e+00\n",
      " 0.00000000e+00 1.66666667e-03 0.00000000e+00 5.55555556e-04\n",
      " 0.00000000e+00 0.00000000e+00 0.00000000e+00 0.00000000e+00\n",
      " 0.00000000e+00 0.00000000e+00 0.00000000e+00 6.11111111e-03\n",
      " 5.55555556e-03 5.55555556e-03 5.00000000e-03 3.88888889e-03\n",
      " 6.66666667e-03 1.00000000e+00 1.00000000e+00 0.00000000e+00\n",
      " 0.00000000e+00 0.00000000e+00 0.00000000e+00 0.00000000e+00\n",
      " 0.00000000e+00 0.00000000e+00 0.00000000e+00 0.00000000e+00\n",
      " 0.00000000e+00 0.00000000e+00 0.00000000e+00 0.00000000e+00]\n",
      "Cluster  9 [0.00000000e+00 1.35969142e-01 2.14079074e-01 1.90935391e-01\n",
      " 1.00000000e+00 2.32401157e-01 0.00000000e+00 9.64320154e-04\n",
      " 9.64320154e-04 1.13789778e-01 1.00000000e+00 0.00000000e+00\n",
      " 0.00000000e+00 0.00000000e+00 0.00000000e+00 0.00000000e+00\n",
      " 0.00000000e+00 0.00000000e+00 0.00000000e+00 0.00000000e+00\n",
      " 0.00000000e+00 0.00000000e+00 0.00000000e+00 6.75024108e-03\n",
      " 9.64320154e-04 6.75024108e-03 8.67888139e-03 7.71456123e-03\n",
      " 1.25361620e-02 1.00000000e+00 1.00000000e+00 6.95274831e-01\n",
      " 1.44648023e-02 2.89296046e-03 0.00000000e+00 0.00000000e+00\n",
      " 0.00000000e+00 0.00000000e+00 0.00000000e+00 0.00000000e+00\n",
      " 0.00000000e+00 0.00000000e+00 0.00000000e+00 0.00000000e+00]\n",
      "Cluster  10 [1.03385888e-03 2.06771776e-03 1.03385888e-03 7.75394159e-04\n",
      " 1.29232360e-03 1.03385888e-03 6.70199018e-01 1.55078832e-02\n",
      " 2.58464720e-03 2.58464720e-04 7.75394159e-04 9.98190747e-01\n",
      " 9.95864564e-01 4.47143965e-02 9.53476350e-01 9.11863531e-01\n",
      " 9.24786767e-01 9.22202119e-01 9.20909796e-01 9.25820625e-01\n",
      " 9.20392866e-01 9.05918842e-01 9.07728095e-01 2.58464720e-04\n",
      " 2.58464720e-04 2.58464720e-04 2.58464720e-04 2.58464720e-04\n",
      " 2.58464720e-04 1.00000000e+00 1.00000000e+00 1.00000000e+00\n",
      " 1.00000000e+00 1.00000000e+00 4.62651848e-02 1.39570949e-02\n",
      " 1.39570949e-02 1.39570949e-02 1.29232360e-02 1.21478418e-02\n",
      " 2.58464720e-04 2.58464720e-04 2.58464720e-04 2.58464720e-04]\n",
      "Cluster  11 [1.29948625e-02 1.32970686e-02 1.84345724e-02 1.87367785e-02\n",
      " 1.78301602e-02 1.45058930e-02 7.25294651e-03 1.32970686e-02\n",
      " 5.13750378e-03 1.08794198e-02 9.97280145e-03 3.47537020e-02\n",
      " 4.29132668e-02 5.65125416e-02 8.46177093e-03 1.60169235e-02\n",
      " 4.53309157e-03 3.02206105e-04 0.00000000e+00 9.06618314e-04\n",
      " 0.00000000e+00 0.00000000e+00 9.06618314e-04 1.20882442e-03\n",
      " 1.51103052e-03 9.06618314e-04 1.20882442e-03 9.06618314e-04\n",
      " 2.11544273e-03 1.00000000e+00 1.00000000e+00 1.00000000e+00\n",
      " 1.00000000e+00 5.40646721e-01 1.83439105e-01 0.00000000e+00\n",
      " 0.00000000e+00 0.00000000e+00 0.00000000e+00 0.00000000e+00\n",
      " 0.00000000e+00 0.00000000e+00 0.00000000e+00 0.00000000e+00]\n",
      "Cluster  12 [0. 0. 0. 0. 0. 0. 0. 0. 1. 0. 0. 0. 0. 0. 0. 0. 0. 0. 0. 0. 0. 0. 0. 0.\n",
      " 0. 0. 0. 0. 0. 1. 0. 0. 0. 0. 0. 0. 0. 0. 0. 0. 0. 0. 0. 0.]\n",
      "Cluster  13 [6.86719637e-02 1.00000000e+00 0.00000000e+00 6.51532350e-02\n",
      " 6.65153235e-02 0.00000000e+00 0.00000000e+00 1.24858116e-03\n",
      " 0.00000000e+00 0.00000000e+00 0.00000000e+00 1.13507378e-04\n",
      " 0.00000000e+00 1.02156640e-03 0.00000000e+00 1.13507378e-04\n",
      " 0.00000000e+00 0.00000000e+00 0.00000000e+00 0.00000000e+00\n",
      " 0.00000000e+00 0.00000000e+00 0.00000000e+00 1.58910329e-03\n",
      " 2.27014756e-03 1.92962543e-03 1.70261067e-03 1.81611805e-03\n",
      " 1.36208854e-03 1.00000000e+00 2.35641317e-01 0.00000000e+00\n",
      " 0.00000000e+00 0.00000000e+00 0.00000000e+00 0.00000000e+00\n",
      " 0.00000000e+00 0.00000000e+00 0.00000000e+00 0.00000000e+00\n",
      " 0.00000000e+00 0.00000000e+00 0.00000000e+00 0.00000000e+00]\n",
      "Cluster  14 [0.00000000e+00 0.00000000e+00 0.00000000e+00 0.00000000e+00\n",
      " 1.00000000e+00 0.00000000e+00 0.00000000e+00 2.35155791e-03\n",
      " 0.00000000e+00 0.00000000e+00 0.00000000e+00 0.00000000e+00\n",
      " 0.00000000e+00 1.91064080e-03 0.00000000e+00 2.93944738e-04\n",
      " 0.00000000e+00 0.00000000e+00 0.00000000e+00 0.00000000e+00\n",
      " 0.00000000e+00 0.00000000e+00 0.00000000e+00 3.52733686e-03\n",
      " 2.79247501e-03 3.08641975e-03 1.91064080e-03 2.79247501e-03\n",
      " 2.64550265e-03 1.00000000e+00 4.71781305e-02 0.00000000e+00\n",
      " 0.00000000e+00 0.00000000e+00 0.00000000e+00 0.00000000e+00\n",
      " 0.00000000e+00 0.00000000e+00 0.00000000e+00 0.00000000e+00\n",
      " 0.00000000e+00 0.00000000e+00 0.00000000e+00 0.00000000e+00]\n",
      "Cluster  15 [7.61729531e-01 7.69089236e-01 7.61269549e-01 1.00000000e+00\n",
      " 7.52529899e-01 7.53449862e-01 0.00000000e+00 9.19963201e-04\n",
      " 4.59981601e-04 1.00000000e+00 1.00000000e+00 0.00000000e+00\n",
      " 0.00000000e+00 1.37994480e-03 0.00000000e+00 0.00000000e+00\n",
      " 0.00000000e+00 0.00000000e+00 0.00000000e+00 0.00000000e+00\n",
      " 0.00000000e+00 0.00000000e+00 0.00000000e+00 0.00000000e+00\n",
      " 2.52989880e-02 2.16191352e-02 2.71389144e-02 2.94388224e-02\n",
      " 2.62189512e-02 1.00000000e+00 1.00000000e+00 1.00000000e+00\n",
      " 1.00000000e+00 4.59981601e-04 4.59981601e-04 0.00000000e+00\n",
      " 0.00000000e+00 0.00000000e+00 0.00000000e+00 0.00000000e+00\n",
      " 0.00000000e+00 0.00000000e+00 0.00000000e+00 0.00000000e+00]\n",
      "Cluster  16 [8.48601736e-01 8.37994214e-01 8.30279653e-01 0.00000000e+00\n",
      " 8.26422372e-01 8.18707811e-01 9.64320154e-04 4.82160077e-03\n",
      " 4.82160077e-03 0.00000000e+00 6.22950820e-01 0.00000000e+00\n",
      " 0.00000000e+00 4.82160077e-03 0.00000000e+00 0.00000000e+00\n",
      " 0.00000000e+00 0.00000000e+00 0.00000000e+00 0.00000000e+00\n",
      " 0.00000000e+00 0.00000000e+00 0.00000000e+00 5.78592093e-03\n",
      " 5.88235294e-02 5.40019286e-02 6.17164899e-02 6.17164899e-02\n",
      " 5.49662488e-02 1.00000000e+00 1.00000000e+00 1.00000000e+00\n",
      " 1.00000000e+00 1.15718419e-02 2.89296046e-03 0.00000000e+00\n",
      " 0.00000000e+00 0.00000000e+00 0.00000000e+00 0.00000000e+00\n",
      " 0.00000000e+00 0.00000000e+00 0.00000000e+00 0.00000000e+00]\n",
      "Cluster  17 [0.99838057 0.99595142 0.99595142 0.99919028 0.99595142 0.99757085\n",
      " 0.0048583  0.00566802 0.00566802 1.         0.9951417  0.00647773\n",
      " 0.0048583  0.00890688 0.0048583  0.00404858 0.0048583  0.00404858\n",
      " 0.00647773 0.00323887 0.00566802 0.00323887 0.00404858 0.78866397\n",
      " 0.78461538 0.80809717 0.79838057 0.77489879 0.78785425 1.\n",
      " 1.         1.         1.         1.         0.78704453 0.01376518\n",
      " 0.00809717 0.00809717 0.00728745 0.00728745 0.00728745 0.00728745\n",
      " 0.00728745 0.00728745]\n",
      "Cluster  18 [8.41737781e-02 0.00000000e+00 0.00000000e+00 1.00000000e+00\n",
      " 0.00000000e+00 0.00000000e+00 0.00000000e+00 2.06878717e-03\n",
      " 0.00000000e+00 0.00000000e+00 0.00000000e+00 0.00000000e+00\n",
      " 0.00000000e+00 1.03439359e-03 0.00000000e+00 2.58598397e-04\n",
      " 0.00000000e+00 0.00000000e+00 0.00000000e+00 0.00000000e+00\n",
      " 0.00000000e+00 0.00000000e+00 0.00000000e+00 2.45668477e-03\n",
      " 2.45668477e-03 3.36177916e-03 2.71528317e-03 2.19808637e-03\n",
      " 3.49107836e-03 1.00000000e+00 1.27359710e-01 0.00000000e+00\n",
      " 0.00000000e+00 0.00000000e+00 0.00000000e+00 0.00000000e+00\n",
      " 0.00000000e+00 0.00000000e+00 0.00000000e+00 0.00000000e+00\n",
      " 0.00000000e+00 0.00000000e+00 0.00000000e+00 0.00000000e+00]\n",
      "Cluster  19 [0.00000000e+00 0.00000000e+00 0.00000000e+00 0.00000000e+00\n",
      " 0.00000000e+00 0.00000000e+00 0.00000000e+00 0.00000000e+00\n",
      " 0.00000000e+00 0.00000000e+00 0.00000000e+00 4.40311774e-02\n",
      " 1.17872282e-02 0.00000000e+00 1.16778340e-02 4.03391221e-02\n",
      " 1.80500479e-03 8.20456721e-05 3.82879803e-04 1.91439902e-04\n",
      " 1.64091344e-04 1.91439902e-04 1.36742787e-04 5.87993983e-03\n",
      " 5.90728839e-03 5.77054560e-03 5.74319705e-03 5.93463695e-03\n",
      " 5.57910570e-03 1.00000000e+00 0.00000000e+00 0.00000000e+00\n",
      " 0.00000000e+00 0.00000000e+00 0.00000000e+00 0.00000000e+00\n",
      " 0.00000000e+00 0.00000000e+00 0.00000000e+00 0.00000000e+00\n",
      " 0.00000000e+00 0.00000000e+00 0.00000000e+00 0.00000000e+00]\n",
      "Cluster  20 [1.00000000e+00 0.00000000e+00 0.00000000e+00 0.00000000e+00\n",
      " 0.00000000e+00 0.00000000e+00 0.00000000e+00 1.84606646e-03\n",
      " 0.00000000e+00 0.00000000e+00 0.00000000e+00 0.00000000e+00\n",
      " 0.00000000e+00 9.94035785e-04 0.00000000e+00 0.00000000e+00\n",
      " 0.00000000e+00 0.00000000e+00 0.00000000e+00 0.00000000e+00\n",
      " 0.00000000e+00 0.00000000e+00 0.00000000e+00 1.84606646e-03\n",
      " 2.84010224e-03 1.98807157e-03 2.13007668e-03 3.12411247e-03\n",
      " 2.27208179e-03 1.00000000e+00 4.44476001e-02 0.00000000e+00\n",
      " 0.00000000e+00 0.00000000e+00 0.00000000e+00 0.00000000e+00\n",
      " 0.00000000e+00 0.00000000e+00 0.00000000e+00 0.00000000e+00\n",
      " 0.00000000e+00 0.00000000e+00 0.00000000e+00 0.00000000e+00]\n",
      "Cluster  21 [0.0010917  0.         0.         0.         0.         0.\n",
      " 0.7128821  0.00436681 0.00436681 0.         0.         0.86790393\n",
      " 0.8558952  0.04585153 0.819869   0.36899563 0.40283843 0.51310044\n",
      " 0.40283843 0.38427948 0.36462882 0.34279476 0.33187773 0.\n",
      " 0.         0.         0.         0.         0.         1.\n",
      " 1.         1.         0.99344978 0.09606987 0.05131004 0.\n",
      " 0.         0.         0.         0.         0.         0.\n",
      " 0.         0.        ]\n",
      "Cluster  22 [7.75981524e-01 9.76135489e-01 0.00000000e+00 4.71131640e-01\n",
      " 3.77213241e-02 2.31716705e-01 7.69822941e-04 6.15858353e-03\n",
      " 9.23787529e-03 3.84911470e-01 1.64742109e-01 1.53964588e-03\n",
      " 0.00000000e+00 4.61893764e-03 0.00000000e+00 2.30946882e-03\n",
      " 0.00000000e+00 0.00000000e+00 0.00000000e+00 0.00000000e+00\n",
      " 0.00000000e+00 0.00000000e+00 0.00000000e+00 1.38568129e-02\n",
      " 2.30946882e-02 1.61662818e-02 2.61739800e-02 2.07852194e-02\n",
      " 2.07852194e-02 1.00000000e+00 1.00000000e+00 1.00000000e+00\n",
      " 3.84911470e-02 2.30946882e-03 7.69822941e-04 0.00000000e+00\n",
      " 0.00000000e+00 0.00000000e+00 0.00000000e+00 0.00000000e+00\n",
      " 0.00000000e+00 0.00000000e+00 0.00000000e+00 0.00000000e+00]\n",
      "Cluster  23 [0.01491366 0.01295133 0.01255887 0.01844584 0.01805338 0.01726845\n",
      " 0.01805338 0.03375196 0.00313972 0.00824176 0.00824176 0.01491366\n",
      " 0.00706436 0.06161695 0.01138148 0.01138148 0.0188383  0.00510204\n",
      " 0.00470958 0.00431711 0.00470958 0.00549451 0.00392465 0.0066719\n",
      " 0.00431711 0.00627943 0.00431711 0.00510204 0.00588697 1.\n",
      " 1.         1.         0.         0.         0.         0.\n",
      " 0.         0.         0.         0.         0.         0.\n",
      " 0.         0.        ]\n",
      "Cluster  24 [7.58937198e-01 7.71980676e-01 7.68115942e-01 1.00000000e+00\n",
      " 7.66183575e-01 7.40579710e-01 4.83091787e-04 9.66183575e-04\n",
      " 9.66183575e-04 1.00000000e+00 0.00000000e+00 4.83091787e-04\n",
      " 4.83091787e-04 3.38164251e-03 0.00000000e+00 9.66183575e-04\n",
      " 0.00000000e+00 0.00000000e+00 0.00000000e+00 0.00000000e+00\n",
      " 0.00000000e+00 0.00000000e+00 0.00000000e+00 0.00000000e+00\n",
      " 4.20289855e-02 3.86473430e-02 4.39613527e-02 4.58937198e-02\n",
      " 4.87922705e-02 1.00000000e+00 1.00000000e+00 1.00000000e+00\n",
      " 1.00000000e+00 1.78743961e-02 2.41545894e-03 9.66183575e-04\n",
      " 4.83091787e-04 4.83091787e-04 4.83091787e-04 0.00000000e+00\n",
      " 0.00000000e+00 0.00000000e+00 0.00000000e+00 0.00000000e+00]\n",
      "Cluster  25 [0. 0. 0. 0. 0. 0. 0. 0. 0. 1. 0. 0. 0. 0. 0. 0. 0. 0. 0. 0. 0. 0. 0. 0.\n",
      " 0. 0. 0. 0. 0. 1. 0. 0. 0. 0. 0. 0. 0. 0. 0. 0. 0. 0. 0. 0.]\n",
      "Cluster  26 [0.00000000e+00 1.95599862e-01 1.00000000e+00 1.93193537e-01\n",
      " 1.87005844e-01 2.08662771e-01 6.87521485e-04 4.12512891e-03\n",
      " 0.00000000e+00 0.00000000e+00 9.93468546e-02 0.00000000e+00\n",
      " 0.00000000e+00 3.43760743e-03 0.00000000e+00 6.87521485e-04\n",
      " 0.00000000e+00 0.00000000e+00 0.00000000e+00 0.00000000e+00\n",
      " 0.00000000e+00 0.00000000e+00 0.00000000e+00 9.62530079e-03\n",
      " 4.12512891e-03 4.81265040e-03 3.43760743e-03 8.59401856e-03\n",
      " 6.53145411e-03 1.00000000e+00 1.00000000e+00 0.00000000e+00\n",
      " 0.00000000e+00 0.00000000e+00 0.00000000e+00 0.00000000e+00\n",
      " 0.00000000e+00 0.00000000e+00 0.00000000e+00 0.00000000e+00\n",
      " 0.00000000e+00 0.00000000e+00 0.00000000e+00 0.00000000e+00]\n",
      "Cluster  27 [0.00000000e+00 5.98334401e-01 1.67200512e-01 7.24535554e-01\n",
      " 1.00000000e+00 3.51057015e-01 1.92184497e-03 6.40614990e-04\n",
      " 7.04676489e-03 2.01793722e-01 2.88276746e-02 0.00000000e+00\n",
      " 1.92184497e-03 5.12491992e-03 0.00000000e+00 0.00000000e+00\n",
      " 0.00000000e+00 0.00000000e+00 0.00000000e+00 0.00000000e+00\n",
      " 0.00000000e+00 0.00000000e+00 0.00000000e+00 1.53747598e-02\n",
      " 2.04996797e-02 1.85778347e-02 1.28122998e-02 2.04996797e-02\n",
      " 1.85778347e-02 1.00000000e+00 1.00000000e+00 1.00000000e+00\n",
      " 5.25304292e-02 2.56245996e-03 0.00000000e+00 0.00000000e+00\n",
      " 0.00000000e+00 0.00000000e+00 0.00000000e+00 0.00000000e+00\n",
      " 0.00000000e+00 0.00000000e+00 0.00000000e+00 0.00000000e+00]\n",
      "Cluster  28 [7.91181364e-01 7.66777593e-01 7.78702163e-01 1.00000000e+00\n",
      " 7.83693844e-01 7.84248475e-01 0.00000000e+00 1.38657793e-03\n",
      " 1.38657793e-03 0.00000000e+00 5.70160843e-01 0.00000000e+00\n",
      " 0.00000000e+00 3.88241819e-03 0.00000000e+00 0.00000000e+00\n",
      " 0.00000000e+00 0.00000000e+00 0.00000000e+00 0.00000000e+00\n",
      " 0.00000000e+00 0.00000000e+00 0.00000000e+00 0.00000000e+00\n",
      " 4.24292845e-02 5.04714365e-02 3.77149196e-02 4.35385469e-02\n",
      " 4.18746534e-02 1.00000000e+00 1.00000000e+00 1.00000000e+00\n",
      " 1.00000000e+00 1.94120910e-03 2.77315585e-04 0.00000000e+00\n",
      " 0.00000000e+00 0.00000000e+00 0.00000000e+00 0.00000000e+00\n",
      " 0.00000000e+00 0.00000000e+00 0.00000000e+00 0.00000000e+00]\n",
      "Cluster  29 [1.         0.         0.         0.         1.         0.\n",
      " 0.         0.00144509 0.         0.         0.         0.\n",
      " 0.         0.00144509 0.         0.         0.         0.\n",
      " 0.         0.         0.         0.         0.         0.00722543\n",
      " 0.01156069 0.00867052 0.00578035 0.00433526 0.00867052 1.\n",
      " 1.         0.1300578  0.00289017 0.         0.         0.\n",
      " 0.         0.         0.         0.         0.         0.\n",
      " 0.         0.        ]\n",
      "Cluster  30 [0. 0. 1. 0. 0. 0. 0. 0. 0. 1. 0. 0. 0. 0. 0. 0. 0. 0. 0. 0. 0. 0. 0. 0.\n",
      " 0. 0. 0. 0. 0. 1. 1. 0. 0. 0. 0. 0. 0. 0. 0. 0. 0. 0. 0. 0.]\n",
      "Cluster  31 [0.22232472 0.18265683 0.19741697 0.21678967 0.         1.\n",
      " 0.         0.00184502 0.         0.1097786  1.         0.\n",
      " 0.         0.00276753 0.         0.         0.         0.\n",
      " 0.         0.         0.         0.         0.         0.01199262\n",
      " 0.00922509 0.00461255 0.01107011 0.00645756 0.00553506 1.\n",
      " 1.         0.72416974 0.01107011 0.00184502 0.         0.\n",
      " 0.         0.         0.         0.         0.         0.\n",
      " 0.         0.        ]\n",
      "Cluster  32 [3.98006135e-01 6.97852761e-02 1.00000000e+00 2.87576687e-01\n",
      " 3.90337423e-01 9.27914110e-01 0.00000000e+00 3.83435583e-03\n",
      " 5.36809816e-03 1.29601227e-01 0.00000000e+00 0.00000000e+00\n",
      " 0.00000000e+00 7.66871166e-04 0.00000000e+00 0.00000000e+00\n",
      " 0.00000000e+00 0.00000000e+00 0.00000000e+00 0.00000000e+00\n",
      " 0.00000000e+00 0.00000000e+00 0.00000000e+00 1.76380368e-02\n",
      " 1.91717791e-02 1.45705521e-02 2.45398773e-02 1.45705521e-02\n",
      " 1.99386503e-02 1.00000000e+00 1.00000000e+00 1.00000000e+00\n",
      " 2.30061350e-02 3.06748466e-03 1.53374233e-03 0.00000000e+00\n",
      " 0.00000000e+00 0.00000000e+00 0.00000000e+00 0.00000000e+00\n",
      " 0.00000000e+00 0.00000000e+00 0.00000000e+00 0.00000000e+00]\n",
      "Cluster  33 [0.69957983 0.71218487 0.74369748 0.73529412 0.76260504 0.67016807\n",
      " 0.         0.00210084 0.00210084 0.45798319 0.45168067 0.\n",
      " 0.00210084 0.00420168 0.         0.         0.         0.\n",
      " 0.         0.         0.         0.         0.         1.\n",
      " 0.03151261 0.03781513 0.04621849 0.03991597 0.05252101 1.\n",
      " 1.         1.         1.         0.02310924 0.00210084 0.\n",
      " 0.         0.         0.         0.         0.         0.\n",
      " 0.         0.        ]\n",
      "Cluster  34 [1.51327555e-03 9.62993534e-04 1.23813454e-03 6.87852524e-04\n",
      " 1.23813454e-03 8.25423029e-04 9.52813317e-01 1.08680699e-02\n",
      " 1.96725822e-02 8.25423029e-04 4.12711515e-04 9.93534186e-01\n",
      " 9.92571193e-01 8.25423029e-04 4.26468565e-03 2.88898060e-03\n",
      " 1.78841656e-03 9.62993534e-04 2.47626909e-03 2.20112808e-03\n",
      " 8.25423029e-04 1.92598707e-03 1.78841656e-03 0.00000000e+00\n",
      " 0.00000000e+00 0.00000000e+00 0.00000000e+00 0.00000000e+00\n",
      " 0.00000000e+00 1.00000000e+00 1.00000000e+00 1.00000000e+00\n",
      " 1.37570505e-02 2.20112808e-03 1.23813454e-03 0.00000000e+00\n",
      " 0.00000000e+00 0.00000000e+00 0.00000000e+00 0.00000000e+00\n",
      " 0.00000000e+00 0.00000000e+00 0.00000000e+00 0.00000000e+00]\n",
      "Cluster  35 [7.58097864e-01 7.74638181e-01 7.60854583e-01 0.00000000e+00\n",
      " 7.58097864e-01 7.56030324e-01 0.00000000e+00 2.06753963e-03\n",
      " 4.13507926e-03 1.00000000e+00 5.36871123e-01 0.00000000e+00\n",
      " 6.89179876e-04 5.51343901e-03 0.00000000e+00 6.89179876e-04\n",
      " 0.00000000e+00 0.00000000e+00 0.00000000e+00 0.00000000e+00\n",
      " 0.00000000e+00 0.00000000e+00 0.00000000e+00 8.27015851e-03\n",
      " 5.09993108e-02 5.72019297e-02 4.34183322e-02 5.23776706e-02\n",
      " 5.44452102e-02 1.00000000e+00 1.00000000e+00 1.00000000e+00\n",
      " 1.00000000e+00 1.58511371e-02 0.00000000e+00 0.00000000e+00\n",
      " 0.00000000e+00 0.00000000e+00 0.00000000e+00 0.00000000e+00\n",
      " 0.00000000e+00 0.00000000e+00 0.00000000e+00 0.00000000e+00]\n",
      "Cluster  36 [0.15212766 0.03829787 0.85851064 0.62446809 0.16170213 0.04361702\n",
      " 0.         0.00531915 0.00957447 0.75638298 0.35531915 0.\n",
      " 0.         0.00638298 0.         0.         0.         0.\n",
      " 0.         0.         0.         0.         0.         0.0212766\n",
      " 0.01808511 0.02234043 0.0212766  0.0212766  0.01808511 1.\n",
      " 1.         1.         0.03085106 0.00319149 0.         0.\n",
      " 0.         0.         0.         0.         0.         0.\n",
      " 0.         0.        ]\n",
      "Cluster  37 [1.83835182e-01 2.04437401e-01 0.00000000e+00 1.00000000e+00\n",
      " 0.00000000e+00 1.00000000e+00 0.00000000e+00 3.16957211e-03\n",
      " 1.58478605e-03 1.51347068e-01 0.00000000e+00 0.00000000e+00\n",
      " 0.00000000e+00 6.33914422e-03 0.00000000e+00 0.00000000e+00\n",
      " 0.00000000e+00 0.00000000e+00 0.00000000e+00 0.00000000e+00\n",
      " 0.00000000e+00 0.00000000e+00 0.00000000e+00 9.50871632e-03\n",
      " 1.66402536e-02 7.92393027e-03 1.74326466e-02 1.34706815e-02\n",
      " 6.33914422e-03 1.00000000e+00 1.00000000e+00 5.40412044e-01\n",
      " 1.50554675e-02 7.92393027e-04 0.00000000e+00 0.00000000e+00\n",
      " 0.00000000e+00 0.00000000e+00 0.00000000e+00 0.00000000e+00\n",
      " 0.00000000e+00 0.00000000e+00 0.00000000e+00 0.00000000e+00]\n",
      "Cluster  38 [0.00000000e+00 0.00000000e+00 0.00000000e+00 0.00000000e+00\n",
      " 0.00000000e+00 0.00000000e+00 9.90033223e-01 8.30564784e-04\n",
      " 8.30564784e-04 0.00000000e+00 0.00000000e+00 2.49169435e-02\n",
      " 2.82392027e-02 8.30564784e-04 1.00000000e+00 1.41196013e-02\n",
      " 1.16279070e-02 1.82724252e-02 1.41196013e-02 9.96677741e-03\n",
      " 1.41196013e-02 9.96677741e-03 7.47508306e-03 0.00000000e+00\n",
      " 0.00000000e+00 0.00000000e+00 0.00000000e+00 0.00000000e+00\n",
      " 0.00000000e+00 1.00000000e+00 1.00000000e+00 1.10465116e-01\n",
      " 8.30564784e-04 0.00000000e+00 0.00000000e+00 0.00000000e+00\n",
      " 0.00000000e+00 0.00000000e+00 0.00000000e+00 0.00000000e+00\n",
      " 0.00000000e+00 0.00000000e+00 0.00000000e+00 0.00000000e+00]\n",
      "Cluster  39 [1.         0.48055556 0.86319444 0.25763889 0.48125    0.\n",
      " 0.         0.00208333 0.00486111 0.05555556 0.11736111 0.\n",
      " 0.         0.00347222 0.         0.         0.         0.\n",
      " 0.         0.         0.         0.         0.         0.01180556\n",
      " 0.01666667 0.01041667 0.00902778 0.00972222 0.01180556 1.\n",
      " 1.         1.         0.01527778 0.00138889 0.         0.\n",
      " 0.         0.         0.         0.         0.         0.\n",
      " 0.         0.        ]\n",
      "Cluster  40 [0.00000000e+00 0.00000000e+00 0.00000000e+00 2.09380235e-04\n",
      " 2.09380235e-04 2.09380235e-04 3.24329983e-01 7.53768844e-03\n",
      " 0.00000000e+00 0.00000000e+00 0.00000000e+00 2.50837521e-01\n",
      " 2.25711893e-01 1.46566164e-03 1.67504188e-03 1.88442211e-03\n",
      " 1.67294807e-01 1.25628141e-03 7.74706868e-03 6.28140704e-04\n",
      " 8.37520938e-04 1.46566164e-03 1.67504188e-03 2.09380235e-03\n",
      " 1.46566164e-03 1.67504188e-03 1.88442211e-03 1.46566164e-03\n",
      " 1.25628141e-03 1.00000000e+00 1.00000000e+00 0.00000000e+00\n",
      " 0.00000000e+00 0.00000000e+00 0.00000000e+00 0.00000000e+00\n",
      " 0.00000000e+00 0.00000000e+00 0.00000000e+00 0.00000000e+00\n",
      " 0.00000000e+00 0.00000000e+00 0.00000000e+00 0.00000000e+00]\n",
      "Cluster  41 [1. 0. 1. 0. 0. 0. 0. 0. 0. 0. 0. 0. 0. 0. 0. 0. 0. 0. 0. 0. 0. 0. 0. 0.\n",
      " 0. 0. 0. 0. 0. 1. 1. 0. 0. 0. 0. 0. 0. 0. 0. 0. 0. 0. 0. 0.]\n",
      "Cluster  42 [7.39088264e-01 1.29000970e-01 0.00000000e+00 8.82638215e-02\n",
      " 7.65276431e-01 9.17555771e-01 0.00000000e+00 4.84966052e-03\n",
      " 7.75945684e-03 4.06401552e-01 3.78273521e-02 0.00000000e+00\n",
      " 0.00000000e+00 7.75945684e-03 0.00000000e+00 9.69932105e-04\n",
      " 0.00000000e+00 0.00000000e+00 0.00000000e+00 0.00000000e+00\n",
      " 0.00000000e+00 0.00000000e+00 0.00000000e+00 1.55189137e-02\n",
      " 3.10378274e-02 1.45489816e-02 2.32783705e-02 2.13385063e-02\n",
      " 2.03685742e-02 1.00000000e+00 1.00000000e+00 1.00000000e+00\n",
      " 4.07371484e-02 3.87972842e-03 9.69932105e-04 0.00000000e+00\n",
      " 0.00000000e+00 0.00000000e+00 0.00000000e+00 0.00000000e+00\n",
      " 0.00000000e+00 0.00000000e+00 0.00000000e+00 0.00000000e+00]\n",
      "Cluster  43 [0.         1.         0.         0.         0.         1.\n",
      " 0.         0.00135501 0.00271003 0.11382114 0.         0.\n",
      " 0.         0.         0.         0.         0.         0.\n",
      " 0.         0.         0.         0.         0.         0.00271003\n",
      " 0.00542005 0.00948509 0.00406504 0.00948509 0.01084011 1.\n",
      " 1.         0.21815718 0.00406504 0.         0.         0.\n",
      " 0.         0.         0.         0.         0.         0.\n",
      " 0.         0.        ]\n",
      "Cluster  44 [0.96055227 0.94871795 0.97238659 0.95857988 0.95463511 0.95463511\n",
      " 0.         0.01183432 0.00394477 0.         0.87376726 0.\n",
      " 0.         0.02169625 0.         0.00394477 0.         0.\n",
      " 0.         0.         0.         0.         0.         0.20118343\n",
      " 0.21893491 0.18145957 0.17751479 0.20118343 0.18343195 1.\n",
      " 1.         1.         1.         1.         0.01775148 0.00197239\n",
      " 0.         0.         0.         0.         0.         0.\n",
      " 0.         0.        ]\n",
      "Cluster  45 [0.00000000e+00 1.00000000e+00 1.00000000e+00 2.40797546e-01\n",
      " 3.00613497e-01 3.67331288e-01 7.66871166e-04 1.53374233e-03\n",
      " 5.36809816e-03 1.58742331e-01 1.74846626e-01 0.00000000e+00\n",
      " 1.53374233e-03 1.53374233e-03 0.00000000e+00 1.53374233e-03\n",
      " 0.00000000e+00 0.00000000e+00 0.00000000e+00 0.00000000e+00\n",
      " 0.00000000e+00 0.00000000e+00 0.00000000e+00 1.07361963e-02\n",
      " 1.61042945e-02 1.30368098e-02 1.68711656e-02 1.45705521e-02\n",
      " 1.61042945e-02 1.00000000e+00 1.00000000e+00 1.00000000e+00\n",
      " 2.60736196e-02 3.83435583e-03 1.53374233e-03 0.00000000e+00\n",
      " 0.00000000e+00 0.00000000e+00 0.00000000e+00 0.00000000e+00\n",
      " 0.00000000e+00 0.00000000e+00 0.00000000e+00 0.00000000e+00]\n",
      "Cluster  46 [1.00000000e+00 1.59156280e-01 5.08149569e-02 7.66059444e-01\n",
      " 5.71428571e-01 0.00000000e+00 9.58772771e-04 1.91754554e-03\n",
      " 5.75263663e-03 2.34899329e-01 4.59252157e-01 0.00000000e+00\n",
      " 9.58772771e-04 2.87631831e-03 0.00000000e+00 9.58772771e-04\n",
      " 0.00000000e+00 0.00000000e+00 0.00000000e+00 0.00000000e+00\n",
      " 0.00000000e+00 0.00000000e+00 0.00000000e+00 1.43815916e-02\n",
      " 1.15052733e-02 2.30105465e-02 1.15052733e-02 8.62895494e-03\n",
      " 1.24640460e-02 1.00000000e+00 1.00000000e+00 1.00000000e+00\n",
      " 3.54745925e-02 3.83509108e-03 0.00000000e+00 0.00000000e+00\n",
      " 0.00000000e+00 0.00000000e+00 0.00000000e+00 0.00000000e+00\n",
      " 0.00000000e+00 0.00000000e+00 0.00000000e+00 0.00000000e+00]\n",
      "Cluster  47 [0. 0. 0. 1. 1. 0. 0. 0. 0. 0. 0. 0. 0. 0. 0. 0. 0. 0. 0. 0. 0. 0. 0. 0.\n",
      " 0. 0. 0. 0. 0. 1. 1. 0. 0. 0. 0. 0. 0. 0. 0. 0. 0. 0. 0. 0.]\n",
      "Cluster  48 [0.03733766 0.04383117 0.03733766 0.04545455 0.04220779 0.03409091\n",
      " 0.18993506 0.03733766 0.01298701 0.02272727 0.0211039  0.16720779\n",
      " 0.17045455 0.07954545 0.14772727 0.04058442 0.03246753 0.01298701\n",
      " 0.03246753 0.03571429 0.01136364 0.01136364 0.00487013 0.01136364\n",
      " 0.01136364 0.00811688 0.00974026 0.00811688 0.00487013 1.\n",
      " 1.         1.         1.         1.         1.         0.98214286\n",
      " 0.52922078 0.25487013 0.15097403 0.10064935 0.06655844 0.05032468\n",
      " 0.03571429 0.0211039 ]\n",
      "Cluster  49 [0. 0. 0. 0. 0. 0. 0. 0. 0. 0. 1. 0. 0. 0. 0. 0. 0. 0. 0. 0. 0. 0. 0. 0.\n",
      " 0. 0. 0. 0. 0. 1. 0. 0. 0. 0. 0. 0. 0. 0. 0. 0. 0. 0. 0. 0.]\n",
      "Cluster  50 [2.34848485e-01 3.42592593e-01 0.00000000e+00 3.67003367e-01\n",
      " 0.00000000e+00 0.00000000e+00 8.41750842e-04 9.25925926e-03\n",
      " 4.20875421e-03 0.00000000e+00 1.00000000e+00 0.00000000e+00\n",
      " 0.00000000e+00 6.73400673e-03 0.00000000e+00 8.41750842e-04\n",
      " 0.00000000e+00 0.00000000e+00 0.00000000e+00 0.00000000e+00\n",
      " 0.00000000e+00 0.00000000e+00 0.00000000e+00 1.26262626e-02\n",
      " 1.76767677e-02 1.68350168e-02 1.76767677e-02 6.73400673e-03\n",
      " 1.34680135e-02 1.00000000e+00 1.00000000e+00 1.54882155e-01\n",
      " 2.52525253e-03 0.00000000e+00 0.00000000e+00 0.00000000e+00\n",
      " 0.00000000e+00 0.00000000e+00 0.00000000e+00 0.00000000e+00\n",
      " 0.00000000e+00 0.00000000e+00 0.00000000e+00 0.00000000e+00]\n"
     ]
    }
   ],
   "source": [
    "print(\"Cluster Centers:\")\n",
    "i=0\n",
    "for center in centers:\n",
    "    print(\"Cluster \", str(i+1), center)\n",
    "    i = i+1"
   ]
  },
  {
   "cell_type": "markdown",
   "metadata": {},
   "source": [
    "# Part C Percentage of Mirai Malwares in Each Cluster\n"
   ]
  },
  {
   "cell_type": "markdown",
   "metadata": {},
   "source": [
    "# Exercise 9 (10 points)\n",
    "Complete the following code to compute the percentage of Mirai Malwares, Zmap, and Masscan in each cluster."
   ]
  },
  {
   "cell_type": "code",
   "execution_count": 62,
   "metadata": {},
   "outputs": [
    {
     "name": "stdout",
     "output_type": "stream",
     "text": [
      "Cluster  5 ; Mirai Ratio: 0.8424333084018948 ; Cluster Size:  16044\n",
      "Cluster  10 ; Mirai Ratio: 0.009066183136899365 ; Cluster Size:  3309\n",
      "Cluster  18 ; Mirai Ratio: 0.06232736223164228 ; Cluster Size:  36565\n",
      "Cluster  20 ; Mirai Ratio: 0.07641921397379912 ; Cluster Size:  916\n",
      "Cluster  22 ; Mirai Ratio: 0.00706436420722135 ; Cluster Size:  2548\n",
      "Cluster  33 ; Mirai Ratio: 0.001513275553721282 ; Cluster Size:  7269\n",
      "Cluster  37 ; Mirai Ratio: 0.8878737541528239 ; Cluster Size:  1204\n",
      "Cluster  39 ; Mirai Ratio: 0.027219430485762145 ; Cluster Size:  4776\n",
      "Cluster  47 ; Mirai Ratio: 0.01461038961038961 ; Cluster Size:  616\n"
     ]
    }
   ],
   "source": [
    "cluster_eval_df = pd.DataFrame( columns = ['cluster ID', 'size', 'cluster center', 'mirai_ratio', 'zmap_ratio', 'masscan_ratio'] )\n",
    "\n",
    "for i in range(0, 50):\n",
    "    cluster_i = predictions.where(col('prediction')==i)\n",
    "    cluster_i_size = cluster_i.count()\n",
    "    cluster_i_mirai_count = cluster_i.where(col('mirai')).count()\n",
    "    cluster_i_mirai_ratio = cluster_i_mirai_count/cluster_i_size\n",
    "    if cluster_i_mirai_count > 0:\n",
    "        print(\"Cluster \", i, \"; Mirai Ratio:\", cluster_i_mirai_ratio, \"; Cluster Size: \", cluster_i_size)\n",
    "    cluster_i_zmap_ratio = (cluster_i.where(col('zmap')).count())/cluster_i_size\n",
    "    cluster_i_masscan_ratio = (cluster_i.where(col('masscan')).count())/cluster_i_size\n",
    "    cluster_eval_df.loc[i]=[i, cluster_i_size, centers[i], cluster_i_mirai_ratio, cluster_i_zmap_ratio, cluster_i_masscan_ratio ]\n",
    "                               "
   ]
  },
  {
   "cell_type": "markdown",
   "metadata": {},
   "source": [
    "# Exercise 10 (5 points) \n",
    "Identify all of the clusters that have a large percentage of Mirai malware. For example, you can choose clusters with at least 80% of Mirai ratio. If you use a different threshold (other than 80%), describe the threshold you used and the rational of your choice."
   ]
  },
  {
   "cell_type": "markdown",
   "metadata": {},
   "source": [
    "## Answer to Exercise 10:\n",
    "## if I choose 80% as threshold\n",
    "- Cluster  5 ; Mirai Ratio: 0.8424333084018948 ; Cluster Size:  16044\n",
    "- Cluster  37 ; Mirai Ratio: 0.8878737541528239 ; Cluster Size:  1204\n",
    "..."
   ]
  },
  {
   "cell_type": "code",
   "execution_count": 71,
   "metadata": {},
   "outputs": [],
   "source": [
    "# You can filter predictions DataFrame (Spark) to get all scanners in a cluster. \n",
    "# For example, the code below selects scanners in cluster 5. However, you should\n",
    "# replace 5 with the ID of the cluster you want to investigate.\n",
    "cluster_selected = predictions.where((col('prediction')==5) | (col('prediction')==37))"
   ]
  },
  {
   "cell_type": "code",
   "execution_count": 72,
   "metadata": {},
   "outputs": [],
   "source": [
    "# If you prefer to use Pandas dataframe, you can use the following to convert a cluster to a Pandas dataframe\n",
    "cluster_selected_df = cluster_selected.select(\"*\").toPandas()"
   ]
  },
  {
   "cell_type": "code",
   "execution_count": 73,
   "metadata": {},
   "outputs": [
    {
     "name": "stdout",
     "output_type": "stream",
     "text": [
      "root\n",
      " |-- _c0: integer (nullable = true)\n",
      " |-- id: integer (nullable = true)\n",
      " |-- numports: integer (nullable = true)\n",
      " |-- lifetime: double (nullable = true)\n",
      " |-- Bytes: integer (nullable = true)\n",
      " |-- Packets: integer (nullable = true)\n",
      " |-- average_packetsize: integer (nullable = true)\n",
      " |-- MinUniqueDests: integer (nullable = true)\n",
      " |-- MaxUniqueDests: integer (nullable = true)\n",
      " |-- MinUniqueDest24s: integer (nullable = true)\n",
      " |-- MaxUniqueDest24s: integer (nullable = true)\n",
      " |-- average_lifetime: double (nullable = true)\n",
      " |-- mirai: boolean (nullable = true)\n",
      " |-- zmap: boolean (nullable = true)\n",
      " |-- masscan: boolean (nullable = true)\n",
      " |-- country: string (nullable = true)\n",
      " |-- traffic_types_scanned_str: string (nullable = true)\n",
      " |-- ports_scanned_str: string (nullable = true)\n",
      " |-- host_tags_per_censys: string (nullable = true)\n",
      " |-- host_services_per_censys: string (nullable = true)\n",
      " |-- Ports_Array: array (nullable = true)\n",
      " |    |-- element: string (containsNull = true)\n",
      " |-- Port17132: boolean (nullable = true)\n",
      " |-- Port17140: boolean (nullable = true)\n",
      " |-- Port17128: boolean (nullable = true)\n",
      " |-- Port17138: boolean (nullable = true)\n",
      " |-- Port17130: boolean (nullable = true)\n",
      " |-- Port17136: boolean (nullable = true)\n",
      " |-- Port23: boolean (nullable = true)\n",
      " |-- Port445: boolean (nullable = true)\n",
      " |-- Port54594: boolean (nullable = true)\n",
      " |-- Port17142: boolean (nullable = true)\n",
      " |-- Port17134: boolean (nullable = true)\n",
      " |-- Port80: boolean (nullable = true)\n",
      " |-- Port8080: boolean (nullable = true)\n",
      " |-- Port0: boolean (nullable = true)\n",
      " |-- Port2323: boolean (nullable = true)\n",
      " |-- Port5555: boolean (nullable = true)\n",
      " |-- Port81: boolean (nullable = true)\n",
      " |-- Port1023: boolean (nullable = true)\n",
      " |-- Port52869: boolean (nullable = true)\n",
      " |-- Port8443: boolean (nullable = true)\n",
      " |-- Port49152: boolean (nullable = true)\n",
      " |-- Port7574: boolean (nullable = true)\n",
      " |-- Port37215: boolean (nullable = true)\n",
      " |-- Port34218: boolean (nullable = true)\n",
      " |-- Port34220: boolean (nullable = true)\n",
      " |-- Port33968: boolean (nullable = true)\n",
      " |-- Port34224: boolean (nullable = true)\n",
      " |-- Port34228: boolean (nullable = true)\n",
      " |-- Port33962: boolean (nullable = true)\n",
      " |-- TE_numports_0: boolean (nullable = true)\n",
      " |-- TE_numports_1: boolean (nullable = true)\n",
      " |-- TE_numports_2: boolean (nullable = true)\n",
      " |-- TE_numports_3: boolean (nullable = true)\n",
      " |-- TE_numports_4: boolean (nullable = true)\n",
      " |-- TE_numports_5: boolean (nullable = true)\n",
      " |-- TE_numports_6: boolean (nullable = true)\n",
      " |-- TE_numports_7: boolean (nullable = true)\n",
      " |-- TE_numports_8: boolean (nullable = true)\n",
      " |-- TE_numports_9: boolean (nullable = true)\n",
      " |-- TE_numports_10: boolean (nullable = true)\n",
      " |-- TE_numports_11: boolean (nullable = true)\n",
      " |-- TE_numports_12: boolean (nullable = true)\n",
      " |-- TE_numports_13: boolean (nullable = true)\n",
      " |-- TE_numports_14: boolean (nullable = true)\n",
      " |-- TE_numports_15: boolean (nullable = true)\n",
      " |-- TE_numports_16: boolean (nullable = true)\n",
      " |-- features: vector (nullable = true)\n",
      " |-- prediction: integer (nullable = false)\n",
      "\n"
     ]
    }
   ],
   "source": [
    "cluster_selected.printSchema()"
   ]
  },
  {
   "cell_type": "markdown",
   "metadata": {},
   "source": [
    "# Exercise 11 (10 points)\n",
    "Complete the following code to find out, for each of the clusters you identified in Exercise 10, \n",
    "- (1) (5 points) determine whether they scan a common port, and \n",
    "- (2) (5 points) what is the port number if most of them in a cluster scan a common port. \n",
    "You canuse the code below to find out what top port is scanned by the scanner in a cluster."
   ]
  },
  {
   "cell_type": "code",
   "execution_count": 83,
   "metadata": {},
   "outputs": [],
   "source": [
    "# You fill in the ??? based on the cluster you want to investigate.\n",
    "cluster_5= predictions.where(col('prediction')==5)\n",
    "cluster_37= predictions.where(col('prediction')==37)"
   ]
  },
  {
   "cell_type": "code",
   "execution_count": 84,
   "metadata": {},
   "outputs": [
    {
     "name": "stdout",
     "output_type": "stream",
     "text": [
      "Scanners of Port  23  =  16044\n"
     ]
    }
   ],
   "source": [
    "for i in range(0, top_ports -1):\n",
    "    port_num = \"Port\" + Top_Ports_list[i]\n",
    "    port_i_count = cluster_5.where(col(port_num)).count()\n",
    "    if port_i_count > 0:\n",
    "        print(\"Scanners of Port \", Top_Ports_list[i], \" = \", port_i_count)"
   ]
  },
  {
   "cell_type": "code",
   "execution_count": 85,
   "metadata": {},
   "outputs": [
    {
     "name": "stdout",
     "output_type": "stream",
     "text": [
      "Scanners of Port  23  =  1192\n",
      "Scanners of Port  445  =  1\n",
      "Scanners of Port  54594  =  1\n",
      "Scanners of Port  80  =  30\n",
      "Scanners of Port  8080  =  34\n",
      "Scanners of Port  0  =  1\n",
      "Scanners of Port  2323  =  1204\n",
      "Scanners of Port  5555  =  17\n",
      "Scanners of Port  81  =  14\n",
      "Scanners of Port  1023  =  22\n",
      "Scanners of Port  52869  =  17\n",
      "Scanners of Port  8443  =  12\n",
      "Scanners of Port  49152  =  17\n",
      "Scanners of Port  7574  =  12\n",
      "Scanners of Port  37215  =  9\n"
     ]
    }
   ],
   "source": [
    "for i in range(0, top_ports -1):\n",
    "    port_num = \"Port\" + Top_Ports_list[i]\n",
    "    port_i_count = cluster_37.where(col(port_num)).count()\n",
    "    if port_i_count > 0:\n",
    "        print(\"Scanners of Port \", Top_Ports_list[i], \" = \", port_i_count)"
   ]
  },
  {
   "cell_type": "markdown",
   "metadata": {},
   "source": [
    "# Answer to Exercise 11\n",
    "- (1) (5 points) They all scan the common ports, cluster scan the port 23, and cluster 37 also scan the port23, and port 23 is the common port. \n",
    "- (2) (5 points) The top port in cluster 5 is port2 which has 16044 times. And the top port in cluster 37 is port 2323, which is also common port and has 1204 times. "
   ]
  },
  {
   "cell_type": "markdown",
   "metadata": {},
   "source": [
    "# Exercise 12 (20 points)\n",
    "Based on the results above and those of mini project deliverable #2, answer the following questions:\n",
    "- (a) Why the clustering result of mini project #3 is better than that of #2? (5 points)\n",
    "- (b) Based on your answer of (a), what is the general lesson you learned for solving clustering problems? (5 points)\n",
    "- (c) Did you find anything interesting and/or surprising using Mirai labels to evaluate the clustering result? (5 points)\n",
    "- (d) Based on your answer of (c), what is the general lesson you learned regarding evaluating clustering? (5 points)"
   ]
  },
  {
   "cell_type": "markdown",
   "metadata": {},
   "source": [
    "# Answer to Exercise 12: \n",
    "- (a) Because the mini project#3 use the thermometer Encoding, because  mini-project-#2 contain mixture of numerical variables and (One Hot Encoded) categorical variables, but thermometer Encoding can improve it. But, in real execution the project 3 get worser score than project 2. I think we can use hypermeter tunning to improve the proformance of kmean.\n",
    "- (b) To improve the cluster proformacne, I need avoid mixture of numerical variables and (One Hot Encoded), numerical variables not normalized, and high dimensional feature space. Moreover, I can use thermometer Encoding to improve my kmean cluster.\n",
    "- (c) I find that Mirai labels give me a better way to do Clustering Validation. And, it return accurate ratio for me to know the validation score.\n",
    "- (d) External label are used when we propose a new clustering technique and we want to validate it or we want to compare it to existing techniques. In these cases, we get a bunch of datasets for which we know the ground truth and see if our clustering technique is able to produce clustering solutions that are similar to it. So we can use external validity to improve our Clustering Validation."
   ]
  },
  {
   "cell_type": "code",
   "execution_count": null,
   "metadata": {},
   "outputs": [],
   "source": []
  }
 ],
 "metadata": {
  "kernelspec": {
   "display_name": "Python 3",
   "language": "python",
   "name": "python3"
  },
  "language_info": {
   "codemirror_mode": {
    "name": "ipython",
    "version": 3
   },
   "file_extension": ".py",
   "mimetype": "text/x-python",
   "name": "python",
   "nbconvert_exporter": "python",
   "pygments_lexer": "ipython3",
   "version": "3.8.3"
  }
 },
 "nbformat": 4,
 "nbformat_minor": 4
}
