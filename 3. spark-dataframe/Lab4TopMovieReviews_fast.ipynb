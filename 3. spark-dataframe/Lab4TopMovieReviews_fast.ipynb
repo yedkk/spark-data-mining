{
 "cells": [
  {
   "cell_type": "markdown",
   "metadata": {},
   "source": [
    "## DS/CMPSC 410 Sparing 2021\n",
    "## Instructor: Professor John Yen\n",
    "## TA: Rupesh Prajapati and Dongkuan Xu\n",
    "## Lab 4: Data Frames, Join, and Spark Submit\n",
    "## The goals of this lab are for you to be able to\n",
    "### - Use Data Frames in Spark for Processing Structured Data\n",
    "### - Perform Join on DataFrames \n",
    "### - Transfer files from ICDS to XSEDE using Globus Connect\n",
    "### - Run Spark-submit (Cluster Mode) in XSEDE \n",
    "### - Apply the obove to find Movies that have the largest number of Netflix movie reviews\n",
    "\n",
    "## Total Number of Exercises: \n",
    "- Exercise 1: 5 points\n",
    "- Exercise 2: 5 points\n",
    "- Exercise 3: 5 points\n",
    "- Exercise 4: 10 points\n",
    "- Exercise 5: 5 points\n",
    "- Exercise 6: 5 points\n",
    "- Exercise 7: 5 points\n",
    "- Exercise 8: 20 points\n",
    "## Total Points: 60 points\n",
    "\n",
    "# Due: midnight, February 14, 2021"
   ]
  },
  {
   "cell_type": "markdown",
   "metadata": {},
   "source": [
    "## The first thing we need to do in each Jupyter Notebook running pyspark is to import pyspark first."
   ]
  },
  {
   "cell_type": "code",
   "execution_count": 1,
   "metadata": {},
   "outputs": [],
   "source": [
    "import pyspark"
   ]
  },
  {
   "cell_type": "markdown",
   "metadata": {},
   "source": [
    "### Once we import pyspark, we need to import \"SparkContext\".  Every spark program needs a SparkContext object\n",
    "### In order to use Spark SQL on DataFrames, we also need to import SparkSession from PySpark.SQL"
   ]
  },
  {
   "cell_type": "code",
   "execution_count": 2,
   "metadata": {},
   "outputs": [],
   "source": [
    "from pyspark import SparkContext\n",
    "from pyspark.sql import SparkSession\n",
    "from pyspark.sql.types import StructField, StructType, StringType, LongType, IntegerType, FloatType\n",
    "from pyspark.sql.functions import col, column\n",
    "from pyspark.sql.functions import expr\n",
    "from pyspark.sql.functions import split\n",
    "from pyspark.sql import Row\n",
    "# from pyspark.ml import Pipeline\n",
    "# from pyspark.ml.feature import OneHotEncoder, StringIndexer, VectorAssembler, IndexToString\n",
    "# from pyspark.ml.clustering import KMeans"
   ]
  },
  {
   "cell_type": "markdown",
   "metadata": {},
   "source": [
    "## We then create a Spark Session variable (rather than Spark Context) in order to use DataFrame. \n",
    "- Note: We temporarily use \"local\" as the parameter for master in this notebook so that we can test it in ICDS Roar.  However, we need to change \"local\" to \"Yarn\" before we submit it to XSEDE to run in cluster mode."
   ]
  },
  {
   "cell_type": "code",
   "execution_count": 3,
   "metadata": {},
   "outputs": [],
   "source": [
    "ss=SparkSession.builder.appName(\"lab5\").getOrCreate()"
   ]
  },
  {
   "cell_type": "markdown",
   "metadata": {},
   "source": [
    "## Exercise 1 (5 points) (a) Add your name below AND (b) replace the path below with the path of your home directory.\n",
    "## Answer for Exercise 1\n",
    "- a: Your Name: Kangdong Yuan"
   ]
  },
  {
   "cell_type": "code",
   "execution_count": 4,
   "metadata": {},
   "outputs": [],
   "source": [
    "movies_DF = ss.read.csv(\"movies_2.csv\", header=True, inferSchema=True)"
   ]
  },
  {
   "cell_type": "code",
   "execution_count": 5,
   "metadata": {},
   "outputs": [
    {
     "name": "stdout",
     "output_type": "stream",
     "text": [
      "root\n",
      " |-- MovieID: integer (nullable = true)\n",
      " |-- MovieTitle: string (nullable = true)\n",
      " |-- Genres: string (nullable = true)\n",
      "\n"
     ]
    }
   ],
   "source": [
    "#movies_DF.printSchema()"
   ]
  },
  {
   "cell_type": "code",
   "execution_count": 6,
   "metadata": {},
   "outputs": [
    {
     "data": {
      "text/plain": [
       "Row(MovieID=1, MovieTitle='Toy Story (1995)', Genres='Adventure|Animation|Children|Comedy|Fantasy')"
      ]
     },
     "execution_count": 6,
     "metadata": {},
     "output_type": "execute_result"
    }
   ],
   "source": [
    "#movies_DF.first()"
   ]
  },
  {
   "cell_type": "code",
   "execution_count": 7,
   "metadata": {},
   "outputs": [],
   "source": [
    "ratings_DF = ss.read.csv(\"ratings_2.csv\", header=True, inferSchema=True)"
   ]
  },
  {
   "cell_type": "code",
   "execution_count": 8,
   "metadata": {},
   "outputs": [
    {
     "name": "stdout",
     "output_type": "stream",
     "text": [
      "root\n",
      " |-- UserID: integer (nullable = true)\n",
      " |-- MovieID: integer (nullable = true)\n",
      " |-- Rating: double (nullable = true)\n",
      " |-- RatingID: integer (nullable = true)\n",
      "\n"
     ]
    }
   ],
   "source": [
    "#ratings_DF.printSchema()"
   ]
  },
  {
   "cell_type": "code",
   "execution_count": 9,
   "metadata": {},
   "outputs": [
    {
     "data": {
      "text/plain": [
       "Row(UserID=1, MovieID=31, Rating=2.5, RatingID=1260759144)"
      ]
     },
     "execution_count": 9,
     "metadata": {},
     "output_type": "execute_result"
    }
   ],
   "source": [
    "#ratings_DF.first()"
   ]
  },
  {
   "cell_type": "markdown",
   "metadata": {
    "jupyter": {
     "outputs_hidden": true
    }
   },
   "source": [
    "# 2. DataFrames Transformations\n",
    "DataFrame in Spark provides higher-level transformations that are convenient for selecting rows, columns, and for creating new columns.  These transformations are part of Spark SQL.\n",
    "\n",
    "## 2.1 Select Transformation\n",
    "Select columns from a DataFrame. "
   ]
  },
  {
   "cell_type": "code",
   "execution_count": 10,
   "metadata": {},
   "outputs": [
    {
     "name": "stdout",
     "output_type": "stream",
     "text": [
      "+--------------------+\n",
      "|              Genres|\n",
      "+--------------------+\n",
      "|Adventure|Animati...|\n",
      "|Adventure|Childre...|\n",
      "|      Comedy|Romance|\n",
      "|Comedy|Drama|Romance|\n",
      "|              Comedy|\n",
      "+--------------------+\n",
      "only showing top 5 rows\n",
      "\n"
     ]
    }
   ],
   "source": [
    "#movies_DF.select(\"Genres\").show(5)"
   ]
  },
  {
   "cell_type": "code",
   "execution_count": 11,
   "metadata": {},
   "outputs": [
    {
     "data": {
      "text/plain": [
       "[Row(MovieID=1, MovieTitle='Toy Story (1995)', Genres='Adventure|Animation|Children|Comedy|Fantasy'),\n",
       " Row(MovieID=2, MovieTitle='Jumanji (1995)', Genres='Adventure|Children|Fantasy')]"
      ]
     },
     "execution_count": 11,
     "metadata": {},
     "output_type": "execute_result"
    }
   ],
   "source": [
    "# Step 1: Convert the DataFrame movies_DF into an RDD\n",
    "from pyspark.sql.functions import split\n",
    "movies_RDD = movies_DF.rdd\n",
    "#movies_RDD.take(2)"
   ]
  },
  {
   "cell_type": "code",
   "execution_count": 12,
   "metadata": {},
   "outputs": [
    {
     "data": {
      "text/plain": [
       "['Adventure|Animation|Children|Comedy|Fantasy', 'Adventure|Children|Fantasy']"
      ]
     },
     "execution_count": 12,
     "metadata": {},
     "output_type": "execute_result"
    }
   ],
   "source": [
    "# Step 2: Map to each row of the DF-converted RDD to extract the column \"Generes\". Save the mapping result \n",
    "# in a new RDD (whih contains only values of the column)\n",
    "Genres_column = movies_RDD.map(lambda row: row.Genres)\n",
    "#Genres_column.take(2)"
   ]
  },
  {
   "cell_type": "code",
   "execution_count": 13,
   "metadata": {},
   "outputs": [
    {
     "data": {
      "text/plain": [
       "['Adventure',\n",
       " 'Animation',\n",
       " 'Children',\n",
       " 'Comedy',\n",
       " 'Fantasy',\n",
       " 'Adventure',\n",
       " 'Children',\n",
       " 'Fantasy',\n",
       " 'Comedy',\n",
       " 'Romance']"
      ]
     },
     "execution_count": 13,
     "metadata": {},
     "output_type": "execute_result"
    }
   ],
   "source": [
    "# Step 3: Split the multiple Generes of a movie (separated by |) into a tuple.\n",
    "Genres_list_rdd= Genres_column.flatMap(lambda string: string.split(\"|\"))\n",
    "#Genres_list_rdd.take(10)"
   ]
  },
  {
   "cell_type": "markdown",
   "metadata": {},
   "source": [
    "## Exercise 2 (5 points)\n",
    "Complete the following code to compute the total number of movies in each genere."
   ]
  },
  {
   "cell_type": "code",
   "execution_count": 14,
   "metadata": {},
   "outputs": [
    {
     "data": {
      "text/plain": [
       "[('Adventure', 1), ('Animation', 1), ('Children', 1)]"
      ]
     },
     "execution_count": 14,
     "metadata": {},
     "output_type": "execute_result"
    }
   ],
   "source": [
    "# Step 4: \n",
    "Genres_count_rdd = Genres_list_rdd.map(lambda x: (x, 1))\n",
    "#Genres_count_rdd.take(3)"
   ]
  },
  {
   "cell_type": "code",
   "execution_count": 15,
   "metadata": {},
   "outputs": [
    {
     "data": {
      "text/plain": [
       "[('Adventure', 1117),\n",
       " ('Animation', 447),\n",
       " ('Children', 583),\n",
       " ('Comedy', 3315),\n",
       " ('Fantasy', 654),\n",
       " ('Romance', 1545),\n",
       " ('Drama', 4365),\n",
       " ('Action', 1545),\n",
       " ('Crime', 1100),\n",
       " ('Thriller', 1729),\n",
       " ('Horror', 877),\n",
       " ('Mystery', 543),\n",
       " ('Sci-Fi', 792),\n",
       " ('Documentary', 495),\n",
       " ('IMAX', 153),\n",
       " ('War', 367),\n",
       " ('Musical', 394),\n",
       " ('Western', 168),\n",
       " ('Film-Noir', 133),\n",
       " ('(no genres listed)', 18)]"
      ]
     },
     "execution_count": 15,
     "metadata": {},
     "output_type": "execute_result"
    }
   ],
   "source": [
    "Genres_total_rdd = Genres_count_rdd.reduceByKey(lambda x, y: x + y, 3)\n",
    "Genres_total_rdd.collect()"
   ]
  },
  {
   "cell_type": "markdown",
   "metadata": {
    "jupyter": {
     "outputs_hidden": true
    }
   },
   "source": [
    "## 2.2 Transforming a Column Using Split\n",
    "We can transform a column value that represents a list using a special character such as \"|\" or \"-\") using split Spark SQL function."
   ]
  },
  {
   "cell_type": "code",
   "execution_count": 16,
   "metadata": {},
   "outputs": [
    {
     "name": "stdout",
     "output_type": "stream",
     "text": [
      "+---------------------+\n",
      "|split(Genres, \\|, -1)|\n",
      "+---------------------+\n",
      "| [Adventure, Anima...|\n",
      "| [Adventure, Child...|\n",
      "+---------------------+\n",
      "only showing top 2 rows\n",
      "\n"
     ]
    }
   ],
   "source": [
    "Splitted_Generes_DF= movies_DF.select(split(col(\"Genres\"), '\\|'))\n",
    "#Splitted_Generes_DF.show(2)"
   ]
  },
  {
   "cell_type": "markdown",
   "metadata": {},
   "source": [
    "## 2.3 Adding a Column to a DataFrame using withColumn\n",
    "We often need to transform content of a column into another column. For example, if we transform the column Genres in the movies DataFrame into an array of genre categories, we can more easily check whether a movie is of certain genre.  "
   ]
  },
  {
   "cell_type": "code",
   "execution_count": 17,
   "metadata": {},
   "outputs": [],
   "source": [
    "movies2_DF= movies_DF.withColumn(\"Genres_Array\",split(col(\"Genres\"), '\\|') )"
   ]
  },
  {
   "cell_type": "code",
   "execution_count": 18,
   "metadata": {},
   "outputs": [
    {
     "name": "stdout",
     "output_type": "stream",
     "text": [
      "root\n",
      " |-- MovieID: integer (nullable = true)\n",
      " |-- MovieTitle: string (nullable = true)\n",
      " |-- Genres: string (nullable = true)\n",
      " |-- Genres_Array: array (nullable = true)\n",
      " |    |-- element: string (containsNull = true)\n",
      "\n"
     ]
    }
   ],
   "source": [
    "#movies2_DF.printSchema()"
   ]
  },
  {
   "cell_type": "code",
   "execution_count": 19,
   "metadata": {},
   "outputs": [
    {
     "name": "stdout",
     "output_type": "stream",
     "text": [
      "+-------+----------------+--------------------+--------------------+\n",
      "|MovieID|      MovieTitle|              Genres|        Genres_Array|\n",
      "+-------+----------------+--------------------+--------------------+\n",
      "|      1|Toy Story (1995)|Adventure|Animati...|[Adventure, Anima...|\n",
      "|      2|  Jumanji (1995)|Adventure|Childre...|[Adventure, Child...|\n",
      "+-------+----------------+--------------------+--------------------+\n",
      "only showing top 2 rows\n",
      "\n"
     ]
    }
   ],
   "source": [
    "#movies2_DF.show(2)"
   ]
  },
  {
   "cell_type": "markdown",
   "metadata": {},
   "source": [
    "## 3. Computing Total Reviews and Average Rating for Each Movie\n",
    "Because it is convenient and efficient to compute both total reviews and average rating for each movie using key value pairs, we will convert the reviews Data Frame into RDD."
   ]
  },
  {
   "cell_type": "code",
   "execution_count": 21,
   "metadata": {},
   "outputs": [
    {
     "data": {
      "text/plain": [
       "[Row(UserID=1, MovieID=31, Rating=2.5, RatingID=1260759144),\n",
       " Row(UserID=1, MovieID=1029, Rating=3.0, RatingID=1260759179)]"
      ]
     },
     "execution_count": 21,
     "metadata": {},
     "output_type": "execute_result"
    }
   ],
   "source": [
    "# Step 3.1 Convert the Reviews DF into RDD\n",
    "ratings_RDD = ratings_DF.rdd\n",
    "#ratings_RDD.take(2)"
   ]
  },
  {
   "cell_type": "code",
   "execution_count": 22,
   "metadata": {},
   "outputs": [],
   "source": [
    "# Step 3.2 Transform the ratings_RDD into key value pairs where key is Movie ID\n",
    "movie_ratings_RDD = ratings_RDD.map(lambda row: (row.MovieID, row.Rating))"
   ]
  },
  {
   "cell_type": "code",
   "execution_count": 23,
   "metadata": {},
   "outputs": [
    {
     "data": {
      "text/plain": [
       "[(31, 2.5), (1029, 3.0)]"
      ]
     },
     "execution_count": 23,
     "metadata": {},
     "output_type": "execute_result"
    }
   ],
   "source": [
    "#movie_ratings_RDD.take(2)"
   ]
  },
  {
   "cell_type": "markdown",
   "metadata": {},
   "source": [
    "## Exercise 3 (5 points)\n",
    "Complete the code below to compute the total number of reviews for each movie."
   ]
  },
  {
   "cell_type": "code",
   "execution_count": 24,
   "metadata": {},
   "outputs": [],
   "source": [
    "# Step 3.3 Compute total number of reviews for each movie\n",
    "movie_review_count_RDD = movie_ratings_RDD.map(lambda x: (x[0], 1))\n",
    "movie_review_total_RDD = movie_review_count_RDD.reduceByKey(lambda x, y: x+y, 3)"
   ]
  },
  {
   "cell_type": "code",
   "execution_count": 25,
   "metadata": {},
   "outputs": [
    {
     "data": {
      "text/plain": [
       "[(31, 42), (1029, 42), (1061, 33), (1129, 48)]"
      ]
     },
     "execution_count": 25,
     "metadata": {},
     "output_type": "execute_result"
    }
   ],
   "source": [
    "#movie_review_total_RDD.take(4)"
   ]
  },
  {
   "cell_type": "code",
   "execution_count": 27,
   "metadata": {},
   "outputs": [],
   "source": [
    "# Step 3.4 Compute average rating for each movie\n",
    "rating_total_RDD = movie_ratings_RDD.reduceByKey(lambda x, y: x+y, 3)"
   ]
  },
  {
   "cell_type": "code",
   "execution_count": 28,
   "metadata": {},
   "outputs": [
    {
     "data": {
      "text/plain": [
       "[(31, 133.5), (1029, 155.5), (1061, 117.0), (1129, 159.0)]"
      ]
     },
     "execution_count": 28,
     "metadata": {},
     "output_type": "execute_result"
    }
   ],
   "source": [
    "#rating_total_RDD.take(4)"
   ]
  },
  {
   "cell_type": "markdown",
   "metadata": {},
   "source": [
    "## Join Transformation on Two RDDs\n",
    "Two Key Value Pairs RDDs can be joined on the RDD (similar to the join operation in SQL) to return a new RDD, whose rows is an inner join of the two input RDDs.  Only key value pairs occur in both input RDDs occur in the output RDD."
   ]
  },
  {
   "cell_type": "code",
   "execution_count": 29,
   "metadata": {},
   "outputs": [],
   "source": [
    "# Step 3.5 Join the two RDDs (one counts total reviews, the other computes sum of ratings)\n",
    "joined_RDD = rating_total_RDD.join(movie_review_total_RDD)"
   ]
  },
  {
   "cell_type": "code",
   "execution_count": 30,
   "metadata": {},
   "outputs": [
    {
     "data": {
      "text/plain": [
       "[(31, (133.5, 42)),\n",
       " (1029, (155.5, 42)),\n",
       " (1061, (117.0, 33)),\n",
       " (1129, (159.0, 48))]"
      ]
     },
     "execution_count": 30,
     "metadata": {},
     "output_type": "execute_result"
    }
   ],
   "source": [
    "#joined_RDD.take(4)"
   ]
  },
  {
   "cell_type": "markdown",
   "metadata": {},
   "source": [
    "## Exercise 4 (10 points)\n",
    "Complete the following code to compute average rating for each movie."
   ]
  },
  {
   "cell_type": "code",
   "execution_count": 31,
   "metadata": {},
   "outputs": [],
   "source": [
    "# Step 3.6 Compute average rating for each movie\n",
    "average_rating_RDD = joined_RDD.map(lambda x: (x[0], x[1][0]/x[1][1] ))"
   ]
  },
  {
   "cell_type": "code",
   "execution_count": 32,
   "metadata": {},
   "outputs": [
    {
     "data": {
      "text/plain": [
       "[(31, 3.1785714285714284),\n",
       " (1029, 3.7023809523809526),\n",
       " (1061, 3.5454545454545454),\n",
       " (1129, 3.3125)]"
      ]
     },
     "execution_count": 32,
     "metadata": {},
     "output_type": "execute_result"
    }
   ],
   "source": [
    "#average_rating_RDD.take(4)"
   ]
  },
  {
   "cell_type": "markdown",
   "metadata": {},
   "source": [
    "## Exercise 5 (5 points)\n",
    "Complete the following code to combine the two RDDs into one in the form of \n",
    "```\n",
    "(<movieID>, (<average rating>, <total review>)\n",
    "```"
   ]
  },
  {
   "cell_type": "code",
   "execution_count": 33,
   "metadata": {},
   "outputs": [],
   "source": [
    "# Step 3.7 We want to keep both average review and total number of reviews for each movie. \n",
    "# So we do another join her.\n",
    "avg_rating_total_review_RDD = average_rating_RDD.join(movie_review_total_RDD)"
   ]
  },
  {
   "cell_type": "code",
   "execution_count": 34,
   "metadata": {},
   "outputs": [
    {
     "data": {
      "text/plain": [
       "[(1172, (4.260869565217392, 46)),\n",
       " (2150, (3.513888888888889, 36)),\n",
       " (2294, (3.2735849056603774, 53)),\n",
       " (2968, (3.5697674418604652, 43))]"
      ]
     },
     "execution_count": 34,
     "metadata": {},
     "output_type": "execute_result"
    }
   ],
   "source": [
    "#avg_rating_total_review_RDD.take(4)"
   ]
  },
  {
   "cell_type": "markdown",
   "metadata": {},
   "source": [
    "## Transforming RDD to Data Frame\n",
    "An RDD can be transformed to a Data Frame using toDF().  We want to transform the RDD containing average rating and total reviews for each movie into a Data Frame so that we can answer questions that involve bothmovie reviews and generes such as the following:\n",
    "- What movies in a genre (e.g., comedy) has a top 10 average review among those that receive at least k reviews?"
   ]
  },
  {
   "cell_type": "code",
   "execution_count": 35,
   "metadata": {},
   "outputs": [],
   "source": [
    "# Before transforming to Data Frame, we first convert the key value pairs of avg_rating_total_reivew_RDD \n",
    "# which has the format of (<movie ID> (<average rating> <review total>) )  to a tuple of the format\n",
    "# (<movie ID> <average rating> <review total>)\n",
    "avg_rating_total_review_tuple_RDD = avg_rating_total_review_RDD.map(lambda x: (x[0], x[1][0], x[1][1]) )"
   ]
  },
  {
   "cell_type": "code",
   "execution_count": 36,
   "metadata": {},
   "outputs": [
    {
     "data": {
      "text/plain": [
       "[(1172, 4.260869565217392, 46),\n",
       " (2150, 3.513888888888889, 36),\n",
       " (2294, 3.2735849056603774, 53),\n",
       " (2968, 3.5697674418604652, 43)]"
      ]
     },
     "execution_count": 36,
     "metadata": {},
     "output_type": "execute_result"
    }
   ],
   "source": [
    "#avg_rating_total_review_tuple_RDD.take(4)"
   ]
  },
  {
   "cell_type": "markdown",
   "metadata": {},
   "source": [
    "## Defining a Schema for Data Frame\n",
    "As we have seen before, each Data Frame has a Schema, which defines the names of the column and the type of values for the column (e.g., string, integer, or float).  There are two ways to specify the schema of a Data Frame:\n",
    "- Infer the schema from the heading and the value of an input file (e.g., CSV).  This is how the schema of movies_DF was created in the beginning of this notebook.\n",
    "- Explicitly specify the Schema\n",
    "We will use one approach in the second category here to specify the column names and the type of column values of the DataFrame to be converted from the RDD above."
   ]
  },
  {
   "cell_type": "code",
   "execution_count": 38,
   "metadata": {},
   "outputs": [],
   "source": [
    "schema = StructType([ StructField(\"MovieID\", IntegerType(), True ), \\\n",
    "                     StructField(\"AvgRating\", FloatType(), True ), \\\n",
    "                     StructField(\"TotalReviews\", IntegerType(), True) \\\n",
    "                    ])"
   ]
  },
  {
   "cell_type": "code",
   "execution_count": 39,
   "metadata": {},
   "outputs": [],
   "source": [
    "# Convert the RDD to a Data Frame\n",
    "avg_review_DF = avg_rating_total_review_tuple_RDD.toDF(schema)"
   ]
  },
  {
   "cell_type": "code",
   "execution_count": 40,
   "metadata": {},
   "outputs": [
    {
     "name": "stdout",
     "output_type": "stream",
     "text": [
      "root\n",
      " |-- MovieID: integer (nullable = true)\n",
      " |-- AvgRating: float (nullable = true)\n",
      " |-- TotalReviews: integer (nullable = true)\n",
      "\n"
     ]
    }
   ],
   "source": [
    "#avg_review_DF.printSchema()"
   ]
  },
  {
   "cell_type": "code",
   "execution_count": 41,
   "metadata": {},
   "outputs": [
    {
     "data": {
      "text/plain": [
       "[Row(MovieID=1172, AvgRating=4.26086950302124, TotalReviews=46),\n",
       " Row(MovieID=2150, AvgRating=3.5138888359069824, TotalReviews=36),\n",
       " Row(MovieID=2294, AvgRating=3.2735848426818848, TotalReviews=53),\n",
       " Row(MovieID=2968, AvgRating=3.569767475128174, TotalReviews=43)]"
      ]
     },
     "execution_count": 41,
     "metadata": {},
     "output_type": "execute_result"
    }
   ],
   "source": [
    "#avg_review_DF.take(4)"
   ]
  },
  {
   "cell_type": "markdown",
   "metadata": {},
   "source": [
    "## Join Transformation on Two DataFrames\n",
    "We want to join the avg_rating_total_review_DF with movies2_DF"
   ]
  },
  {
   "cell_type": "code",
   "execution_count": 42,
   "metadata": {},
   "outputs": [],
   "source": [
    "joined_DF = avg_review_DF.join(movies2_DF,'MovieID', 'inner')"
   ]
  },
  {
   "cell_type": "code",
   "execution_count": 43,
   "metadata": {},
   "outputs": [
    {
     "name": "stdout",
     "output_type": "stream",
     "text": [
      "root\n",
      " |-- MovieID: integer (nullable = true)\n",
      " |-- MovieTitle: string (nullable = true)\n",
      " |-- Genres: string (nullable = true)\n",
      " |-- Genres_Array: array (nullable = true)\n",
      " |    |-- element: string (containsNull = true)\n",
      "\n"
     ]
    }
   ],
   "source": [
    "#movies2_DF.printSchema()"
   ]
  },
  {
   "cell_type": "code",
   "execution_count": 44,
   "metadata": {},
   "outputs": [
    {
     "name": "stdout",
     "output_type": "stream",
     "text": [
      "+-------+---------+------------+--------------------+--------------------+--------------------+\n",
      "|MovieID|AvgRating|TotalReviews|          MovieTitle|              Genres|        Genres_Array|\n",
      "+-------+---------+------------+--------------------+--------------------+--------------------+\n",
      "|   1172|4.2608695|          46|Cinema Paradiso (...|               Drama|             [Drama]|\n",
      "|   2150|3.5138888|          36|Gods Must Be Craz...|    Adventure|Comedy| [Adventure, Comedy]|\n",
      "|   2294|3.2735848|          53|         Antz (1998)|Adventure|Animati...|[Adventure, Anima...|\n",
      "|   2968|3.5697675|          43| Time Bandits (1981)|Adventure|Comedy|...|[Adventure, Comed...|\n",
      "+-------+---------+------------+--------------------+--------------------+--------------------+\n",
      "only showing top 4 rows\n",
      "\n"
     ]
    }
   ],
   "source": [
    "#joined_DF.show(4)"
   ]
  },
  {
   "cell_type": "markdown",
   "metadata": {},
   "source": [
    "## Filter Data Frame on Elements of a Column Using ArrayContains\n"
   ]
  },
  {
   "cell_type": "code",
   "execution_count": 45,
   "metadata": {},
   "outputs": [],
   "source": [
    "from pyspark.sql.functions import array_contains\n",
    "Adventure_DF = joined_DF.filter(array_contains('Genres_Array', \\\n",
    "                                               \"Adventure\")).select(\"MovieID\",\"AvgRating\",\"TotalReviews\",\"MovieTitle\")"
   ]
  },
  {
   "cell_type": "code",
   "execution_count": 46,
   "metadata": {},
   "outputs": [
    {
     "name": "stdout",
     "output_type": "stream",
     "text": [
      "+-------+---------+------------+--------------------+\n",
      "|MovieID|AvgRating|TotalReviews|          MovieTitle|\n",
      "+-------+---------+------------+--------------------+\n",
      "|   2150|3.5138888|          36|Gods Must Be Craz...|\n",
      "|   2294|3.2735848|          53|         Antz (1998)|\n",
      "|   2968|3.5697675|          43| Time Bandits (1981)|\n",
      "|     10|3.4508197|         122|    GoldenEye (1995)|\n",
      "|    150|   3.9025|         200|    Apollo 13 (1995)|\n",
      "+-------+---------+------------+--------------------+\n",
      "only showing top 5 rows\n",
      "\n"
     ]
    }
   ],
   "source": [
    "#Adventure_DF.show(5)"
   ]
  },
  {
   "cell_type": "code",
   "execution_count": 47,
   "metadata": {},
   "outputs": [],
   "source": [
    "Sorted_Adventure_DF = Adventure_DF.orderBy('TotalReviews', ascending=False)"
   ]
  },
  {
   "cell_type": "code",
   "execution_count": 48,
   "metadata": {},
   "outputs": [
    {
     "name": "stdout",
     "output_type": "stream",
     "text": [
      "+-------+---------+------------+--------------------+\n",
      "|MovieID|AvgRating|TotalReviews|          MovieTitle|\n",
      "+-------+---------+------------+--------------------+\n",
      "|    260|4.2216496|         291|Star Wars: Episod...|\n",
      "|    480|3.7062044|         274|Jurassic Park (1993)|\n",
      "|      1|3.8724697|         247|    Toy Story (1995)|\n",
      "|   1196| 4.232906|         234|Star Wars: Episod...|\n",
      "|   1270|4.0154867|         226|Back to the Futur...|\n",
      "|   1198| 4.193182|         220|Raiders of the Lo...|\n",
      "|    780| 3.483945|         218|Independence Day ...|\n",
      "|   1210| 4.059908|         217|Star Wars: Episod...|\n",
      "|    588|3.6744187|         215|      Aladdin (1992)|\n",
      "|    590|3.7178218|         202|Dances with Wolve...|\n",
      "+-------+---------+------------+--------------------+\n",
      "only showing top 10 rows\n",
      "\n"
     ]
    }
   ],
   "source": [
    "#Sorted_Adventure_DF.show(10)"
   ]
  },
  {
   "cell_type": "markdown",
   "metadata": {},
   "source": [
    "# Selecting Rows from a DataFrame \n",
    "Conditions for selecting rows from a DataFrame can be described as <DF>.where(<condition>). In the condition, the row's value of a column can be referred to as col('<column name>').  For example, the condition below select all adventure movies whose average rating is above 3.5."
   ]
  },
  {
   "cell_type": "code",
   "execution_count": 50,
   "metadata": {},
   "outputs": [],
   "source": [
    "Top_Adventure_DF = Sorted_Adventure_DF.where(col('AvgRating')>3.0)"
   ]
  },
  {
   "cell_type": "markdown",
   "metadata": {},
   "source": [
    "## Exercise 6 (5 ponts)\n",
    "Complete the code below for selecting all adventure movies whose average rating is above 3.5 and who has received at least 100 reviews.\n"
   ]
  },
  {
   "cell_type": "code",
   "execution_count": 51,
   "metadata": {},
   "outputs": [],
   "source": [
    "Top_Adventure2_DF = Sorted_Adventure_DF.where(col('AvgRating')>3.5).where(col('TotalReviews')>100)"
   ]
  },
  {
   "cell_type": "markdown",
   "metadata": {},
   "source": [
    "## Exercise 7 (5 points)\n",
    "Commplete the following code to save the output (Adventure Movies selected by Exercise 6) as text file."
   ]
  },
  {
   "cell_type": "markdown",
   "metadata": {},
   "source": [
    "# Exercise 8 (20 points)\n",
    "Copy this Notebook (right click on the notebook icon on the left, select Duplicate) to another notebook. Rename the noteook as \"Lab4TopMovieReviews_fast\".  In that new notebook, implement a more efficient data transformation-action pipeline for obtaining all Adventure movies who have more than 50 TotalReviews, and whose average rating is higher than 3.0. Save the output in a slightly different name (e.g., \"Lab4_Sorted_Adventure_Movies_faster\"."
   ]
  },
  {
   "cell_type": "markdown",
   "metadata": {},
   "source": [
    "### The first way to reduce the cost is reducing the Cost of Join, so I reduce the size of database for join by filtering them befrom join."
   ]
  },
  {
   "cell_type": "code",
   "execution_count": 58,
   "metadata": {},
   "outputs": [
    {
     "name": "stdout",
     "output_type": "stream",
     "text": [
      "+-------+---------+------------+--------------------+\n",
      "|MovieID|AvgRating|TotalReviews|          MovieTitle|\n",
      "+-------+---------+------------+--------------------+\n",
      "|   2294|3.2735848|          53|         Antz (1998)|\n",
      "|     10|3.4508197|         122|    GoldenEye (1995)|\n",
      "|    150|   3.9025|         200|    Apollo 13 (1995)|\n",
      "|    364|   3.7775|         200|Lion King, The (1...|\n",
      "|    480|3.7062044|         274|Jurassic Park (1993)|\n",
      "|    588|3.6744187|         215|      Aladdin (1992)|\n",
      "|    590|3.7178218|         202|Dances with Wolve...|\n",
      "|    736|     3.25|         150|      Twister (1996)|\n",
      "|   1210| 4.059908|         217|Star Wars: Episod...|\n",
      "|   8636|    3.625|          84| Spider-Man 2 (2004)|\n",
      "+-------+---------+------------+--------------------+\n",
      "only showing top 10 rows\n",
      "\n"
     ]
    }
   ],
   "source": [
    "The_filtered_review=avg_review_DF.where(col('AvgRating')>3.0).where(col('TotalReviews')>50)\n",
    "joined_reduced_DF = The_filtered_review.join(movies2_DF,'MovieID', 'inner')\n",
    "Adventure_reduced_DF = joined_reduced_DF.filter(array_contains('Genres_Array', \\\n",
    "                                               \"Adventure\")).select(\"MovieID\",\"AvgRating\",\"TotalReviews\",\"MovieTitle\")\n",
    "#Adventure_reduced_DF.show(10)"
   ]
  },
  {
   "cell_type": "markdown",
   "metadata": {},
   "source": [
    "### Then I save it to file"
   ]
  },
  {
   "cell_type": "code",
   "execution_count": 59,
   "metadata": {},
   "outputs": [],
   "source": [
    "import os\n",
    "projectPath=os.environ.get('PROJECT')\n",
    "output_path = \"%s/Lab5_Sorted__fast_Adventure_Movies\"%projectPath\n",
    "Adventure_reduced_DF.rdd.saveAsTextFile(output_path)"
   ]
  }
 ],
 "metadata": {
  "kernelspec": {
   "display_name": "Python 3",
   "language": "python",
   "name": "python3"
  },
  "language_info": {
   "codemirror_mode": {
    "name": "ipython",
    "version": 3
   },
   "file_extension": ".py",
   "mimetype": "text/x-python",
   "name": "python",
   "nbconvert_exporter": "python",
   "pygments_lexer": "ipython3",
   "version": "3.8.3"
  }
 },
 "nbformat": 4,
 "nbformat_minor": 4
}
