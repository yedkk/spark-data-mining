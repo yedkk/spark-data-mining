{
 "cells": [
  {
   "cell_type": "markdown",
   "metadata": {},
   "source": [
    "## DS/CMPSC 410 Sparing 2021\n",
    "## Instructor: Professor John Yen\n",
    "## TA: Rupesh Prajapati and Dongkuan Xu\n",
    "## Lab 3: Filtering and Top Hashtags/Twitters in Tweets\n",
    "## The goals of this lab are for you to be able to\n",
    "- Implement filtering in a data stream in Spark\n",
    "- Reverse a key-value pair \n",
    "- Sort a Key Value Pairs RDD by keys\n",
    "- Filter a Key Value Pairs RDD (by key)\n",
    "- Apply the above to find top hashtags in a set of tweets\n",
    "\n",
    "## Total Number of Exercises: \n",
    "- Exercise 1: 5 points\n",
    "- Exercise 2: 10 points\n",
    "- Exercise 3: 15 points\n",
    "## Total Points: 30 points\n",
    "\n",
    "# Due: midnight, February 7, 2021"
   ]
  },
  {
   "cell_type": "markdown",
   "metadata": {},
   "source": [
    "## The first thing we need to do in each Jupyter Notebook running pyspark is to import pyspark first."
   ]
  },
  {
   "cell_type": "code",
   "execution_count": 39,
   "metadata": {},
   "outputs": [],
   "source": [
    "import pyspark"
   ]
  },
  {
   "cell_type": "markdown",
   "metadata": {},
   "source": [
    "## Once we import pyspark, we need to import an important object called \"SparkContext\".  Every spark program needs a SparkContext object"
   ]
  },
  {
   "cell_type": "code",
   "execution_count": 40,
   "metadata": {},
   "outputs": [],
   "source": [
    "from pyspark import SparkContext"
   ]
  },
  {
   "cell_type": "markdown",
   "metadata": {},
   "source": [
    "## We then create a Spark Context variable.  Once we have a spark context variable, we can execute spark codes."
   ]
  },
  {
   "cell_type": "code",
   "execution_count": 41,
   "metadata": {},
   "outputs": [],
   "source": [
    "sc=SparkContext(\"local\", \"Lab3\")\n"
   ]
  },
  {
   "cell_type": "code",
   "execution_count": 38,
   "metadata": {},
   "outputs": [],
   "source": [
    "sc.stop()"
   ]
  },
  {
   "cell_type": "markdown",
   "metadata": {},
   "source": [
    "## Exercise 1 (5 points) (a) Add your name below AND (b) replace the path below with the path of your home directory.\n",
    "## Answer for Exercise 1\n",
    "## - a: Your Name:Kangdong Yuan"
   ]
  },
  {
   "cell_type": "code",
   "execution_count": 42,
   "metadata": {},
   "outputs": [
    {
     "data": {
      "text/plain": [
       "/storage/home/kky5082/ds410/lab3/TweetsClimateChangeSentiment .csv MapPartitionsRDD[1] at textFile at NativeMethodAccessorImpl.java:0"
      ]
     },
     "execution_count": 42,
     "metadata": {},
     "output_type": "execute_result"
    }
   ],
   "source": [
    "text_RDD = sc.textFile(\"/storage/home/kky5082/ds410/lab3/TweetsClimateChangeSentiment .csv\")\n",
    "text_RDD"
   ]
  },
  {
   "cell_type": "code",
   "execution_count": 43,
   "metadata": {},
   "outputs": [],
   "source": [
    "token_RDD = text_RDD.flatMap(lambda line: line.strip().split(\" \"))\n"
   ]
  },
  {
   "cell_type": "markdown",
   "metadata": {},
   "source": [
    "# Filtering an RDD\n",
    "\n",
    "## The syntax for filter (one type of data trasnformation in spark) is\n",
    "## RDD.filter(lambda parameter : condition ) ##\n",
    "## Notice the syntax is not what is described in p. 38 of the textbook.\n",
    "##  The result of filtering the input RDD is the collection of all elements that pass the filter condition (i.e., returns True when the filtering condition is applied to the parameter. \n",
    "## For example, the filtering condition in the pyspark conde below checks whether each element of the input RDD (i.e., token_RDD) starts with the character \"#\", using Python startswith() method for string."
   ]
  },
  {
   "cell_type": "code",
   "execution_count": 44,
   "metadata": {},
   "outputs": [
    {
     "data": {
      "text/plain": [
       "PythonRDD[2] at RDD at PythonRDD.scala:53"
      ]
     },
     "execution_count": 44,
     "metadata": {},
     "output_type": "execute_result"
    }
   ],
   "source": [
    "hashtag_RDD = token_RDD.filter(lambda token : token.startswith(\"#\"))\n",
    "hashtag_RDD"
   ]
  },
  {
   "cell_type": "code",
   "execution_count": 45,
   "metadata": {},
   "outputs": [
    {
     "data": {
      "text/plain": [
       "PythonRDD[3] at RDD at PythonRDD.scala:53"
      ]
     },
     "execution_count": 45,
     "metadata": {},
     "output_type": "execute_result"
    }
   ],
   "source": [
    "hashtag_count_RDD = hashtag_RDD.map(lambda hashtag: (hashtag, 1))\n",
    "hashtag_count_RDD"
   ]
  },
  {
   "cell_type": "code",
   "execution_count": 46,
   "metadata": {},
   "outputs": [
    {
     "data": {
      "text/plain": [
       "PythonRDD[8] at RDD at PythonRDD.scala:53"
      ]
     },
     "execution_count": 46,
     "metadata": {},
     "output_type": "execute_result"
    }
   ],
   "source": [
    "hashtag_total_RDD = hashtag_count_RDD.reduceByKey(lambda a, b: a + b, 1)\n",
    "hashtag_total_RDD"
   ]
  },
  {
   "cell_type": "code",
   "execution_count": 47,
   "metadata": {},
   "outputs": [
    {
     "data": {
      "text/plain": [
       "PythonRDD[9] at RDD at PythonRDD.scala:53"
      ]
     },
     "execution_count": 47,
     "metadata": {},
     "output_type": "execute_result"
    }
   ],
   "source": [
    "total_hashtag_RDD = hashtag_total_RDD.map(lambda x: tuple(reversed(x)) )\n",
    "total_hashtag_RDD"
   ]
  },
  {
   "cell_type": "code",
   "execution_count": 48,
   "metadata": {},
   "outputs": [],
   "source": [
    "sorted_total_hashtag_RDD = total_hashtag_RDD.sortByKey(ascending=False)\n"
   ]
  },
  {
   "cell_type": "markdown",
   "metadata": {},
   "source": [
    "## Exercise 2 (10 points) Complete the code below to obtain hashtags that occured at least n time in this set of tweets. You can choose n to be any integer.\n"
   ]
  },
  {
   "cell_type": "code",
   "execution_count": 49,
   "metadata": {},
   "outputs": [],
   "source": [
    "n = 5\n",
    "top_count_hashtags_RDD = sorted_total_hashtag_RDD.filter(lambda x: x[0]>n )"
   ]
  },
  {
   "cell_type": "code",
   "execution_count": 50,
   "metadata": {},
   "outputs": [
    {
     "data": {
      "text/plain": [
       "[(81, '#climatechange'),\n",
       " (45, '#ClimateChange'),\n",
       " (16, '#IPCC'),\n",
       " (14, '#HurricaneMichael'),\n",
       " (13, '#GlobalWarming'),\n",
       " (12, '#auspol'),\n",
       " (10, '#science'),\n",
       " (9, '#climate'),\n",
       " (9, '#globalwarming'),\n",
       " (8, '#ClimateChangeIsReal'),\n",
       " (6, '#ClimateAction'),\n",
       " (6, '#Michael'),\n",
       " (6, '#climateaction')]"
      ]
     },
     "execution_count": 50,
     "metadata": {},
     "output_type": "execute_result"
    }
   ],
   "source": [
    "top_count_hashtags_RDD.collect()"
   ]
  },
  {
   "cell_type": "markdown",
   "metadata": {},
   "source": [
    "## Exercise 3 (15 points) \n",
    "Complete pyspark code below to \n",
    "- (a) Compute total counts of all hashtags in the vaccination_tweets (5 points)\n",
    "- (b) Sort the count of hashtags in descending order. (5 points)\n",
    "- (c) Save all hashtags that have occured at least 10 times. (5 points)"
   ]
  },
  {
   "cell_type": "markdown",
   "metadata": {},
   "source": [
    "## Code for Exercise 3: "
   ]
  },
  {
   "cell_type": "code",
   "execution_count": 51,
   "metadata": {},
   "outputs": [
    {
     "data": {
      "text/plain": [
       "/storage/home/kky5082/ds410/lab3/vaccination_tweets_2 .csv MapPartitionsRDD[12] at textFile at NativeMethodAccessorImpl.java:0"
      ]
     },
     "execution_count": 51,
     "metadata": {},
     "output_type": "execute_result"
    }
   ],
   "source": [
    "text2_RDD = sc.textFile(\"/storage/home/kky5082/ds410/lab3/vaccination_tweets_2 .csv\")\n",
    "text2_RDD "
   ]
  },
  {
   "cell_type": "code",
   "execution_count": 52,
   "metadata": {},
   "outputs": [
    {
     "data": {
      "text/plain": [
       "PythonRDD[13] at RDD at PythonRDD.scala:53"
      ]
     },
     "execution_count": 52,
     "metadata": {},
     "output_type": "execute_result"
    }
   ],
   "source": [
    "token2_RDD = text2_RDD.flatMap(lambda line: line.strip().split(\" \"))\n",
    "token2_RDD"
   ]
  },
  {
   "cell_type": "code",
   "execution_count": 53,
   "metadata": {},
   "outputs": [
    {
     "data": {
      "text/plain": [
       "PythonRDD[14] at RDD at PythonRDD.scala:53"
      ]
     },
     "execution_count": 53,
     "metadata": {},
     "output_type": "execute_result"
    }
   ],
   "source": [
    "hashtag2_RDD = token2_RDD.filter(lambda token : token.startswith(\"#\"))\n",
    "hashtag2_RDD"
   ]
  },
  {
   "cell_type": "code",
   "execution_count": 54,
   "metadata": {},
   "outputs": [
    {
     "data": {
      "text/plain": [
       "PythonRDD[15] at RDD at PythonRDD.scala:53"
      ]
     },
     "execution_count": 54,
     "metadata": {},
     "output_type": "execute_result"
    }
   ],
   "source": [
    "hashtag_count2_RDD = hashtag2_RDD.map(lambda hashtag: (hashtag, 1))\n",
    "hashtag_count2_RDD"
   ]
  },
  {
   "cell_type": "code",
   "execution_count": 55,
   "metadata": {},
   "outputs": [
    {
     "data": {
      "text/plain": [
       "PythonRDD[20] at RDD at PythonRDD.scala:53"
      ]
     },
     "execution_count": 55,
     "metadata": {},
     "output_type": "execute_result"
    }
   ],
   "source": [
    "hashtag_total2_RDD = hashtag_count2_RDD.reduceByKey(lambda a, b: a + b, 1)\n",
    "hashtag_total2_RDD"
   ]
  },
  {
   "cell_type": "code",
   "execution_count": 56,
   "metadata": {},
   "outputs": [
    {
     "data": {
      "text/plain": [
       "PythonRDD[21] at RDD at PythonRDD.scala:53"
      ]
     },
     "execution_count": 56,
     "metadata": {},
     "output_type": "execute_result"
    }
   ],
   "source": [
    "total_hashtag2_RDD = hashtag_total2_RDD.map(lambda x: tuple(reversed(x)) )\n",
    "total_hashtag2_RDD"
   ]
  },
  {
   "cell_type": "code",
   "execution_count": 57,
   "metadata": {},
   "outputs": [],
   "source": [
    "sorted_total2_hashtag_RDD = total_hashtag2_RDD.sortByKey(ascending=False)\n"
   ]
  },
  {
   "cell_type": "code",
   "execution_count": 58,
   "metadata": {},
   "outputs": [],
   "source": [
    "n = 10\n",
    "top_count2_hashtags_RDD = sorted_total2_hashtag_RDD.filter(lambda x: x[0]>n )"
   ]
  },
  {
   "cell_type": "code",
   "execution_count": 59,
   "metadata": {},
   "outputs": [
    {
     "data": {
      "text/plain": [
       "[(2024, '#PfizerBioNTech'),\n",
       " (480, '#COVID19'),\n",
       " (333, '#vaccine'),\n",
       " (317, '#CovidVaccine'),\n",
       " (189, '#Pfizer'),\n",
       " (133, '#PfizerBioNTech…'),\n",
       " (125, '#Moderna'),\n",
       " (111, '#coronavirus'),\n",
       " (96, '#PfizerVaccine'),\n",
       " (73, '#vaccination'),\n",
       " (68, '#Covid19'),\n",
       " (67, '#AstraZeneca'),\n",
       " (64, '#Pfizervaccine'),\n",
       " (61, '#vaccines'),\n",
       " (55, '#NHS'),\n",
       " (53, '#COVID19Vaccine'),\n",
       " (50, '#COVID19…'),\n",
       " (48, '#PfizerCovidVaccine'),\n",
       " (48, '#BLM'),\n",
       " (47, '#Pfizer…'),\n",
       " (46, '#Vaccine'),\n",
       " (44, '#Covid_19'),\n",
       " (41, '#COVIDVaccination'),\n",
       " (37, '#Diabetes'),\n",
       " (35, '#ItsNotJustCovid'),\n",
       " (35, '#ContinuityOfCare'),\n",
       " (35, '#3.5%'),\n",
       " (34, '#FBPE,Cornwall'),\n",
       " (34, '#RejoinEU,'),\n",
       " (34, '#ProEU'),\n",
       " (34, '#GTTO\",7/18/11'),\n",
       " (33, '#covid19'),\n",
       " (31, '#BioNTech'),\n",
       " (30, '#vaccinated'),\n",
       " (28, '#vaccine…'),\n",
       " (28, '#Dubai'),\n",
       " (27, '#pfizerbiontech'),\n",
       " (26, '#EU'),\n",
       " (26, '#Israel'),\n",
       " (26, '#news'),\n",
       " (25, '#PatientsAtTheCentre'),\n",
       " (24, '#Iran'),\n",
       " (24, '#CovidVaccine…'),\n",
       " (24, '#UK'),\n",
       " (24, '#mRNA'),\n",
       " (24, '#COVID'),\n",
       " (23, '#2'),\n",
       " (23, '#Canada'),\n",
       " (23, '#FBPE'),\n",
       " (23, '#RejoinEU'),\n",
       " (22, '#oxfordastrazeneca'),\n",
       " (21, '#CoronavirusVaccine'),\n",
       " (21, '#COVID19vaccine'),\n",
       " (21, '#CoronaVaccine'),\n",
       " (19, '#US'),\n",
       " (19, '#covid'),\n",
       " (19, '#Qatar'),\n",
       " (19, '#modernavaccine'),\n",
       " (19, '#covidvaccines'),\n",
       " (19, '#Norway'),\n",
       " (18, '#VaccinesWork'),\n",
       " (18, '#1'),\n",
       " (18, '#PfizerVaccine…'),\n",
       " (17, \"#PfizerBioNTech's\"),\n",
       " (17, \"#PfizerBioNTech,['PfizerBioNTech'],Twitter\"),\n",
       " (17, '#Asia'),\n",
       " (17, '#PfizerCOVIDvaccine'),\n",
       " (16, '#Doha,7/25/09'),\n",
       " (16, '#WHO'),\n",
       " (15, '#technology'),\n",
       " (15, '#PfizerBioNTech.'),\n",
       " (15, '#Sinovac'),\n",
       " (15, '#tech'),\n",
       " (15, '#covidvacccine'),\n",
       " (15, '#COVIDvaccines'),\n",
       " (15, '#GTTO,,\"With'),\n",
       " (14, '#coronavirus…'),\n",
       " (14, '#COVIDー19'),\n",
       " (14, '#Emirati'),\n",
       " (14, '#Politics'),\n",
       " (13, '#SARSCoV2'),\n",
       " (13, '#FDA'),\n",
       " (13, '#HumanRights'),\n",
       " (13, '#Coronavirus'),\n",
       " (13, '#digital'),\n",
       " (13, '#Moderna…'),\n",
       " (13, '#counterTerrorism,'),\n",
       " (13, '#الله_ثم_الوطن_ثم_رئيس_الدولة'),\n",
       " (13, '#Covid'),\n",
       " (13, '#vaccinations'),\n",
       " (13, '#vaccines.…'),\n",
       " (12, '#SputnikV'),\n",
       " (12, '#Pfizervaccine…'),\n",
       " (12, '#vaccine,'),\n",
       " (12, '#healthcare'),\n",
       " (12, '#FMcy\",9/29/10'),\n",
       " (12, '#Chronoptimist'),\n",
       " (12, '#TeamGP💙Trainer'),\n",
       " (12, '#Covid19UK'),\n",
       " (12, '#vaccine.'),\n",
       " (12, '#USA'),\n",
       " (12, '#COVID20'),\n",
       " (12, '#Vaccin'),\n",
       " (12, '#PfizerBioNTech,'),\n",
       " (12, '#OxfordVaccine'),\n",
       " (12, '#FBPE🇪🇺🇬🇧🇭🇺,Earth,\"\"\"It'),\n",
       " (12, '#History'),\n",
       " (12, '#ElectoralReform'),\n",
       " (12, '#WHUFC\",9/22/17'),\n",
       " (11, '#oxfordvaccine'),\n",
       " (11, '#Turkey'),\n",
       " (11, '#littleBRIC:'),\n",
       " (11, '#GetVaccinated'),\n",
       " (11, '#PfizerBioNTech\",[\\'PfizerBioNTech\\'],Twitter')]"
      ]
     },
     "execution_count": 59,
     "metadata": {},
     "output_type": "execute_result"
    }
   ],
   "source": [
    "top_count2_hashtags_RDD.collect()"
   ]
  },
  {
   "cell_type": "code",
   "execution_count": 60,
   "metadata": {},
   "outputs": [],
   "source": [
    "output_path = \"/storage/home/kky5082/ds410/lab3/Lab3_ouput_top_hashtag.txt\"\n",
    "top_count2_hashtags_RDD.saveAsTextFile(output_path)"
   ]
  }
 ],
 "metadata": {
  "kernelspec": {
   "display_name": "Python 3",
   "language": "python",
   "name": "python3"
  },
  "language_info": {
   "codemirror_mode": {
    "name": "ipython",
    "version": 3
   },
   "file_extension": ".py",
   "mimetype": "text/x-python",
   "name": "python",
   "nbconvert_exporter": "python",
   "pygments_lexer": "ipython3",
   "version": "3.8.3"
  }
 },
 "nbformat": 4,
 "nbformat_minor": 4
}
